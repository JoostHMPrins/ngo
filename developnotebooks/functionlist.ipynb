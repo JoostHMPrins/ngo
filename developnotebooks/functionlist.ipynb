{
 "cells": [
  {
   "cell_type": "code",
   "execution_count": 1,
   "metadata": {},
   "outputs": [],
   "source": [
    "import sys\n",
    "\n",
    "sys.path.insert(0,'../testproblems/darcy')\n",
    "from darcy_mfs import *\n",
    "\n",
    "sys.path.insert(0,'../trainingdata')\n",
    "from datasaver import save_function_list"
   ]
  },
  {
   "cell_type": "code",
   "execution_count": null,
   "metadata": {},
   "outputs": [],
   "source": [
    "hparams = {}\n",
    "hparams['N_samples'] = 10\n",
    "hparams['d'] = 2\n",
    "hparams['l_min'] = 0.01\n",
    "hparams['l_max'] = 1\n",
    "\n",
    "dataset = ManufacturedSolutionsSetDarcy(N_samples=hparams['N_samples'], d=hparams['d'], l_min=hparams['l_min'], l_max=hparams['l_max'])\n",
    "\n",
    "save_function_list(hparams=hparams, variable='theta', function_list=dataset.theta, savedir='../../trainingdata/darcy_mfs_l1e-2to1e0')"
   ]
  }
 ],
 "metadata": {
  "kernelspec": {
   "display_name": "Python 3",
   "language": "python",
   "name": "python3"
  },
  "language_info": {
   "codemirror_mode": {
    "name": "ipython",
    "version": 3
   },
   "file_extension": ".py",
   "mimetype": "text/x-python",
   "name": "python",
   "nbconvert_exporter": "python",
   "pygments_lexer": "ipython3",
   "version": "3.10.9"
  }
 },
 "nbformat": 4,
 "nbformat_minor": 2
}
