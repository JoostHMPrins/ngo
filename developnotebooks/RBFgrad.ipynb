{
 "cells": [
  {
   "cell_type": "code",
   "execution_count": 1,
   "id": "a321bd4f-5e0f-4cc0-8d13-e087c86ef3eb",
   "metadata": {},
   "outputs": [],
   "source": [
    "import torch\n",
    "\n",
    "import sys\n",
    "sys.path.insert(0, '../ml')\n",
    "from customlayers import *"
   ]
  },
  {
   "cell_type": "code",
   "execution_count": 2,
   "id": "53c7a51b-ca48-49ad-ab4f-f595f811d38b",
   "metadata": {},
   "outputs": [],
   "source": [
    "input_dim = 2\n",
    "output_dim = 72\n",
    "\n",
    "hparams = {'accelerator': 'gpu',\n",
    "           'devices': [1],\n",
    "           'dtype': torch.float64,\n",
    "           'precision': 64,\n",
    "           'loss_coeffs': [1],\n",
    "           'optimizer': torch.optim.Adam, \n",
    "           'learning_rate': 1e-4,\n",
    "           'batch_size': 100,\n",
    "           'max_epochs': 5000,\n",
    "           'early_stopping_patience': 1000000,\n",
    "           'VarMiON': False,\n",
    "           'Q': 72,\n",
    "           'Q_L': 5,\n",
    "           'latent_dim': 72, \n",
    "           'bias_NLBranch': False,\n",
    "           'bias_LBranch': False,\n",
    "           'NLB_outputactivation': nn.Tanhshrink(),\n",
    "           'Cholesky': False,\n",
    "           'scale_invariance': True,\n",
    "           'norm_basis': False,\n",
    "           'bound_mus': False,\n",
    "           '1/theta': False,\n",
    "           'symgroupavg': False,\n",
    "           'NOMAD': False}\n",
    "\n",
    "params = {}\n",
    "simparams = {'d': 2}\n",
    "params['simparams'] = simparams\n",
    "params['hparams'] = hparams"
   ]
  },
  {
   "cell_type": "code",
   "execution_count": 3,
   "id": "7206cb94-03e0-47c1-8798-1ab9658d2326",
   "metadata": {},
   "outputs": [],
   "source": [
    "model = GaussianRBF(params, input_dim, output_dim)"
   ]
  },
  {
   "cell_type": "code",
   "execution_count": 4,
   "id": "ce40c2b1-d114-4727-bdbe-316131af2220",
   "metadata": {},
   "outputs": [],
   "source": [
    "x = torch.rand((100,268,2))"
   ]
  },
  {
   "cell_type": "code",
   "execution_count": 5,
   "id": "5defe6d5-f8b1-4452-87ca-07e606caef14",
   "metadata": {},
   "outputs": [
    {
     "data": {
      "text/plain": [
       "torch.Size([100, 268, 72])"
      ]
     },
     "execution_count": 5,
     "metadata": {},
     "output_type": "execute_result"
    }
   ],
   "source": [
    "model.forward(x).shape"
   ]
  },
  {
   "cell_type": "code",
   "execution_count": 6,
   "id": "561ec0b5-254c-41a8-b36c-c337e3ff7e05",
   "metadata": {},
   "outputs": [
    {
     "data": {
      "text/plain": [
       "torch.Size([100, 268, 72, 2])"
      ]
     },
     "execution_count": 6,
     "metadata": {},
     "output_type": "execute_result"
    }
   ],
   "source": [
    "model.grad(x).shape"
   ]
  },
  {
   "cell_type": "code",
   "execution_count": 7,
   "id": "7874d2fc-83c1-4ab0-8033-55874dfca43b",
   "metadata": {},
   "outputs": [
    {
     "data": {
      "text/plain": [
       "torch.Size([100, 268, 72])"
      ]
     },
     "execution_count": 7,
     "metadata": {},
     "output_type": "execute_result"
    }
   ],
   "source": [
    "model.laplacian(x).shape"
   ]
  },
  {
   "cell_type": "code",
   "execution_count": null,
   "id": "a642a0c9-0cc0-47dd-b079-776854c8932e",
   "metadata": {},
   "outputs": [],
   "source": []
  }
 ],
 "metadata": {
  "kernelspec": {
   "display_name": "Python 3 (ipykernel)",
   "language": "python",
   "name": "python3"
  },
  "language_info": {
   "codemirror_mode": {
    "name": "ipython",
    "version": 3
   },
   "file_extension": ".py",
   "mimetype": "text/x-python",
   "name": "python",
   "nbconvert_exporter": "python",
   "pygments_lexer": "ipython3",
   "version": "3.10.9"
  }
 },
 "nbformat": 4,
 "nbformat_minor": 5
}
