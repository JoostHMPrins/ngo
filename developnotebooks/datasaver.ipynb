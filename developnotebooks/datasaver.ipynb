{
 "cells": [
  {
   "cell_type": "code",
   "execution_count": 1,
   "id": "457ba738-d291-46d5-849e-c34c355bb93f",
   "metadata": {},
   "outputs": [],
   "source": [
    "import os"
   ]
  },
  {
   "cell_type": "code",
   "execution_count": null,
   "id": "bb3b5e08-1157-4ebe-8e12-8c3532becba7",
   "metadata": {},
   "outputs": [],
   "source": [
    "def save_data(LBmodelparams, simparams, t_array, rho_array, u_array, feq_array, f1_array, f2_array, dumpdir, label):\n",
    "    \n",
    "    logfolder = '../../../../../simdata'\n",
    "        \n",
    "    d, q, w, c, cs2 = list(LBmodelparams.values())\n",
    "    tau, nx, ny, u0, kx, ky, Fx, Fy, u_wall, Kn, L, N_part, xi_s, xi_r_max, niter, dumpit = list(simparams.values())\n",
    "    \n",
    "    LBparams = {'d':d, 'q':q}\n",
    "    \n",
    "    params = {'LBmodelparams':LBparams, 'simparams':simparams}  \n",
    "    \n",
    "    if not os.path.isdir(logfolder + '/' + dumpdir):\n",
    "        os.makedirs(logfolder + '/' + dumpdir)\n",
    "    \n",
    "    if label==None:\n",
    "        savedir = dumpdir + '/d' + str(d) + '_q' + str(q) + '_tau' + str(tau) + '_nx' + str(nx) + '_ny' + str(ny) + '_u0' + str(u0) + '_kx' + str(kx) + '_ky' + str(ky) + '_niter' + str(niter) + '_dumpit' + str(dumpit)\n",
    "    else:\n",
    "        savedir = logfolder + '/' + dumpdir + '/' + label\n",
    "    \n",
    "    if not os.path.isdir(savedir):\n",
    "        os.makedirs(savedir)\n",
    "        \n",
    "    with open(savedir + '/params.json', 'w') as fp:\n",
    "        json.dump(params, fp)\n",
    "    \n",
    "    np.save(savedir + '/t.npy', t_array)\n",
    "    np.save(savedir + '/rho.npy', rho_array)\n",
    "    np.save(savedir + '/u.npy', u_array)\n",
    "    np.save(savedir + '/f_eq.npy', feq_array)\n",
    "    np.save(savedir + '/f_pre.npy', f1_array)\n",
    "    np.save(savedir + '/f_post.npy', f2_array)\n",
    "    \n",
    "    return"
   ]
  },
  {
   "cell_type": "code",
   "execution_count": null,
   "id": "12e10ccc-96e4-49b5-b2fd-5452b632ded7",
   "metadata": {},
   "outputs": [],
   "source": [
    "def savedata(simparams, data, savedir, label):\n",
    "    \n",
    "    if not os.path.isdir(savedir+'/'+label):\n",
    "        os.makedirs(savedir+'/'+label)\n",
    "        \n",
    "    with open(savedir+'/'+label+'/params.json', 'w') as fp:\n",
    "        json.dump(params, fp)\n",
    "    \n",
    "    for array in data:        \n",
    "        np.save(savedir+'/'+label+'/'+str(array), array)"
   ]
  }
 ],
 "metadata": {
  "kernelspec": {
   "display_name": "Python 3 (ipykernel)",
   "language": "python",
   "name": "python3"
  },
  "language_info": {
   "codemirror_mode": {
    "name": "ipython",
    "version": 3
   },
   "file_extension": ".py",
   "mimetype": "text/x-python",
   "name": "python",
   "nbconvert_exporter": "python",
   "pygments_lexer": "ipython3",
   "version": "3.10.9"
  }
 },
 "nbformat": 4,
 "nbformat_minor": 5
}
