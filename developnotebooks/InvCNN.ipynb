{
 "cells": [
  {
   "cell_type": "code",
   "execution_count": 1,
   "id": "23fc94e9-3502-4bf8-b4b6-67d916d56a7a",
   "metadata": {},
   "outputs": [],
   "source": [
    "import numpy as np\n",
    "import torch\n",
    "\n",
    "import sys\n",
    "sys.path.insert(0, '../ml')\n",
    "from customlayers import *"
   ]
  },
  {
   "cell_type": "code",
   "execution_count": 2,
   "id": "64612148-4611-4663-9114-0c2081b42e5f",
   "metadata": {},
   "outputs": [],
   "source": [
    "%load_ext autoreload\n",
    "%autoreload 2"
   ]
  },
  {
   "cell_type": "code",
   "execution_count": 41,
   "id": "6a3348d8-1ced-4e37-a51f-c8c8cde3aaa0",
   "metadata": {},
   "outputs": [],
   "source": [
    "hparams = {'accelerator': 'gpu',\n",
    "           'devices': [0],\n",
    "           'dtype': torch.float64,\n",
    "           'precision': 64,\n",
    "           'loss_terms': [F.mse_loss],\n",
    "           'loss_coeffs': [1],\n",
    "           'optimizer': torch.optim.Adam, \n",
    "           'learning_rate': 1e-4,\n",
    "           'batch_size': 100,\n",
    "           'max_epochs': 5000,\n",
    "           'early_stopping_patience': 1000000,\n",
    "           'DeepONet': False,\n",
    "           'VarMiON': True,\n",
    "           'NGO': False,\n",
    "           'Q': 12,\n",
    "           'Q_L': 268,\n",
    "           'h': 64, \n",
    "           'Petrov-Galerkin': False,\n",
    "           'bias_NLBranch': False,\n",
    "           'bias_LBranch': False,\n",
    "           'NLB_outputactivation': nn.Tanhshrink(),\n",
    "           'Cholesky': False,\n",
    "           'scale_invariance': False,\n",
    "           'norm_basis': True,\n",
    "           'bound_mus': False,\n",
    "           '1/theta': False,\n",
    "           'symgroupavg': False,\n",
    "           'NOMAD': False}\n",
    "\n",
    "params = {}\n",
    "params['hparams'] = {}\n",
    "params['hparams'] = hparams"
   ]
  },
  {
   "cell_type": "code",
   "execution_count": 313,
   "id": "0322e7fd-0d15-4cb4-8b4d-24fc77fe75d9",
   "metadata": {},
   "outputs": [],
   "source": [
    "class InvCNN(nn.Module):\n",
    "    def __init__(self, params):\n",
    "        super().__init__()\n",
    "        self.hparams = params['hparams']\n",
    "        self.layers = nn.ModuleList()\n",
    "        self.channels = 1\n",
    "        \n",
    "        # Adjusted convolutional layers\n",
    "        self.layers.append(ReshapeLayer(output_shape=(1,self.hparams['h'],self.hparams['h'])))\n",
    "        self.layers.append(nn.Conv2d(in_channels=1, out_channels=self.channels, kernel_size=2, stride=2, bias=self.hparams.get('bias_NLBranch', True)))\n",
    "        self.layers.append(nn.ReLU())\n",
    "        self.layers.append(nn.BatchNorm2d(num_features=self.channels, eps=1e-05, momentum=0.1, affine=True, track_running_stats=True))\n",
    "        self.layers.append(nn.Conv2d(in_channels=self.channels, out_channels=self.channels, kernel_size=2, stride=2, bias=self.hparams.get('bias_NLBranch', True)))\n",
    "        self.layers.append(nn.ReLU())\n",
    "        self.layers.append(nn.BatchNorm2d(num_features=self.channels, eps=1e-05, momentum=0.1, affine=True, track_running_stats=True))\n",
    "        self.layers.append(nn.Conv2d(in_channels=self.channels, out_channels=self.channels, kernel_size=2, stride=2, bias=self.hparams.get('bias_NLBranch', True)))\n",
    "        self.layers.append(nn.ReLU())\n",
    "        self.layers.append(nn.Conv2d(in_channels=self.channels, out_channels=1, kernel_size=2, stride=2, bias=self.hparams.get('bias_NLBranch', True)))\n",
    "        self.layers.append(ReshapeLayer(output_shape=(self.channels,int(self.hparams['h']/16),int(self.hparams['h']/16))))\n",
    "        self.layers.append(nn.ReLU())\n",
    "        self.layers.append(InversionLayer())\n",
    "        self.layers.append(ReshapeLayer(output_shape=(self.channels, int(self.hparams['h']/16),int(self.hparams['h']/16))))\n",
    "        self.layers.append(nn.ConvTranspose2d(self.channels, self.channels, kernel_size=2, stride=2, bias=self.hparams.get('bias_NLBranch', True)))\n",
    "        self.layers.append(nn.ReLU())\n",
    "        self.layers.append(nn.BatchNorm2d(num_features=self.channels, eps=1e-05, momentum=0.1, affine=True, track_running_stats=True))\n",
    "        self.layers.append(nn.ConvTranspose2d(self.channels, self.channels, kernel_size=2, stride=2, bias=self.hparams.get('bias_NLBranch', True)))\n",
    "        self.layers.append(nn.ReLU())\n",
    "        self.layers.append(nn.BatchNorm2d(num_features=self.channels, eps=1e-05, momentum=0.1, affine=True, track_running_stats=True))\n",
    "        self.layers.append(nn.ConvTranspose2d(self.channels, self.channels, kernel_size=2, stride=2, bias=self.hparams.get('bias_NLBranch', True)))\n",
    "        self.layers.append(nn.ReLU())\n",
    "        self.layers.append(nn.ConvTranspose2d(self.channels, 1, kernel_size=2, stride=2, bias=self.hparams.get('bias_NLBranch', True)))\n",
    "        self.layers.append(ReshapeLayer(output_shape=(self.hparams['h'],self.hparams['h'])))\n",
    "        if self.hparams['NLB_outputactivation'] is not None:\n",
    "            self.layers.append(self.hparams['NLB_outputactivation'])\n",
    "\n",
    "    def forward(self, x):\n",
    "        for layer in self.layers:\n",
    "            x = layer(x)\n",
    "        y = x\n",
    "        return y"
   ]
  },
  {
   "cell_type": "code",
   "execution_count": 314,
   "id": "4a459436-64a6-496f-9306-c49a146e4c68",
   "metadata": {},
   "outputs": [],
   "source": [
    "x = torch.rand(hparams['batch_size'],hparams['h'],hparams['h'])"
   ]
  },
  {
   "cell_type": "code",
   "execution_count": 315,
   "id": "58ddae4e-8ddb-4a1b-acc8-5cd98e14db3b",
   "metadata": {},
   "outputs": [],
   "source": [
    "model = InvCNN(params)"
   ]
  },
  {
   "cell_type": "code",
   "execution_count": 316,
   "id": "6439bf3c-7c3a-4315-b709-b1bdeb9f6a41",
   "metadata": {},
   "outputs": [
    {
     "data": {
      "text/plain": [
       "40"
      ]
     },
     "execution_count": 316,
     "metadata": {},
     "output_type": "execute_result"
    }
   ],
   "source": [
    "sum(p.numel() for p in model.parameters())"
   ]
  },
  {
   "cell_type": "code",
   "execution_count": 317,
   "id": "dddf0da3-0cb8-49fe-b5e6-9d2a0b9816ab",
   "metadata": {},
   "outputs": [
    {
     "data": {
      "text/plain": [
       "tensor([[[ 3.0361e-07, -1.4789e-06,  3.4459e-08,  ...,  0.0000e+00,\n",
       "           0.0000e+00,  0.0000e+00],\n",
       "         [-1.4026e-06,  1.2247e-06, -1.5879e-07,  ...,  0.0000e+00,\n",
       "           0.0000e+00,  0.0000e+00],\n",
       "         [ 0.0000e+00,  0.0000e+00,  0.0000e+00,  ..., -5.8208e-11,\n",
       "           2.7940e-09, -1.4203e-08],\n",
       "         ...,\n",
       "         [-1.4026e-06,  1.2247e-06, -1.5879e-07,  ...,  1.6065e-08,\n",
       "          -2.0955e-09,  1.8626e-09],\n",
       "         [ 0.0000e+00,  0.0000e+00,  0.0000e+00,  ...,  0.0000e+00,\n",
       "           0.0000e+00,  0.0000e+00],\n",
       "         [ 0.0000e+00,  0.0000e+00,  0.0000e+00,  ...,  0.0000e+00,\n",
       "           0.0000e+00,  0.0000e+00]],\n",
       "\n",
       "        [[ 3.0361e-07, -1.4789e-06,  3.4459e-08,  ...,  0.0000e+00,\n",
       "           0.0000e+00,  0.0000e+00],\n",
       "         [-1.4026e-06,  1.2247e-06, -1.5879e-07,  ...,  0.0000e+00,\n",
       "           0.0000e+00,  0.0000e+00],\n",
       "         [ 0.0000e+00,  0.0000e+00,  0.0000e+00,  ..., -5.8208e-11,\n",
       "           2.7940e-09, -1.4203e-08],\n",
       "         ...,\n",
       "         [-1.4026e-06,  1.2247e-06, -1.5879e-07,  ...,  1.6065e-08,\n",
       "          -2.0955e-09,  1.8626e-09],\n",
       "         [ 0.0000e+00,  0.0000e+00,  0.0000e+00,  ...,  0.0000e+00,\n",
       "           0.0000e+00,  0.0000e+00],\n",
       "         [ 0.0000e+00,  0.0000e+00,  0.0000e+00,  ...,  0.0000e+00,\n",
       "           0.0000e+00,  0.0000e+00]],\n",
       "\n",
       "        [[ 3.0361e-07, -1.4789e-06,  3.4459e-08,  ...,  0.0000e+00,\n",
       "           0.0000e+00,  0.0000e+00],\n",
       "         [-1.4026e-06,  1.2247e-06, -1.5879e-07,  ...,  0.0000e+00,\n",
       "           0.0000e+00,  0.0000e+00],\n",
       "         [ 0.0000e+00,  0.0000e+00,  0.0000e+00,  ..., -5.8208e-11,\n",
       "           2.7940e-09, -1.4203e-08],\n",
       "         ...,\n",
       "         [ 0.0000e+00,  0.0000e+00,  0.0000e+00,  ...,  1.6065e-08,\n",
       "          -2.0955e-09,  1.8626e-09],\n",
       "         [ 2.6528e-05, -1.2915e-04,  4.3017e-03,  ...,  0.0000e+00,\n",
       "           0.0000e+00,  0.0000e+00],\n",
       "         [-1.2246e-04,  1.0692e-04, -1.9143e-02,  ...,  0.0000e+00,\n",
       "           0.0000e+00,  0.0000e+00]],\n",
       "\n",
       "        ...,\n",
       "\n",
       "        [[ 3.0361e-07, -1.4789e-06,  3.4459e-08,  ...,  0.0000e+00,\n",
       "           0.0000e+00,  0.0000e+00],\n",
       "         [-1.4026e-06,  1.2247e-06, -1.5879e-07,  ...,  0.0000e+00,\n",
       "           0.0000e+00,  0.0000e+00],\n",
       "         [ 0.0000e+00,  0.0000e+00,  0.0000e+00,  ..., -5.8208e-11,\n",
       "           2.7940e-09, -1.4203e-08],\n",
       "         ...,\n",
       "         [-1.4026e-06,  1.2247e-06, -1.5879e-07,  ...,  1.6065e-08,\n",
       "          -2.0955e-09,  1.8626e-09],\n",
       "         [ 0.0000e+00,  0.0000e+00,  0.0000e+00,  ...,  0.0000e+00,\n",
       "           0.0000e+00,  0.0000e+00],\n",
       "         [ 0.0000e+00,  0.0000e+00,  0.0000e+00,  ...,  0.0000e+00,\n",
       "           0.0000e+00,  0.0000e+00]],\n",
       "\n",
       "        [[ 3.0361e-07, -1.4789e-06,  3.4459e-08,  ...,  0.0000e+00,\n",
       "           0.0000e+00,  0.0000e+00],\n",
       "         [-1.4026e-06,  1.2247e-06, -1.5879e-07,  ...,  0.0000e+00,\n",
       "           0.0000e+00,  0.0000e+00],\n",
       "         [ 0.0000e+00,  0.0000e+00,  0.0000e+00,  ..., -5.8208e-11,\n",
       "           2.7940e-09, -1.4203e-08],\n",
       "         ...,\n",
       "         [-1.4026e-06,  1.2247e-06, -1.5879e-07,  ...,  1.6997e-08,\n",
       "          -2.2119e-09,  1.9791e-09],\n",
       "         [ 0.0000e+00,  0.0000e+00,  0.0000e+00,  ...,  0.0000e+00,\n",
       "           0.0000e+00,  0.0000e+00],\n",
       "         [ 0.0000e+00,  0.0000e+00,  0.0000e+00,  ...,  0.0000e+00,\n",
       "           0.0000e+00,  0.0000e+00]],\n",
       "\n",
       "        [[ 3.0361e-07, -1.4789e-06,  3.4459e-08,  ...,  0.0000e+00,\n",
       "           0.0000e+00,  0.0000e+00],\n",
       "         [-1.4026e-06,  1.2247e-06, -1.5879e-07,  ...,  0.0000e+00,\n",
       "           0.0000e+00,  0.0000e+00],\n",
       "         [ 0.0000e+00,  0.0000e+00,  0.0000e+00,  ..., -5.8208e-11,\n",
       "           2.7940e-09, -1.4203e-08],\n",
       "         ...,\n",
       "         [-1.4026e-06,  1.2247e-06, -1.5879e-07,  ...,  8.1398e-07,\n",
       "          -1.0571e-07,  9.2201e-08],\n",
       "         [ 0.0000e+00,  0.0000e+00,  0.0000e+00,  ...,  0.0000e+00,\n",
       "           0.0000e+00,  0.0000e+00],\n",
       "         [ 0.0000e+00,  0.0000e+00,  0.0000e+00,  ...,  0.0000e+00,\n",
       "           0.0000e+00,  0.0000e+00]]], grad_fn=<SubBackward0>)"
      ]
     },
     "execution_count": 317,
     "metadata": {},
     "output_type": "execute_result"
    }
   ],
   "source": [
    "model.forward(x)"
   ]
  },
  {
   "cell_type": "code",
   "execution_count": null,
   "id": "3fa4c69a-456b-4aae-a452-d40af598e38d",
   "metadata": {},
   "outputs": [],
   "source": []
  }
 ],
 "metadata": {
  "kernelspec": {
   "display_name": "Python 3 (ipykernel)",
   "language": "python",
   "name": "python3"
  },
  "language_info": {
   "codemirror_mode": {
    "name": "ipython",
    "version": 3
   },
   "file_extension": ".py",
   "mimetype": "text/x-python",
   "name": "python",
   "nbconvert_exporter": "python",
   "pygments_lexer": "ipython3",
   "version": "3.10.9"
  }
 },
 "nbformat": 4,
 "nbformat_minor": 5
}
