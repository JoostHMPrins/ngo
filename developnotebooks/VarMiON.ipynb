{
 "cells": [
  {
   "cell_type": "code",
   "execution_count": 585,
   "id": "57ee1c4b-3bbb-4e23-85a9-b381d3651751",
   "metadata": {},
   "outputs": [],
   "source": [
    "import torch\n",
    "from torch import nn\n",
    "from torch.nn import functional as F\n",
    "import pytorch_lightning as pl"
   ]
  },
  {
   "cell_type": "code",
   "execution_count": 630,
   "id": "9830f633-6130-43e9-89dd-6c19e79e1175",
   "metadata": {},
   "outputs": [],
   "source": [
    "class GaussianRBF(nn.Module):\n",
    "    def __init__(self, input_dim, output_dim):\n",
    "        super().__init__()\n",
    "        self.output_dim = output_dim\n",
    "        #Definition and initialization of centers and scales\n",
    "        self.mus = torch.nn.Parameter(torch.ones(output_dim, input_dim))\n",
    "        self.log_sigmas = torch.nn.Parameter(torch.ones(output_dim))\n",
    "        nn.init.uniform_(self.mus, 0, 1)\n",
    "        nn.init.constant_(self.log_sigmas, 0)\n",
    "        \n",
    "    def forward(self, x):\n",
    "        d_scaled = (x[:,None,:] - self.mus[None,:,:]/torch.exp(self.log_sigmas[None,:,None]))\n",
    "        return torch.exp(-(torch.linalg.vector_norm(d_scaled, axis=-1, ord=2))**2/2)"
   ]
  },
  {
   "cell_type": "code",
   "execution_count": 631,
   "id": "f3926be4-5442-4576-9954-b4dfd61aa5cf",
   "metadata": {},
   "outputs": [],
   "source": [
    "model = GaussianRBF(2,72)"
   ]
  },
  {
   "cell_type": "code",
   "execution_count": 632,
   "id": "aae6d4ce-4945-429c-a38f-ad7bc0726043",
   "metadata": {},
   "outputs": [],
   "source": [
    "output = model.forward(torch.rand(100,2))"
   ]
  },
  {
   "cell_type": "code",
   "execution_count": 621,
   "id": "b6eee9ca-4df0-445a-970a-8e6365655702",
   "metadata": {},
   "outputs": [
    {
     "data": {
      "text/plain": [
       "torch.Size([100, 72])"
      ]
     },
     "execution_count": 621,
     "metadata": {},
     "output_type": "execute_result"
    }
   ],
   "source": [
    "output.shape"
   ]
  },
  {
   "cell_type": "code",
   "execution_count": 590,
   "id": "f6eeeb45-5c06-4ebd-b466-c3a718851b2c",
   "metadata": {},
   "outputs": [
    {
     "data": {
      "text/plain": [
       "torch.Size([10, 2])"
      ]
     },
     "execution_count": 590,
     "metadata": {},
     "output_type": "execute_result"
    }
   ],
   "source": [
    "a = torch.rand(2)\n",
    "a\n",
    "torch.tile(a,(10,1)).shape"
   ]
  },
  {
   "cell_type": "code",
   "execution_count": 591,
   "id": "2c8d725f-4433-4e61-83b7-03d54b882fb2",
   "metadata": {},
   "outputs": [],
   "source": [
    "class NLBranchNet(nn.Module):\n",
    "    def __init__(self):\n",
    "        super().__init__()\n",
    "        self.layers = nn.ModuleList()\n",
    "        self.layers.append(nn.ConvTranspose2d(in_channels=1, out_channels=16, kernel_size=4, stride=1))\n",
    "        self.layers.append(nn.ReLU())\n",
    "        self.layers.append(nn.BatchNorm2d(num_features=16))\n",
    "        self.layers.append(nn.ConvTranspose2d(in_channels=16, out_channels=32, kernel_size=4, stride=1))\n",
    "        self.layers.append(nn.ReLU())\n",
    "        self.layers.append(nn.BatchNorm2d(num_features=32))\n",
    "        self.layers.append(nn.ConvTranspose2d(in_channels=32, out_channels=16, kernel_size=2, stride=2))\n",
    "        self.layers.append(nn.ReLU())\n",
    "        self.layers.append(nn.ConvTranspose2d(in_channels=16, out_channels=1, kernel_size=2, stride=2))\n",
    "        self.layers.append(nn.ReLU())\n",
    "\n",
    "    def forward(self, x):\n",
    "        for layer in self.layers:\n",
    "            x = layer(x)\n",
    "        return x"
   ]
  },
  {
   "cell_type": "code",
   "execution_count": 592,
   "id": "2e39b331-4bdf-4620-ac91-b8b473317eda",
   "metadata": {},
   "outputs": [],
   "source": [
    "model = NLBranchNet().forward(torch.rand((100,1,12,12)))"
   ]
  },
  {
   "cell_type": "code",
   "execution_count": 593,
   "id": "cf9925e0-0ccd-482f-bca7-664435c61175",
   "metadata": {},
   "outputs": [
    {
     "data": {
      "text/plain": [
       "torch.Size([100, 72])"
      ]
     },
     "execution_count": 593,
     "metadata": {},
     "output_type": "execute_result"
    }
   ],
   "source": [
    "output.shape"
   ]
  },
  {
   "cell_type": "code",
   "execution_count": 662,
   "id": "51007ef9-5bbd-48e2-83e1-506e293e513b",
   "metadata": {},
   "outputs": [],
   "source": [
    "class LBranchNet(nn.Module):\n",
    "    def __init__(self, input_dim, output_dim):\n",
    "        super().__init__()\n",
    "        self.layers = nn.ModuleList()\n",
    "        self.layers.append(nn.Linear(input_dim, output_dim))\n",
    "\n",
    "    def forward(self, x):\n",
    "        for layer in self.layers:\n",
    "            x = layer(x)\n",
    "\n",
    "        return x"
   ]
  },
  {
   "cell_type": "code",
   "execution_count": 663,
   "id": "f86c346a-117c-49d6-a683-31324ac0b620",
   "metadata": {},
   "outputs": [],
   "source": [
    "model = LBranchNet(144, 144)"
   ]
  },
  {
   "cell_type": "code",
   "execution_count": 664,
   "id": "c466787a-d1e9-497c-9b9e-ed7cbe6b09d8",
   "metadata": {},
   "outputs": [
    {
     "data": {
      "text/plain": [
       "tensor([ 1.0826e-01,  3.2304e-01, -1.9980e-01,  8.9366e-02, -1.1215e-02,\n",
       "        -4.2666e-01,  3.9343e-01,  1.7136e-01, -1.9564e-01,  3.2310e-01,\n",
       "        -3.3134e-01, -4.5084e-01,  4.1863e-01,  4.4906e-01,  6.4499e-01,\n",
       "         4.6688e-01, -2.2056e-02,  8.0327e-01, -3.6321e-02, -4.0772e-01,\n",
       "         2.0600e-01,  2.1587e-01, -2.7418e-01,  2.6230e-01, -9.9448e-02,\n",
       "        -8.0348e-03,  3.3014e-01, -5.7964e-01, -1.0197e+00, -1.7571e-01,\n",
       "         2.1947e-01,  3.7182e-01, -8.1308e-02, -5.1688e-01, -1.3647e-01,\n",
       "         2.0460e-04, -5.0699e-01, -3.7830e-01,  2.6403e-01,  6.2820e-01,\n",
       "        -7.1961e-02, -5.0715e-01, -1.5096e-01, -1.8724e-01,  1.5253e-01,\n",
       "         8.2365e-02,  2.5304e-01,  4.4619e-01, -2.4975e-01, -1.3530e-01,\n",
       "        -4.5496e-01, -4.1148e-01, -1.3446e-01,  4.0538e-01, -2.2410e-01,\n",
       "         5.9388e-01, -4.4017e-02, -5.7302e-01,  1.6264e-01,  1.7279e-01,\n",
       "        -3.4509e-01,  4.9541e-01,  5.1375e-01,  8.1608e-02,  2.7153e-01,\n",
       "        -5.1271e-01,  5.6308e-01, -4.2395e-01,  7.2269e-02,  5.1246e-01,\n",
       "         4.4379e-01, -3.2331e-03,  1.3484e-01,  1.6491e-01,  4.5705e-03,\n",
       "         3.6833e-01,  6.5899e-01,  2.7549e-02, -1.6033e-02,  4.2374e-01,\n",
       "        -3.5846e-01,  8.5128e-03, -2.1862e-01,  1.1042e-01,  1.0518e-01,\n",
       "        -2.4109e-03, -6.4501e-01, -1.6243e-01, -2.8430e-01,  1.5356e-01,\n",
       "         4.2756e-02,  2.5560e-01, -5.3293e-02, -2.2760e-01,  7.5454e-02,\n",
       "        -4.9585e-02,  3.2504e-01, -1.5042e-01,  4.8906e-02,  1.4931e-01,\n",
       "         1.4818e-01,  4.6603e-03, -3.6241e-01,  6.9817e-02,  6.3090e-02,\n",
       "         5.4917e-01,  6.6911e-01, -1.5619e-01,  2.6538e-01, -5.4289e-02,\n",
       "         5.2995e-01, -3.4458e-02, -3.3278e-01, -2.1441e-02,  1.2899e-01,\n",
       "        -2.2060e-01, -1.5066e-02,  1.2912e-01,  2.7208e-01,  3.8504e-01,\n",
       "        -6.0980e-02, -3.4131e-01, -3.7425e-02,  3.9734e-01, -2.8575e-01,\n",
       "         1.1959e-01,  4.1703e-01, -4.7063e-01, -3.1122e-01, -1.2031e-01,\n",
       "        -6.5284e-02,  2.6207e-01,  1.0720e-01,  5.0990e-02, -3.9438e-01,\n",
       "        -8.4944e-02,  3.2800e-01,  6.0476e-02,  3.7368e-01, -1.4591e-01,\n",
       "        -1.5171e-02,  1.9611e-01, -1.3446e-01,  4.7052e-01],\n",
       "       grad_fn=<AddBackward0>)"
      ]
     },
     "execution_count": 664,
     "metadata": {},
     "output_type": "execute_result"
    }
   ],
   "source": [
    "model(torch.rand(144))"
   ]
  },
  {
   "cell_type": "code",
   "execution_count": 665,
   "id": "60e65f4e-685a-4161-a241-e136b5a5eac9",
   "metadata": {},
   "outputs": [],
   "source": [
    "class VarMiON(pl.LightningModule):\n",
    "    def __init__(self, params):\n",
    "        super().__init__()\n",
    "        self.hparams.update(params['hparams'])\n",
    "\n",
    "    def forward(self, theta, F, N, x):\n",
    "        NLBranch = NLBranchNet().forward(theta)\n",
    "        NLBranch = NLBranch.reshape((NLBranch.shape[0], NLBranch.shape[2], NLBranch.shape[3]))\n",
    "        LBranch = LBranchNet(144,72).forward(F) + LBranchNet(144,72).forward(N)\n",
    "        Branch = torch.einsum('nij,nj->ni', NLBranch, LBranch)\n",
    "        Trunk = GaussianRBF(2,72).forward(x)\n",
    "        u_hat = torch.einsum('ni,ni->n', Branch, Trunk)\n",
    "        return u_hat"
   ]
  },
  {
   "cell_type": "code",
   "execution_count": 666,
   "id": "c2cd94b3-b419-401e-9909-54f9c641e3d5",
   "metadata": {},
   "outputs": [],
   "source": [
    "params = {}\n",
    "params['hparams'] = {}\n",
    "model = VarMiON(params)"
   ]
  },
  {
   "cell_type": "code",
   "execution_count": 667,
   "id": "064c7d3b-f52a-41b9-99e6-b8b58bb92f37",
   "metadata": {},
   "outputs": [],
   "source": [
    "theta = torch.rand((100,1,12,12))\n",
    "F = torch.rand(100,144)\n",
    "N = torch.rand(100,144)\n",
    "x = torch.rand(100,2)"
   ]
  },
  {
   "cell_type": "code",
   "execution_count": 668,
   "id": "4511044d-1593-4750-b753-492fcaab615b",
   "metadata": {},
   "outputs": [
    {
     "data": {
      "text/plain": [
       "tensor([ -8.9597,  -2.5934, -26.0627, -14.9835, -33.3732,  -9.6151,  -3.1857,\n",
       "        -19.3091, -21.1174, -18.1950,  -7.5267, -16.4898,  -6.8867, -15.4041,\n",
       "        -26.2049, -11.8599, -17.0219,  -6.8183, -18.8837,  -3.7176, -25.0287,\n",
       "        -19.8458, -10.1516, -10.0587, -12.6031, -13.2446, -24.4722, -11.8340,\n",
       "        -22.7031, -35.9719,  -9.2498,  -0.2187,  -5.0522, -12.5399, -15.7212,\n",
       "        -16.7408, -13.9912, -10.0065, -13.5594, -14.3105, -24.2220,  -8.4578,\n",
       "        -17.8024, -19.3186, -31.2625, -20.5583,  -4.7125, -19.8892,  -3.2145,\n",
       "         -9.1456,  -3.5943, -14.1928, -12.6701, -19.2701, -20.2234,  -5.6060,\n",
       "         -7.9946, -12.5741, -18.4971,  -4.2853, -13.8165, -11.8999, -15.9461,\n",
       "         -2.1674, -13.1560,  -9.3719, -23.5992, -18.2455, -13.6656,   6.1686,\n",
       "         -8.3715, -30.2949,  -0.5465,  -5.5226, -19.2469, -11.4430, -20.4002,\n",
       "         -0.3315,  -9.3901, -15.3602, -14.8297,  -7.4635, -28.1031,  -7.2694,\n",
       "        -31.7850,  -6.0084, -12.6843,  -1.7178, -11.7688, -13.7646,  -4.8095,\n",
       "        -11.7061, -21.2317, -12.1796, -20.2916,  -8.0483, -23.5996, -16.2103,\n",
       "        -10.6677,  -7.5158], grad_fn=<ViewBackward0>)"
      ]
     },
     "execution_count": 668,
     "metadata": {},
     "output_type": "execute_result"
    }
   ],
   "source": [
    "model(theta, F, N, x)"
   ]
  },
  {
   "cell_type": "code",
   "execution_count": null,
   "id": "38038138-e02c-4f12-838d-6bb090c34c5b",
   "metadata": {},
   "outputs": [],
   "source": []
  }
 ],
 "metadata": {
  "kernelspec": {
   "display_name": "Python 3 (ipykernel)",
   "language": "python",
   "name": "python3"
  },
  "language_info": {
   "codemirror_mode": {
    "name": "ipython",
    "version": 3
   },
   "file_extension": ".py",
   "mimetype": "text/x-python",
   "name": "python",
   "nbconvert_exporter": "python",
   "pygments_lexer": "ipython3",
   "version": "3.10.9"
  }
 },
 "nbformat": 4,
 "nbformat_minor": 5
}
