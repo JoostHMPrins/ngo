{
 "cells": [
  {
   "cell_type": "code",
   "execution_count": 1,
   "metadata": {},
   "outputs": [],
   "source": [
    "import numpy as np\n",
    "import json\n",
    "import torch\n",
    "from torch.utils.data import DataLoader\n",
    "from torch.utils.data import random_split\n",
    "import pytorch_lightning as pl\n",
    "from numba import jit\n",
    "import opt_einsum\n",
    "from torch import nn\n",
    "from torch.nn import functional as F\n",
    "\n",
    "import sys\n",
    "sys.path.insert(0, '../fem')\n",
    "sys.path.insert(0, '../ml') \n",
    "from datasaver import load_function_list\n",
    "from ManufacturedSolutionsDarcy import *\n",
    "from Quadrature import *\n",
    "\n",
    "from NGO_D import NGO"
   ]
  },
  {
   "cell_type": "code",
   "execution_count": 12,
   "metadata": {},
   "outputs": [],
   "source": [
    "hparams = {'devices': [1],\n",
    "           'dtype': torch.float32,\n",
    "           'precision': 32,\n",
    "           'optimizer': torch.optim.Adam, \n",
    "           'learning_rate': 1e-4,\n",
    "           'batch_size': 100,\n",
    "           'epochs': 2,\n",
    "           'modeltype': 'NGO',\n",
    "           'gamma_stabilization': 0,\n",
    "           'data_based': False,\n",
    "           'test_basis': 'B-splines',\n",
    "           'trial_basis': 'B-splines',\n",
    "           'quadrature': 'Gauss-Legendre',\n",
    "           'Q': 100,\n",
    "           'Q_L': 100,\n",
    "           'h': 64,\n",
    "           # 'knots_1d': np.array([0,0,0,0, 1/9, 2/9, 3/9, 4/9, 5/9, 6/9, 7/9, 8/9, 1,1,1,1]),\n",
    "           'knots_1d': np.array([0,0,0,0, 0.2, 0.4, 0.6, 0.8, 1,1,1,1]),\n",
    "           'UNet': True,\n",
    "           'num_channels': 24,\n",
    "           'kernel_sizes': [4,4,2,2],\n",
    "           'bias_NLBranch': False,\n",
    "           'bias_LBranch': False,\n",
    "           'NLB_outputactivation': nn.Tanhshrink(),\n",
    "           'scale_invariance': False,\n",
    "           'symgroupavg': False}\n",
    "\n",
    "simparams = {'d': 2}\n",
    "\n",
    "params = {}\n",
    "\n",
    "params['hparams'] = hparams\n",
    "params['simparams'] = simparams\n",
    "\n",
    "data_dir = '.'"
   ]
  },
  {
   "cell_type": "code",
   "execution_count": 14,
   "metadata": {},
   "outputs": [],
   "source": [
    "class DataModule_Darcy_MS(pl.LightningDataModule):\n",
    "\n",
    "    def __init__(self, data_dir, params):\n",
    "        super().__init__()\n",
    "        \n",
    "        self.params = params\n",
    "        self.data_dir = data_dir\n",
    "        self.hyperparams = params['hparams']\n",
    "        \n",
    "    def setup(self):\n",
    "        dummyNGO = NGO(self.params)\n",
    "        # Generate input and output functions\n",
    "        print('Generating data...')\n",
    "        N_samples = 10000\n",
    "        dataset = MFSetDarcy(N_samples=N_samples, d=2, l_theta_min=0.5, l_theta_max=1, l_u_min=0.25, l_u_max=0.5)\n",
    "        #Discretize input functions\n",
    "        print('Preprocessing data...')\n",
    "        self.theta, self.theta_g, self.f, self.etab, self.etat, self.gl, self.gr = dummyNGO.discretize_input_functions(dataset.theta, dataset.f, dataset.etab, dataset.etat, dataset.gl, dataset.gr)\n",
    "        self.K = torch.tensor(dummyNGO.compute_K(self.theta, self.theta_g), dtype=self.hyperparams['dtype'])\n",
    "        self.d = torch.tensor(dummyNGO.compute_d(self.f, self.etab, self.etat, self.gl, self.gr), dtype=self.hyperparams['dtype'])\n",
    "        #Sample x, psi and u\n",
    "        self.x = np.random.uniform(0, 1, size=(N_samples,self.hyperparams['Q_L']**self.params['simparams']['d'],self.params['simparams']['d']))\n",
    "        # quadrature = GaussLegendreQuadrature2D(Q=self.hyperparams['Q_L'], n_elements = dummyNGO.Trunk_test.num_basis_1d - dummyNGO.Trunk_test.p)\n",
    "        # self.x = np.tile(quadrature.xi_Omega,(N_samples,1,1))\n",
    "        self.psi = dummyNGO.Trunk_trial.forward(self.x.reshape((N_samples*self.hyperparams['Q_L']**self.params['simparams']['d'],self.params['simparams']['d']))).reshape((N_samples,self.hyperparams['Q_L']**self.params['simparams']['d'], self.hyperparams['h']))\n",
    "        self.u = []\n",
    "        for i in range(len(dataset.u)):\n",
    "            u = dataset.u[i](self.x[i])\n",
    "            self.u.append(u)\n",
    "        self.u = np.array(self.u).reshape((N_samples,self.hyperparams['Q_L']**self.params['simparams']['d']))\n",
    "        self.x = torch.tensor(np.array(self.x), dtype=self.hyperparams['dtype'])\n",
    "        self.psi = torch.tensor(np.array(self.psi), dtype=self.hyperparams['dtype'])\n",
    "        self.u = torch.tensor(np.array(self.u), dtype=self.hyperparams['dtype'])\n",
    "        #Define dataset\n",
    "        self.dataset = torch.utils.data.TensorDataset(self.K, self.d, self.psi, self.u)\n",
    "\n",
    "    def train_dataloader(self):\n",
    "        return DataLoader(self.dataset, batch_size=self.hyperparams['batch_size'], shuffle=False, num_workers=0, pin_memory=True)#, persistent_workers=True)#, prefetch_factor=2)"
   ]
  },
  {
   "cell_type": "code",
   "execution_count": 40,
   "metadata": {},
   "outputs": [
    {
     "name": "stdout",
     "output_type": "stream",
     "text": [
      "Generating data...\n",
      "Preprocessing data...\n"
     ]
    }
   ],
   "source": [
    "datamodule = DataModule_Darcy_MS(data_dir=data_dir, params=params)\n",
    "datamodule.setup()"
   ]
  },
  {
   "cell_type": "code",
   "execution_count": 16,
   "metadata": {},
   "outputs": [
    {
     "name": "stdout",
     "output_type": "stream",
     "text": [
      "Generating data...\n",
      "Preprocessing data...\n",
      "Generating data...\n",
      "Preprocessing data...\n",
      "Generating data...\n",
      "Preprocessing data...\n",
      "Generating data...\n",
      "Preprocessing data...\n",
      "Generating data...\n",
      "Preprocessing data...\n",
      "Generating data...\n",
      "Preprocessing data...\n",
      "Generating data...\n",
      "Preprocessing data...\n"
     ]
    },
    {
     "data": {
      "image/png": "[encoded data removed]",
      "text/plain": [
       "<Figure size 1000x600 with 1 Axes>"
      ]
     },
     "metadata": {},
     "output_type": "display_data"
    }
   ],
   "source": [
    "import time\n",
    "import torch\n",
    "from torch.utils.data import DataLoader, TensorDataset\n",
    "import matplotlib.pyplot as plt\n",
    " \n",
    "def measure_time_per_batch(num_features):\n",
    "    params['hparams']['Q_L'] = num_features\n",
    "    datamodule = DataModule_Darcy_MS(data_dir=data_dir, params=params)\n",
    "    datamodule.setup()\n",
    "    dataloader = datamodule.train_dataloader()\n",
    "   \n",
    "    # Measure the time taken per batch\n",
    "    batch_times = []\n",
    "    for batch in dataloader:\n",
    "        start_time = time.time()\n",
    "        K, d, psi, u = batch\n",
    "        end_time = time.time()\n",
    "        batch_times.append(end_time - start_time)\n",
    "   \n",
    "    # Return the average time per batch\n",
    "    return np.average(np.array(batch_times))\n",
    " \n",
    "# Number of features to test\n",
    "num_features_list = [1,2,5,10,20,50,100]\n",
    " \n",
    "# Measure time per batch for each number of features\n",
    "times_per_batch = [measure_time_per_batch(num_features) for num_features in num_features_list]\n",
    " \n",
    "# Plot the results\n",
    "plt.figure(figsize=(10, 6))\n",
    "plt.plot(np.array(num_features_list)**2, times_per_batch, marker='o')\n",
    "plt.title('Average Time Per Batch vs Number of Features')\n",
    "plt.xlabel('Number of Features')\n",
    "plt.ylabel('Time Per Batch (seconds)')\n",
    "plt.xscale('log')  # Logarithmic scale for better visualization\n",
    "plt.yscale('log')\n",
    "plt.grid(True)\n",
    "plt.show()"
   ]
  },
  {
   "cell_type": "code",
   "execution_count": 36,
   "metadata": {},
   "outputs": [
    {
     "name": "stdout",
     "output_type": "stream",
     "text": [
      "Generating data...\n",
      "Preprocessing data...\n",
      "avg time to collate batch: 0.040703 ms\n"
     ]
    }
   ],
   "source": [
    "import torch\n",
    "from typing import List\n",
    "from torch.utils.data import DataLoader, TensorDataset\n",
    "\n",
    "# N = 1000\n",
    "# X = torch.randn(N, 10)\n",
    "# y = torch.randn(N, 1)\n",
    "# dataset = TensorDataset(X, y)\n",
    "dataset = datamodule.dataset\n",
    "\n",
    "class TimerCallback():\n",
    "    def __init__(self):\n",
    "        #super().__init__()\n",
    "        self.times = []\n",
    "    \n",
    "    def _collate_fn(self, data: List[torch.Tensor]):\n",
    "        \"\"\"This method takes as input a list of datapoints (as selected by the random shuffling of pytorch tensors),\n",
    "        then concatenates them into a single tensor. This is the method that is called by the DataLoader to create a batch\"\"\"\n",
    "        theta, f, etab, etat, gl, gr, K, d, psi, x, u = zip(*data)\n",
    "        theta = torch.stack(theta)\n",
    "        f = torch.stack(f)\n",
    "        etat = torch.stack(etat)\n",
    "        etab = torch.stack(etab)\n",
    "        gl = torch.stack(gl)\n",
    "        gr = torch.stack(gr)\n",
    "        K = torch.stack(K)\n",
    "        d = torch.stack(d)\n",
    "        psi = torch.stack(psi)\n",
    "        x = torch.stack(x)\n",
    "        u = torch.stack(u)\n",
    "        return theta, f, etab, etat, gl, gr, K, d, psi, x, u\n",
    "    \n",
    "    # def _collate_fn(self, data: List[torch.Tensor]):\n",
    "    #     \"\"\"This method takes as input a list of datapoints (as selected by the random shuffling of pytorch tensors),\n",
    "    #     then concatenates them into a single tensor. This is the method that is called by the DataLoader to create a batch\"\"\"\n",
    "    #     random_indices = torch.randint(low=0,high=1000, size=(100,))\n",
    "    #     theta = datamodule.theta[random_indices]\n",
    "    #     f = datamodule.f[random_indices]\n",
    "    #     etat = datamodule.etat[random_indices]\n",
    "    #     etab = datamodule.etab[random_indices]\n",
    "    #     gl = datamodule.gl[random_indices]\n",
    "    #     gr = datamodule.gr[random_indices]\n",
    "    #     K = datamodule.K[random_indices]\n",
    "    #     d = datamodule.d[random_indices]\n",
    "    #     psi = datamodule.psi[random_indices]\n",
    "    #     x = datamodule.x[random_indices]\n",
    "    #     u = datamodule.u[random_indices]\n",
    "    #     return theta, f, etab, etat, gl, gr, K, d, psi, x, u\n",
    "\n",
    "    def collate_fn(self, batch):\n",
    "        \"\"\"just a wrapper around the actual collate_fn that records the time it takes to collate the batch\"\"\"\n",
    "        import time\n",
    "        start_time = time.perf_counter()\n",
    "        out = self._collate_fn(batch)\n",
    "        end_time = time.perf_counter()\n",
    "        self.times.append(end_time - start_time)\n",
    "        return out\n",
    "    \n",
    "\n",
    "cb = TimerCallback()\n",
    "\n",
    "params['hparams']['Q_L'] = 100\n",
    "datamodule = DataModule_Darcy_MS(data_dir=data_dir, params=params)\n",
    "datamodule.setup()\n",
    "dataset = datamodule.dataset\n",
    "\n",
    "loader = DataLoader(\n",
    "  dataset=dataset,\n",
    "  batch_size=100,\n",
    "  collate_fn=cb.collate_fn,\n",
    ")\n",
    "\n",
    "\n",
    "\n",
    "for batch in loader:\n",
    "    theta, f, etab, etat, gl, gr, K, d, psi, x, u = batch\n",
    "    #print(x.shape, y.shape)\n",
    "    \n",
    "avg_time = sum(cb.times) / len(cb.times)\n",
    "print(f\"avg time to collate batch: {avg_time:.6f} ms\")"
   ]
  },
  {
   "cell_type": "code",
   "execution_count": 32,
   "metadata": {},
   "outputs": [
    {
     "data": {
      "text/plain": [
       "tensor([194, 954, 962, 465, 164, 462, 814, 628, 692, 758, 513, 183, 573, 662,\n",
       "        451, 910, 774, 801, 645, 271, 274, 233, 279, 148, 884, 845,  32, 362,\n",
       "        729, 483, 236, 618, 157, 450, 129, 213, 530, 634, 515, 133, 575, 686,\n",
       "        197, 559, 255, 279, 626, 541, 397, 828, 188, 390,  34, 495, 251, 767,\n",
       "        953, 381, 371, 962, 546, 385,  80, 196, 325, 309, 346, 792,  61, 813,\n",
       "        456, 290, 948, 940, 200, 552, 593, 589, 421, 302, 907, 898, 115, 622,\n",
       "        930, 527, 179,   1, 291, 454, 508, 601, 674, 496,   1, 363,  85, 284,\n",
       "        205, 336])"
      ]
     },
     "execution_count": 32,
     "metadata": {},
     "output_type": "execute_result"
    }
   ],
   "source": [
    "torch.randint(low=0,high=1000, size=(100,))"
   ]
  },
  {
   "cell_type": "code",
   "execution_count": 9,
   "metadata": {},
   "outputs": [
    {
     "data": {
      "text/plain": [
       "19.852511578197362"
      ]
     },
     "execution_count": 9,
     "metadata": {},
     "output_type": "execute_result"
    }
   ],
   "source": [
    "0.055726/0.002807"
   ]
  },
  {
   "cell_type": "code",
   "execution_count": null,
   "metadata": {},
   "outputs": [],
   "source": []
  }
 ],
 "metadata": {
  "kernelspec": {
   "display_name": "Python 3",
   "language": "python",
   "name": "python3"
  },
  "language_info": {
   "codemirror_mode": {
    "name": "ipython",
    "version": 3
   },
   "file_extension": ".py",
   "mimetype": "text/x-python",
   "name": "python",
   "nbconvert_exporter": "python",
   "pygments_lexer": "ipython3",
   "version": "3.10.9"
  }
 },
 "nbformat": 4,
 "nbformat_minor": 2
}
