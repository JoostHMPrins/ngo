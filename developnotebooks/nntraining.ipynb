{
 "cells": [
  {
   "cell_type": "code",
   "execution_count": 1,
   "id": "0a64a92b-71e3-4884-a165-cfece9e71526",
   "metadata": {},
   "outputs": [],
   "source": [
    "import pytorch_lightning as pl\n",
    "from pytorch_lightning.callbacks.early_stopping import EarlyStopping\n",
    "from tqdm.auto import tqdm, trange\n",
    "from ipywidgets import IntProgress\n",
    "import time\n",
    "from torch.nn import functional as F\n",
    "from torchmetrics.functional.regression import mean_absolute_percentage_error\n",
    "\n",
    "import sys\n",
    "sys.path.insert(0, '../ml')\n",
    "# from VarMiON import *\n",
    "# from BMVarMiON import *\n",
    "# from RegularNN import *\n",
    "from NGO import *\n",
    "from DataModule import *\n",
    "from logger import *\n",
    "from trainer import train\n",
    "from customlosses import *"
   ]
  },
  {
   "cell_type": "code",
   "execution_count": 2,
   "id": "12bf2b32-b8fd-4468-9324-09b83e1a0e3a",
   "metadata": {},
   "outputs": [],
   "source": [
    "model = VarMiON"
   ]
  },
  {
   "cell_type": "code",
   "execution_count": 3,
   "id": "237c1dfd-c7d1-4ac1-8978-e438d4c30607",
   "metadata": {},
   "outputs": [],
   "source": [
    "hparams = {'accelerator': 'gpu',\n",
    "           'devices': [1],\n",
    "           'dtype': torch.float64,\n",
    "           'precision': 64,\n",
    "           'loss_terms': [F.mse_loss],\n",
    "           'loss_coeffs': [1],\n",
    "           'metric': L2_scaled,\n",
    "           'optimizer': torch.optim.Adam, \n",
    "           'learning_rate': 1e-4,\n",
    "           'batch_size': 100,\n",
    "           'max_epochs': 5000,\n",
    "           'early_stopping_patience': 1000000,\n",
    "           'Q': 72,\n",
    "           'Q_L': 268,\n",
    "           'latent_dim': 72, \n",
    "           'bias_NLBranch': False,\n",
    "           'bias_LBranch': False,\n",
    "           'NLB_outputactivation': nn.Tanhshrink(),\n",
    "           'Cholesky': False,\n",
    "           'scale_invariance': True,\n",
    "           'norm_basis': True,\n",
    "           'bound_mus': True,\n",
    "           '1/theta': False,\n",
    "           'symgroupavg': False,\n",
    "           'NOMAD': False}\n",
    "\n",
    "datamodule = DataModule_hc2d\n",
    "loaddir = '../../../trainingdata/HC2D_NGO_VarMiONpapersettings'\n",
    "logdir = '../../../nnlogs'\n",
    "sublogdir = 'test'\n",
    "label = 'test8'"
   ]
  },
  {
   "cell_type": "code",
   "execution_count": 4,
   "id": "ed6eb29b-8d6c-4a7e-8508-eb7a2f3015b7",
   "metadata": {},
   "outputs": [
    {
     "name": "stderr",
     "output_type": "stream",
     "text": [
      "/home/prins/st8/anaconda3/lib/python3.10/site-packages/lightning_fabric/plugins/environments/slurm.py:165: PossibleUserWarning: The `srun` command is available on your system but is not used. HINT: If your intention is to run Lightning on SLURM, prepend your python command with `srun` like so: srun python /home/prins/st8/anaconda3/lib/python3.10/site-packag ...\n",
      "  rank_zero_warn(\n",
      "GPU available: True (cuda), used: True\n",
      "TPU available: False, using: 0 TPU cores\n",
      "IPU available: False, using: 0 IPUs\n",
      "HPU available: False, using: 0 HPUs\n",
      "/home/prins/st8/anaconda3/lib/python3.10/site-packages/lightning_fabric/plugins/environments/slurm.py:165: PossibleUserWarning: The `srun` command is available on your system but is not used. HINT: If your intention is to run Lightning on SLURM, prepend your python command with `srun` like so: srun python /home/prins/st8/anaconda3/lib/python3.10/site-packag ...\n",
      "  rank_zero_warn(\n"
     ]
    },
    {
     "name": "stdout",
     "output_type": "stream",
     "text": [
      "Preprocessing data...\n"
     ]
    },
    {
     "name": "stderr",
     "output_type": "stream",
     "text": [
      "/data/storage8/prins/prins/phd/gitlab/ngo-pde-gk/developnotebooks/../ml/DataModule.py:52: UserWarning: Creating a tensor from a list of numpy.ndarrays is extremely slow. Please consider converting the list to a single numpy.ndarray with numpy.array() before converting to a tensor. (Triggered internally at /opt/conda/conda-bld/pytorch_1682343995026/work/torch/csrc/utils/tensor_new.cpp:245.)\n",
      "  self.theta = torch.tensor(self.theta, dtype=self.hyperparams['dtype']).reshape(len(theta),self.hyperparams['Q'],self.hyperparams['Q'])\n",
      "/home/prins/st8/anaconda3/lib/python3.10/site-packages/pytorch_lightning/callbacks/model_checkpoint.py:615: UserWarning: Checkpoint directory /data/storage8/prins/prins/phd/nnlogs/test/test8 exists and is not empty.\n",
      "  rank_zero_warn(f\"Checkpoint directory {dirpath} exists and is not empty.\")\n",
      "LOCAL_RANK: 0 - CUDA_VISIBLE_DEVICES: [0,1,2,3]\n",
      "\n",
      "  | Name        | Type        | Params\n",
      "--------------------------------------------\n",
      "0 | NLBranch    | CNNBranch   | 9.6 K \n",
      "1 | LBranch_f   | LBranchNet  | 373 K \n",
      "2 | LBranch_eta | LBranchNet  | 373 K \n",
      "3 | Trunk       | GaussianRBF | 216   \n",
      "--------------------------------------------\n",
      "756 K     Trainable params\n",
      "0         Non-trainable params\n",
      "756 K     Total params\n",
      "3.025     Total estimated model params size (MB)\n"
     ]
    },
    {
     "name": "stdout",
     "output_type": "stream",
     "text": [
      "torch.Size([10000, 72, 72])\n",
      "torch.Size([10000, 72, 72])\n",
      "torch.Size([10000, 72, 72])\n",
      "torch.Size([10000, 72, 72])\n",
      "torch.Size([10000, 268, 2])\n",
      "torch.Size([10000, 268])\n"
     ]
    },
    {
     "data": {
      "application/vnd.jupyter.widget-view+json": {
       "model_id": "",
       "version_major": 2,
       "version_minor": 0
      },
      "text/plain": [
       "Sanity Checking: 0it [00:00, ?it/s]"
      ]
     },
     "metadata": {},
     "output_type": "display_data"
    },
    {
     "name": "stderr",
     "output_type": "stream",
     "text": [
      "/home/prins/st8/anaconda3/lib/python3.10/site-packages/pytorch_lightning/trainer/connectors/data_connector.py:432: PossibleUserWarning: The dataloader, val_dataloader, does not have many workers which may be a bottleneck. Consider increasing the value of the `num_workers` argument` (try 56 which is the number of cpus on this machine) in the `DataLoader` init to improve performance.\n",
      "  rank_zero_warn(\n"
     ]
    },
    {
     "name": "stdout",
     "output_type": "stream",
     "text": [
      "cuda:1\n",
      "cuda:1\n"
     ]
    },
    {
     "name": "stderr",
     "output_type": "stream",
     "text": [
      "/home/prins/st8/anaconda3/lib/python3.10/site-packages/pytorch_lightning/trainer/connectors/data_connector.py:432: PossibleUserWarning: The dataloader, train_dataloader, does not have many workers which may be a bottleneck. Consider increasing the value of the `num_workers` argument` (try 56 which is the number of cpus on this machine) in the `DataLoader` init to improve performance.\n",
      "  rank_zero_warn(\n"
     ]
    },
    {
     "data": {
      "application/vnd.jupyter.widget-view+json": {
       "model_id": "34cb2f5e1e214171b5f805b797fa0a1c",
       "version_major": 2,
       "version_minor": 0
      },
      "text/plain": [
       "Training: 0it [00:00, ?it/s]"
      ]
     },
     "metadata": {},
     "output_type": "display_data"
    },
    {
     "name": "stdout",
     "output_type": "stream",
     "text": [
      "cuda:1\n",
      "cuda:1\n",
      "cuda:1\n",
      "cuda:1\n",
      "cuda:1\n",
      "cuda:1\n",
      "cuda:1\n",
      "cuda:1\n",
      "cuda:1\n",
      "cuda:1\n",
      "cuda:1\n",
      "cuda:1\n",
      "cuda:1\n",
      "cuda:1\n",
      "cuda:1\n",
      "cuda:1\n",
      "cuda:1\n",
      "cuda:1\n",
      "cuda:1\n",
      "cuda:1\n",
      "cuda:1\n",
      "cuda:1\n",
      "cuda:1\n",
      "cuda:1\n",
      "cuda:1\n",
      "cuda:1\n",
      "cuda:1\n",
      "cuda:1\n",
      "cuda:1\n",
      "cuda:1\n",
      "cuda:1\n",
      "cuda:1\n",
      "cuda:1\n",
      "cuda:1\n",
      "cuda:1\n",
      "cuda:1\n",
      "cuda:1\n",
      "cuda:1\n",
      "cuda:1\n",
      "cuda:1\n",
      "cuda:1\n",
      "cuda:1\n",
      "cuda:1\n",
      "cuda:1\n",
      "cuda:1\n",
      "cuda:1\n",
      "cuda:1\n",
      "cuda:1\n",
      "cuda:1\n",
      "cuda:1\n",
      "cuda:1\n",
      "cuda:1\n",
      "cuda:1\n",
      "cuda:1\n",
      "cuda:1\n",
      "cuda:1\n",
      "cuda:1\n",
      "cuda:1\n",
      "cuda:1\n",
      "cuda:1\n",
      "cuda:1\n",
      "cuda:1\n",
      "cuda:1\n",
      "cuda:1\n",
      "cuda:1\n",
      "cuda:1\n",
      "cuda:1\n",
      "cuda:1\n",
      "cuda:1\n",
      "cuda:1\n",
      "cuda:1\n",
      "Training time: 52.822231s\n"
     ]
    },
    {
     "name": "stderr",
     "output_type": "stream",
     "text": [
      "/home/prins/st8/anaconda3/lib/python3.10/site-packages/pytorch_lightning/trainer/call.py:52: UserWarning: Detected KeyboardInterrupt, attempting graceful shutdown...\n",
      "  rank_zero_warn(\"Detected KeyboardInterrupt, attempting graceful shutdown...\")\n"
     ]
    }
   ],
   "source": [
    "train(model, datamodule, hparams, loaddir, logdir, sublogdir, label)"
   ]
  },
  {
   "cell_type": "code",
   "execution_count": null,
   "id": "52bffe20-2f98-4e41-bfcf-acc486d281f3",
   "metadata": {},
   "outputs": [],
   "source": []
  },
  {
   "cell_type": "code",
   "execution_count": null,
   "id": "de09245e-8092-48d4-bc25-e13ee06cf1c1",
   "metadata": {},
   "outputs": [],
   "source": []
  }
 ],
 "metadata": {
  "kernelspec": {
   "display_name": "Python 3 (ipykernel)",
   "language": "python",
   "name": "python3"
  },
  "language_info": {
   "codemirror_mode": {
    "name": "ipython",
    "version": 3
   },
   "file_extension": ".py",
   "mimetype": "text/x-python",
   "name": "python",
   "nbconvert_exporter": "python",
   "pygments_lexer": "ipython3",
   "version": "3.10.9"
  }
 },
 "nbformat": 4,
 "nbformat_minor": 5
}
