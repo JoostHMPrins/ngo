{
 "cells": [
  {
   "cell_type": "code",
   "execution_count": 1,
   "id": "0a64a92b-71e3-4884-a165-cfece9e71526",
   "metadata": {},
   "outputs": [
    {
     "ename": "ModuleNotFoundError",
     "evalue": "No module named 'BGKNN'",
     "output_type": "error",
     "traceback": [
      "\u001b[0;31m---------------------------------------------------------------------------\u001b[0m",
      "\u001b[0;31mModuleNotFoundError\u001b[0m                       Traceback (most recent call last)",
      "Cell \u001b[0;32mIn[1], line 8\u001b[0m\n\u001b[1;32m      5\u001b[0m \u001b[38;5;28;01mfrom\u001b[39;00m \u001b[38;5;21;01mtqdm\u001b[39;00m\u001b[38;5;21;01m.\u001b[39;00m\u001b[38;5;21;01mauto\u001b[39;00m \u001b[38;5;28;01mimport\u001b[39;00m tqdm, trange\n\u001b[1;32m      6\u001b[0m \u001b[38;5;28;01mfrom\u001b[39;00m \u001b[38;5;21;01mipywidgets\u001b[39;00m \u001b[38;5;28;01mimport\u001b[39;00m IntProgress\n\u001b[0;32m----> 8\u001b[0m \u001b[38;5;28;01mfrom\u001b[39;00m \u001b[38;5;21;01mBGKNN\u001b[39;00m \u001b[38;5;28;01mimport\u001b[39;00m \u001b[38;5;241m*\u001b[39m\n\u001b[1;32m      9\u001b[0m \u001b[38;5;28;01mfrom\u001b[39;00m \u001b[38;5;21;01mcolinv_conservation\u001b[39;00m \u001b[38;5;28;01mimport\u001b[39;00m \u001b[38;5;241m*\u001b[39m\n\u001b[1;32m     10\u001b[0m \u001b[38;5;28;01mfrom\u001b[39;00m \u001b[38;5;21;01mtrain\u001b[39;00m \u001b[38;5;28;01mimport\u001b[39;00m \u001b[38;5;241m*\u001b[39m\n",
      "\u001b[0;31mModuleNotFoundError\u001b[0m: No module named 'BGKNN'"
     ]
    }
   ],
   "source": [
    "import numpy as np\n",
    "import torch\n",
    "import pytorch_lightning as pl\n",
    "from torch.nn import functional as F\n",
    "from tqdm.auto import tqdm, trange\n",
    "from ipywidgets import IntProgress\n",
    "\n",
    "from VarMiON import *\n",
    "from colinv_conservation import *\n",
    "from train import *\n",
    "from mlutils import *\n",
    "from customlosses import *\n",
    "from lrschedulers import *\n",
    "\n",
    "\n",
    "hparams = {'gpus': '1',\n",
    "           'accelerator': None,\n",
    "           'input_dim': 10, \n",
    "           'hidden_dim': [50,50],  \n",
    "           'activations': [torch.nn.ReLU(), torch.nn.ReLU()],\n",
    "           'output_activation': False,\n",
    "           'batchnorm': False,\n",
    "           'bias': False,\n",
    "           'optimizer': torch.optim.Adam, \n",
    "           'loss_terms': [RelMSE],\n",
    "           'loss_lambdas': [1],\n",
    "           'metric': RelMAE,\n",
    "           'learning_rate': 1e-4,\n",
    "           'lr_scheduler': None,\n",
    "           'momentum': 0,\n",
    "           'nesterov': False,\n",
    "           'batch_size': 1000, \n",
    "           'max_epochs': 100,\n",
    "           'early_stopping_patience': 1000000,\n",
    "           'dtype': torch.float,\n",
    "           'precision': 32, \n",
    "           'symmetry_method_train': None,\n",
    "           'symmetry_method_sim': None,\n",
    "           'colinv_conservation_method': None,#also change output_dim\n",
    "           'output_dim': 9,\n",
    "           'resnet': False,\n",
    "           'inject_tau': False,\n",
    "           'skipconnection': False,\n",
    "           'learn_neq': False,\n",
    "           'mu_0': 100,\n",
    "           'mu_max': 10**9,\n",
    "           'sigma_ALM': 2,\n",
    "           'eta': 0.1}\n",
    "\n",
    "generate_data_and_train(BGKNN, hparams, trainingdataparams, label='nolrdecay', sublogdir='tau_input_overnight')"
   ]
  },
  {
   "cell_type": "code",
   "execution_count": null,
   "id": "879bc501-4be7-44ef-ae70-a13a815d7b8f",
   "metadata": {},
   "outputs": [],
   "source": [
    "hparams = {'gpus': '1',\n",
    "           'accelerator': None,\n",
    "           'input_dim': 10, \n",
    "           'hidden_dim': [50,50],  \n",
    "           'activations': [torch.nn.ReLU(), torch.nn.ReLU()],\n",
    "           'output_activation': False,\n",
    "           'batchnorm': False,\n",
    "           'bias': False,\n",
    "           'optimizer': torch.optim.Adam, \n",
    "           'loss_terms': [RelMSE],\n",
    "           'loss_lambdas': [1],\n",
    "           'metric': RelMAE,\n",
    "           'learning_rate': 1e-4,\n",
    "           'lr_scheduler': None,\n",
    "           'momentum': 0,\n",
    "           'nesterov': False,\n",
    "           'batch_size': 1000, \n",
    "           'max_epochs': 100,\n",
    "           'early_stopping_patience': 1000000,\n",
    "           'dtype': torch.float,\n",
    "           'precision': 32, \n",
    "           'symmetry_method_train': None,\n",
    "           'symmetry_method_sim': None,\n",
    "           'colinv_conservation_method': None,#also change output_dim\n",
    "           'output_dim': 9,\n",
    "           'resnet': False,\n",
    "           'inject_tau': False,\n",
    "           'skipconnection': False,\n",
    "           'learn_neq': False,\n",
    "           'mu_0': 100,\n",
    "           'mu_max': 10**9,\n",
    "           'sigma_ALM': 2,\n",
    "           'eta': 0.1}"
   ]
  }
 ],
 "metadata": {
  "kernelspec": {
   "display_name": "Python 3 (ipykernel)",
   "language": "python",
   "name": "python3"
  },
  "language_info": {
   "codemirror_mode": {
    "name": "ipython",
    "version": 3
   },
   "file_extension": ".py",
   "mimetype": "text/x-python",
   "name": "python",
   "nbconvert_exporter": "python",
   "pygments_lexer": "ipython3",
   "version": "3.10.9"
  }
 },
 "nbformat": 4,
 "nbformat_minor": 5
}
