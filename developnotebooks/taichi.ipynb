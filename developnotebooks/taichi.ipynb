{
 "cells": [
  {
   "cell_type": "code",
   "execution_count": 1,
   "metadata": {},
   "outputs": [
    {
     "name": "stdout",
     "output_type": "stream",
     "text": [
      "Number of primes: 78498\n",
      "time elapsed: 3.365412123996066/s\n"
     ]
    }
   ],
   "source": [
    "import time\n",
    "\n",
    "N = 1000000\n",
    "\n",
    "def is_prime(n: int):\n",
    "    result = True\n",
    "    for k in range(2, int(n**0.5) + 1):\n",
    "        if n % k == 0:\n",
    "            result = False\n",
    "            break\n",
    "    return result\n",
    "\n",
    "def count_primes(n: int) -> int:\n",
    "    count = 0\n",
    "    for k in range(2, n):\n",
    "        if is_prime(k):\n",
    "            count += 1\n",
    "\n",
    "    return count\n",
    "\n",
    "start = time.perf_counter()\n",
    "print(f\"Number of primes: {count_primes(N)}\")\n",
    "print(f\"time elapsed: {time.perf_counter() - start}/s\")"
   ]
  },
  {
   "cell_type": "code",
   "execution_count": 7,
   "metadata": {},
   "outputs": [
    {
     "name": "stdout",
     "output_type": "stream",
     "text": [
      "[Taichi] Starting on arch=x64\n",
      "Number of primes: 78498\n",
      "time elapsed: 0.06658253699424677/s\n"
     ]
    }
   ],
   "source": [
    "import taichi as ti\n",
    "ti.init(arch=ti.cpu)\n",
    "\n",
    "@ti.func\n",
    "def is_prime(n: int):\n",
    "    result = True\n",
    "    for k in range(2, int(n**0.5) + 1):\n",
    "        if n % k == 0:\n",
    "            result = False\n",
    "            break\n",
    "    return result\n",
    "\n",
    "@ti.kernel\n",
    "def count_primes(n: int) -> int:\n",
    "    count = 0\n",
    "    for k in range(2, n):\n",
    "        if is_prime(k):\n",
    "            count += 1\n",
    "\n",
    "    return count\n",
    "\n",
    "start = time.perf_counter()\n",
    "print(f\"Number of primes: {count_primes(N)}\")\n",
    "print(f\"time elapsed: {time.perf_counter() - start}/s\")"
   ]
  },
  {
   "cell_type": "code",
   "execution_count": 3,
   "metadata": {},
   "outputs": [
    {
     "name": "stdout",
     "output_type": "stream",
     "text": [
      "Collecting taichi\n",
      "  Downloading taichi-1.7.1-cp310-cp310-manylinux_2_27_x86_64.whl (54.6 MB)\n",
      "\u001b[2K     \u001b[90m━━━━━━━━━━━━━━━━━━━━━━━━━━━━━━━━━━━━━━━━\u001b[0m \u001b[32m54.6/54.6 MB\u001b[0m \u001b[31m13.6 MB/s\u001b[0m eta \u001b[36m0:00:00\u001b[0m00:01\u001b[0m00:01\u001b[0m\n",
      "\u001b[?25hRequirement already satisfied: rich in /data/storage8/prins/anaconda3/lib/python3.10/site-packages (from taichi) (13.5.2)\n",
      "Requirement already satisfied: colorama in /data/storage8/prins/anaconda3/lib/python3.10/site-packages (from taichi) (0.4.6)\n",
      "Requirement already satisfied: dill in /data/storage8/prins/anaconda3/lib/python3.10/site-packages (from taichi) (0.3.6)\n",
      "Requirement already satisfied: numpy in /data/storage8/prins/anaconda3/lib/python3.10/site-packages (from taichi) (1.23.5)\n",
      "Requirement already satisfied: markdown-it-py>=2.2.0 in /data/storage8/prins/anaconda3/lib/python3.10/site-packages (from rich->taichi) (3.0.0)\n",
      "Requirement already satisfied: pygments<3.0.0,>=2.13.0 in /home/prins/.local/lib/python3.10/site-packages (from rich->taichi) (2.18.0)\n",
      "Requirement already satisfied: mdurl~=0.1 in /data/storage8/prins/anaconda3/lib/python3.10/site-packages (from markdown-it-py>=2.2.0->rich->taichi) (0.1.2)\n",
      "Installing collected packages: taichi\n",
      "Successfully installed taichi-1.7.1\n"
     ]
    }
   ],
   "source": [
    "!pip install taichi"
   ]
  },
  {
   "cell_type": "code",
   "execution_count": null,
   "metadata": {},
   "outputs": [],
   "source": []
  }
 ],
 "metadata": {
  "kernelspec": {
   "display_name": "Python 3 (ipykernel)",
   "language": "python",
   "name": "python3"
  },
  "language_info": {
   "codemirror_mode": {
    "name": "ipython",
    "version": 3
   },
   "file_extension": ".py",
   "mimetype": "text/x-python",
   "name": "python",
   "nbconvert_exporter": "python",
   "pygments_lexer": "ipython3",
   "version": "3.10.9"
  }
 },
 "nbformat": 4,
 "nbformat_minor": 2
}
