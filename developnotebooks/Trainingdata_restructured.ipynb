{
 "cells": [
  {
   "cell_type": "code",
   "execution_count": 1,
   "id": "18c463e4-c4b3-459c-a358-e3943410dd25",
   "metadata": {},
   "outputs": [],
   "source": [
    "import numpy as np"
   ]
  },
  {
   "cell_type": "code",
   "execution_count": 2,
   "id": "d1413a86-3c0d-4443-8260-51d0cdcbb82f",
   "metadata": {},
   "outputs": [],
   "source": [
    "import sys\n",
    "sys.path.insert(0, '../fem')\n",
    "from GRF_new import *\n",
    "from hc2d import *\n",
    "from datasaver import *"
   ]
  },
  {
   "cell_type": "code",
   "execution_count": 3,
   "id": "a818a6ba-fb4b-429a-afe8-4f04dae9398e",
   "metadata": {},
   "outputs": [],
   "source": [
    "simparams = {'d': 2,\n",
    "             'nelems': 32,\n",
    "             'etype': 'square',\n",
    "             'btype': 'spline',\n",
    "             'basisdegree': 1,\n",
    "             'intdegree': 2,\n",
    "             'nfemsamples': 2}\n",
    "\n",
    "p_theta = {'l': np.random.uniform(),\n",
    "        'lowerbound': 0.02,\n",
    "        'upperbound': None}\n",
    "\n",
    "p_f = {'l': np.random.uniform(),\n",
    "        'lowerbound': None,\n",
    "        'upperbound': None}\n",
    "\n",
    "p_eta = {'l': np.random.uniform(),\n",
    "        'lowerbound': None,\n",
    "        'upperbound': None}\n",
    "\n",
    "inputdataparams = {'theta': p_theta,\n",
    "          'f': p_f,\n",
    "          'eta': p_eta}\n",
    "\n",
    "trainingdataparams = {'N_outputnodes': 268,\n",
    "                   'N_samples': 3}\n",
    "\n",
    "params = {}\n",
    "params['simparams'] = simparams\n",
    "params['inputdataparams'] = inputdataparams\n",
    "params['trainingdataparams'] = trainingdataparams\n",
    "\n",
    "savedir = '.'"
   ]
  },
  {
   "cell_type": "code",
   "execution_count": 4,
   "id": "1a4ba5ba-389f-4204-972f-59e513034971",
   "metadata": {},
   "outputs": [],
   "source": [
    "thetaset = GRFset(**simparams, **trainingdataparams, **inputdataparams['theta'])\n",
    "fset = GRFset(**simparams, **trainingdataparams, **inputdataparams['f'])\n",
    "etabset = GRFset(**simparams, **trainingdataparams, **inputdataparams['eta'])\n",
    "etatset = GRFset(**simparams, **trainingdataparams, **inputdataparams['eta'])"
   ]
  },
  {
   "cell_type": "code",
   "execution_count": 7,
   "id": "4e83d9ba-dc34-43aa-93ea-93f77923295b",
   "metadata": {},
   "outputs": [
    {
     "name": "stdout",
     "output_type": "stream",
     "text": [
      "optimize > constrained 66/1089 dofs\n",
      "optimize > optimum value 0.00e+00\n",
      "solve > solving 1023 dof system to machine precision using arnoldi solver\n",
      "solve > solver returned with residual 5e-16\n",
      "optimize > constrained 66/1089 dofs\n",
      "optimize > optimum value 0.00e+00\n",
      "solve > solving 1023 dof system to machine precision using arnoldi solver\n",
      "solve > solver returned with residual 9e-16\n",
      "optimize > constrained 66/1089 dofs\n",
      "optimize > optimum value 0.00e+00\n",
      "solve > solving 1023 dof system to machine precision using arnoldi solver\n",
      "solve > solver returned with residual 1e-15\n"
     ]
    }
   ],
   "source": [
    "x_array = []\n",
    "u_array = []\n",
    "\n",
    "for i in range(trainingdataparams['N_samples']):\n",
    "\n",
    "    inputs = {'theta': thetaset.grfs_nutils[i],\n",
    "              'f': fset.grfs_nutils[i],\n",
    "              'etab': etabset.grfs_nutils[i],\n",
    "              'etat': etatset.grfs_nutils[i],\n",
    "              'gl': 0,\n",
    "              'gr': 0}\n",
    "\n",
    "    x, u = main(**simparams, **trainingdataparams, **inputs)\n",
    "    \n",
    "    x_array.append(x)\n",
    "    u_array.append(u)\n",
    "    \n",
    "data = {'x': x_array,\n",
    "        'u': u_array}\n",
    "\n",
    "save_function_list(params, variable='theta', function_list=thetaset.grfs_ngo, savedir=savedir)\n",
    "save_function_list(params, variable='f', function_list=fset.grfs_ngo, savedir=savedir)\n",
    "save_function_list(params, variable='etab', function_list=etabset.grfs_ngo, savedir=savedir)\n",
    "save_function_list(params, variable='etat', function_list=etatset.grfs_ngo, savedir=savedir)\n",
    "save_data(params, variable='x', data=x_array, savedir=savedir)\n",
    "save_data(params, variable='u', data=u_array, savedir=savedir)"
   ]
  },
  {
   "cell_type": "code",
   "execution_count": null,
   "id": "796ca913-2afd-4d48-a859-8ba40b7b019d",
   "metadata": {},
   "outputs": [],
   "source": []
  }
 ],
 "metadata": {
  "kernelspec": {
   "display_name": "Python 3 (ipykernel)",
   "language": "python",
   "name": "python3"
  },
  "language_info": {
   "codemirror_mode": {
    "name": "ipython",
    "version": 3
   },
   "file_extension": ".py",
   "mimetype": "text/x-python",
   "name": "python",
   "nbconvert_exporter": "python",
   "pygments_lexer": "ipython3",
   "version": "3.10.9"
  }
 },
 "nbformat": 4,
 "nbformat_minor": 5
}
