{
 "cells": [
  {
   "cell_type": "code",
   "execution_count": 1,
   "id": "18c463e4-c4b3-459c-a358-e3943410dd25",
   "metadata": {},
   "outputs": [],
   "source": [
    "import numpy as np\n",
    "from nutils import mesh, function, solver\n",
    "from nutils.expression_v2 import Namespace\n",
    "import torch"
   ]
  },
  {
   "cell_type": "code",
   "execution_count": 4,
   "id": "d1413a86-3c0d-4443-8260-51d0cdcbb82f",
   "metadata": {},
   "outputs": [],
   "source": [
    "import sys\n",
    "sys.path.insert(0, '../fem')\n",
    "from GRF_new import *\n",
    "from hc2d import *\n",
    "from datasaver import *"
   ]
  },
  {
   "cell_type": "code",
   "execution_count": 5,
   "id": "a818a6ba-fb4b-429a-afe8-4f04dae9398e",
   "metadata": {},
   "outputs": [],
   "source": [
    "simparams = {'d': 2,\n",
    "             'nelems': 32,\n",
    "             'etype': 'square',\n",
    "             'btype': 'spline',\n",
    "             'basisdegree': 1,\n",
    "             'intdegree': 2,\n",
    "             'nfemsamples': 2}\n",
    "\n",
    "p_theta = {'l': np.random.uniform(),\n",
    "        'lowerbound': 0.02,\n",
    "        'upperbound': None}\n",
    "\n",
    "p_f = {'l': np.random.uniform(),\n",
    "        'lowerbound': None,\n",
    "        'upperbound': None}\n",
    "\n",
    "p_eta = {'l': np.random.uniform(),\n",
    "        'lowerbound': None,\n",
    "        'upperbound': None}\n",
    "\n",
    "inputdataparams = {'theta': p_theta,\n",
    "          'f': p_f,\n",
    "          'eta': p_eta}\n",
    "\n",
    "trainingdataparams = {'N_outputnodes': 268,\n",
    "                   'N_samples': 100}\n",
    "\n",
    "params = {}\n",
    "params['simparams'] = simparams\n",
    "params['inputdataparams'] = inputdataparams\n",
    "params['trainingdataparams'] = trainingdataparams"
   ]
  },
  {
   "cell_type": "code",
   "execution_count": null,
   "id": "1a4ba5ba-389f-4204-972f-59e513034971",
   "metadata": {},
   "outputs": [],
   "source": [
    "thetaset = GRFset(**simparams, **trainingdataparams, **inputdataparams['theta'])\n",
    "fset = GRFset(**simparams, **trainingdataparams, **inputdataparams['f'])\n",
    "etabset = GRFset(**simparams, **trainingdataparams, **inputdataparams['eta'])\n",
    "etatset = GRFset(**simparams, **trainingdataparams, **inputdataparams['eta'])"
   ]
  },
  {
   "cell_type": "code",
   "execution_count": 6,
   "id": "4e83d9ba-dc34-43aa-93ea-93f77923295b",
   "metadata": {},
   "outputs": [],
   "source": [
    "x_array = []\n",
    "u_array = []\n",
    "\n",
    "for i in range(trainingdataparams['N_samples']):\n",
    "\n",
    "    inputs = {'theta': thetaset.grfs_nutils[i],\n",
    "              'f': fset.grfs_nutils[i],\n",
    "              'etab': etabset.grfs_nutils[i],\n",
    "              'etat': etatset.grfs_nutils[i],\n",
    "              'gl': 0,\n",
    "              'gr': 0}\n",
    "\n",
    "    x, u = main(**simparams, **trainingdataparams, **inputs)\n",
    "    \n",
    "    x_array.append(x)\n",
    "    u_array.append(u)\n",
    "    \n",
    "data = {'x': x_array,\n",
    "        'u': u_array}\n",
    "\n",
    "savedata(params, data, savedir='.', label='test')"
   ]
  },
  {
   "cell_type": "code",
   "execution_count": 38,
   "id": "e47ad5ba-097a-4c0f-8c39-c78d8e180da8",
   "metadata": {},
   "outputs": [],
   "source": [
    "def save_function_list(params, variable, function_list, savedir):\n",
    "    if not os.path.isdir(savedir):\n",
    "        os.makedirs(savedir)\n",
    "    with open(savedir+'/params.json', 'w') as fp:\n",
    "        json.dump(params, fp)\n",
    "    # Serialize the function list\n",
    "    serialized_functions = dill.dumps(function_list)\n",
    "    # Save the serialized functions to a file\n",
    "    with open(savedir+'/'+variable+'.pkl', 'wb') as file:\n",
    "        file.write(serialized_functions)"
   ]
  },
  {
   "cell_type": "code",
   "execution_count": 40,
   "id": "886699d1-b905-4bff-8b3a-8d6a2a21f358",
   "metadata": {},
   "outputs": [
    {
     "ename": "AttributeError",
     "evalue": "'GRFset' object has no attribute 'grfs_ngo'",
     "output_type": "error",
     "traceback": [
      "\u001b[0;31m---------------------------------------------------------------------------\u001b[0m",
      "\u001b[0;31mAttributeError\u001b[0m                            Traceback (most recent call last)",
      "Cell \u001b[0;32mIn[40], line 1\u001b[0m\n\u001b[0;32m----> 1\u001b[0m save_function_list(params\u001b[38;5;241m=\u001b[39m{}, variable\u001b[38;5;241m=\u001b[39m\u001b[38;5;124m'\u001b[39m\u001b[38;5;124mtheta\u001b[39m\u001b[38;5;124m'\u001b[39m, function_list\u001b[38;5;241m=\u001b[39m\u001b[43mthetaset\u001b[49m\u001b[38;5;241;43m.\u001b[39;49m\u001b[43mgrfs_ngo\u001b[49m, savedir\u001b[38;5;241m=\u001b[39m\u001b[38;5;124m'\u001b[39m\u001b[38;5;124m.\u001b[39m\u001b[38;5;124m'\u001b[39m)\n",
      "\u001b[0;31mAttributeError\u001b[0m: 'GRFset' object has no attribute 'grfs_ngo'"
     ]
    }
   ],
   "source": [
    "save_function_list(params={}, variable='theta', function_list=thetaset.grfs_ngo, savedir='.')"
   ]
  },
  {
   "cell_type": "code",
   "execution_count": 30,
   "id": "4c4b2436-e8cc-403d-9a63-1221d4a59ed5",
   "metadata": {},
   "outputs": [],
   "source": [
    "# Deserialize the functions from the file\n",
    "with open('serialized_functions.pkl', 'rb') as file:\n",
    "    serialized_functions = file.read()\n",
    "    deserialized_functions = dill.loads(serialized_functions)"
   ]
  },
  {
   "cell_type": "code",
   "execution_count": 33,
   "id": "fd482cd1-d955-4836-a582-05230bd1766d",
   "metadata": {},
   "outputs": [
    {
     "name": "stdout",
     "output_type": "stream",
     "text": [
      "<function GRF.RBFint_scaled.<locals>.function at 0x7fde0ee02c20>\n",
      "<function GRF.RBFint_scaled.<locals>.function at 0x7fde0ebb67a0>\n",
      "<function GRF.RBFint_scaled.<locals>.function at 0x7fde0ebb7640>\n",
      "<function GRF.RBFint_scaled.<locals>.function at 0x7fde0ebb7c70>\n",
      "<function GRF.RBFint_scaled.<locals>.function at 0x7fde0ebb6440>\n",
      "<function GRF.RBFint_scaled.<locals>.function at 0x7fde0ebb70a0>\n",
      "<function GRF.RBFint_scaled.<locals>.function at 0x7fde0ebb76d0>\n",
      "<function GRF.RBFint_scaled.<locals>.function at 0x7fde0ebb7ac0>\n",
      "<function GRF.RBFint_scaled.<locals>.function at 0x7fde0ebb5fc0>\n",
      "<function GRF.RBFint_scaled.<locals>.function at 0x7fde0ebb5d80>\n",
      "<function GRF.RBFint_scaled.<locals>.function at 0x7fde0ebb79a0>\n",
      "<function GRF.RBFint_scaled.<locals>.function at 0x7fde0ebb6170>\n",
      "<function GRF.RBFint_scaled.<locals>.function at 0x7fde0ebb5750>\n",
      "<function GRF.RBFint_scaled.<locals>.function at 0x7fde0ebb5b40>\n",
      "<function GRF.RBFint_scaled.<locals>.function at 0x7fde0ea884c0>\n",
      "<function GRF.RBFint_scaled.<locals>.function at 0x7fde0ea88280>\n",
      "<function GRF.RBFint_scaled.<locals>.function at 0x7fde0ea883a0>\n",
      "<function GRF.RBFint_scaled.<locals>.function at 0x7fde0ea88820>\n",
      "<function GRF.RBFint_scaled.<locals>.function at 0x7fde0ea88670>\n",
      "<function GRF.RBFint_scaled.<locals>.function at 0x7fde0ea88790>\n",
      "<function GRF.RBFint_scaled.<locals>.function at 0x7fde0ea885e0>\n",
      "<function GRF.RBFint_scaled.<locals>.function at 0x7fde0ea88b80>\n",
      "<function GRF.RBFint_scaled.<locals>.function at 0x7fde0ea888b0>\n",
      "<function GRF.RBFint_scaled.<locals>.function at 0x7fde0ea88af0>\n",
      "<function GRF.RBFint_scaled.<locals>.function at 0x7fde0ea88c10>\n",
      "<function GRF.RBFint_scaled.<locals>.function at 0x7fde0ea88dc0>\n",
      "<function GRF.RBFint_scaled.<locals>.function at 0x7fde0ea88e50>\n",
      "<function GRF.RBFint_scaled.<locals>.function at 0x7fde0ea88f70>\n",
      "<function GRF.RBFint_scaled.<locals>.function at 0x7fde0ea88ee0>\n",
      "<function GRF.RBFint_scaled.<locals>.function at 0x7fde0ea89000>\n",
      "<function GRF.RBFint_scaled.<locals>.function at 0x7fde0ea89090>\n",
      "<function GRF.RBFint_scaled.<locals>.function at 0x7fde0ea88550>\n",
      "<function GRF.RBFint_scaled.<locals>.function at 0x7fde0ea89120>\n",
      "<function GRF.RBFint_scaled.<locals>.function at 0x7fde0ea891b0>\n",
      "<function GRF.RBFint_scaled.<locals>.function at 0x7fde0ea89240>\n",
      "<function GRF.RBFint_scaled.<locals>.function at 0x7fde0ea892d0>\n",
      "<function GRF.RBFint_scaled.<locals>.function at 0x7fde0ea89360>\n",
      "<function GRF.RBFint_scaled.<locals>.function at 0x7fde0ea893f0>\n",
      "<function GRF.RBFint_scaled.<locals>.function at 0x7fde0ea89480>\n",
      "<function GRF.RBFint_scaled.<locals>.function at 0x7fde0ea89510>\n",
      "<function GRF.RBFint_scaled.<locals>.function at 0x7fde0ea895a0>\n",
      "<function GRF.RBFint_scaled.<locals>.function at 0x7fde0ea89630>\n",
      "<function GRF.RBFint_scaled.<locals>.function at 0x7fde0ea896c0>\n",
      "<function GRF.RBFint_scaled.<locals>.function at 0x7fde0ea89750>\n",
      "<function GRF.RBFint_scaled.<locals>.function at 0x7fde0ea897e0>\n",
      "<function GRF.RBFint_scaled.<locals>.function at 0x7fde0ea89870>\n",
      "<function GRF.RBFint_scaled.<locals>.function at 0x7fde0ea89900>\n",
      "<function GRF.RBFint_scaled.<locals>.function at 0x7fde0ea89990>\n",
      "<function GRF.RBFint_scaled.<locals>.function at 0x7fde0ea89a20>\n",
      "<function GRF.RBFint_scaled.<locals>.function at 0x7fde0ea89ab0>\n",
      "<function GRF.RBFint_scaled.<locals>.function at 0x7fde0ea89b40>\n",
      "<function GRF.RBFint_scaled.<locals>.function at 0x7fde0ea89bd0>\n",
      "<function GRF.RBFint_scaled.<locals>.function at 0x7fde0ea89c60>\n",
      "<function GRF.RBFint_scaled.<locals>.function at 0x7fde0ea89cf0>\n",
      "<function GRF.RBFint_scaled.<locals>.function at 0x7fde0ea89d80>\n",
      "<function GRF.RBFint_scaled.<locals>.function at 0x7fde0ea89e10>\n",
      "<function GRF.RBFint_scaled.<locals>.function at 0x7fde0ea89ea0>\n",
      "<function GRF.RBFint_scaled.<locals>.function at 0x7fde0ea89f30>\n",
      "<function GRF.RBFint_scaled.<locals>.function at 0x7fde0ea89fc0>\n",
      "<function GRF.RBFint_scaled.<locals>.function at 0x7fde0ea8a050>\n",
      "<function GRF.RBFint_scaled.<locals>.function at 0x7fde0ea8a0e0>\n",
      "<function GRF.RBFint_scaled.<locals>.function at 0x7fde0ea8a170>\n",
      "<function GRF.RBFint_scaled.<locals>.function at 0x7fde0ea8a200>\n",
      "<function GRF.RBFint_scaled.<locals>.function at 0x7fde0ea8a290>\n",
      "<function GRF.RBFint_scaled.<locals>.function at 0x7fde0ea8a320>\n",
      "<function GRF.RBFint_scaled.<locals>.function at 0x7fde0ea8a3b0>\n",
      "<function GRF.RBFint_scaled.<locals>.function at 0x7fde0ea8a440>\n",
      "<function GRF.RBFint_scaled.<locals>.function at 0x7fde0ea8a4d0>\n",
      "<function GRF.RBFint_scaled.<locals>.function at 0x7fde0ea8a560>\n",
      "<function GRF.RBFint_scaled.<locals>.function at 0x7fde0ea8a5f0>\n",
      "<function GRF.RBFint_scaled.<locals>.function at 0x7fde0ea8a680>\n",
      "<function GRF.RBFint_scaled.<locals>.function at 0x7fde0ea8a710>\n",
      "<function GRF.RBFint_scaled.<locals>.function at 0x7fde0ea8a7a0>\n",
      "<function GRF.RBFint_scaled.<locals>.function at 0x7fde0ea8a830>\n",
      "<function GRF.RBFint_scaled.<locals>.function at 0x7fde0ea8a8c0>\n",
      "<function GRF.RBFint_scaled.<locals>.function at 0x7fde0ea8a950>\n",
      "<function GRF.RBFint_scaled.<locals>.function at 0x7fde0ea8a9e0>\n",
      "<function GRF.RBFint_scaled.<locals>.function at 0x7fde0ea8aa70>\n",
      "<function GRF.RBFint_scaled.<locals>.function at 0x7fde0ea8ab00>\n",
      "<function GRF.RBFint_scaled.<locals>.function at 0x7fde0ea8ab90>\n",
      "<function GRF.RBFint_scaled.<locals>.function at 0x7fde0ea8ac20>\n",
      "<function GRF.RBFint_scaled.<locals>.function at 0x7fde0ea8acb0>\n",
      "<function GRF.RBFint_scaled.<locals>.function at 0x7fde0ea8ad40>\n",
      "<function GRF.RBFint_scaled.<locals>.function at 0x7fde0ea8add0>\n",
      "<function GRF.RBFint_scaled.<locals>.function at 0x7fde0ea8ae60>\n",
      "<function GRF.RBFint_scaled.<locals>.function at 0x7fde0ea8aef0>\n",
      "<function GRF.RBFint_scaled.<locals>.function at 0x7fde0ea8af80>\n",
      "<function GRF.RBFint_scaled.<locals>.function at 0x7fde0ea8b010>\n",
      "<function GRF.RBFint_scaled.<locals>.function at 0x7fde0ea8b0a0>\n",
      "<function GRF.RBFint_scaled.<locals>.function at 0x7fde0ea8b130>\n",
      "<function GRF.RBFint_scaled.<locals>.function at 0x7fde0ea8b1c0>\n",
      "<function GRF.RBFint_scaled.<locals>.function at 0x7fde0ea8b250>\n",
      "<function GRF.RBFint_scaled.<locals>.function at 0x7fde0ea8b2e0>\n",
      "<function GRF.RBFint_scaled.<locals>.function at 0x7fde0ea8b370>\n",
      "<function GRF.RBFint_scaled.<locals>.function at 0x7fde0ea8b400>\n",
      "<function GRF.RBFint_scaled.<locals>.function at 0x7fde0ea8b490>\n",
      "<function GRF.RBFint_scaled.<locals>.function at 0x7fde0ea8b520>\n",
      "<function GRF.RBFint_scaled.<locals>.function at 0x7fde0ea8b5b0>\n",
      "<function GRF.RBFint_scaled.<locals>.function at 0x7fde0ea8b640>\n",
      "<function GRF.RBFint_scaled.<locals>.function at 0x7fde0ea8b6d0>\n"
     ]
    }
   ],
   "source": [
    "# Use the deserialized functions\n",
    "for func in deserialized_functions:\n",
    "    result = func  # Call the deserialized function\n",
    "    print(func)"
   ]
  },
  {
   "cell_type": "code",
   "execution_count": null,
   "id": "796ca913-2afd-4d48-a859-8ba40b7b019d",
   "metadata": {},
   "outputs": [],
   "source": []
  }
 ],
 "metadata": {
  "kernelspec": {
   "display_name": "Python 3 (ipykernel)",
   "language": "python",
   "name": "python3"
  },
  "language_info": {
   "codemirror_mode": {
    "name": "ipython",
    "version": 3
   },
   "file_extension": ".py",
   "mimetype": "text/x-python",
   "name": "python",
   "nbconvert_exporter": "python",
   "pygments_lexer": "ipython3",
   "version": "3.10.9"
  }
 },
 "nbformat": 4,
 "nbformat_minor": 5
}
