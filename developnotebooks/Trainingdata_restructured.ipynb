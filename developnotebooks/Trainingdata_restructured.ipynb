{
 "cells": [
  {
   "cell_type": "code",
   "execution_count": 1,
   "id": "18c463e4-c4b3-459c-a358-e3943410dd25",
   "metadata": {},
   "outputs": [],
   "source": [
    "import numpy as np"
   ]
  },
  {
   "cell_type": "code",
   "execution_count": 2,
   "id": "d1413a86-3c0d-4443-8260-51d0cdcbb82f",
   "metadata": {},
   "outputs": [
    {
     "ename": "ModuleNotFoundError",
     "evalue": "No module named 'GRF'",
     "output_type": "error",
     "traceback": [
      "\u001b[0;31m---------------------------------------------------------------------------\u001b[0m",
      "\u001b[0;31mModuleNotFoundError\u001b[0m                       Traceback (most recent call last)",
      "Cell \u001b[0;32mIn[2], line 3\u001b[0m\n\u001b[1;32m      1\u001b[0m \u001b[38;5;28;01mimport\u001b[39;00m \u001b[38;5;21;01msys\u001b[39;00m\n\u001b[1;32m      2\u001b[0m sys\u001b[38;5;241m.\u001b[39mpath\u001b[38;5;241m.\u001b[39minsert(\u001b[38;5;241m0\u001b[39m, \u001b[38;5;124m'\u001b[39m\u001b[38;5;124m../fem\u001b[39m\u001b[38;5;124m'\u001b[39m)\n\u001b[0;32m----> 3\u001b[0m \u001b[38;5;28;01mfrom\u001b[39;00m \u001b[38;5;21;01mGRF\u001b[39;00m \u001b[38;5;28;01mimport\u001b[39;00m \u001b[38;5;241m*\u001b[39m\n\u001b[1;32m      4\u001b[0m \u001b[38;5;28;01mfrom\u001b[39;00m \u001b[38;5;21;01mhc2d\u001b[39;00m \u001b[38;5;28;01mimport\u001b[39;00m \u001b[38;5;241m*\u001b[39m\n\u001b[1;32m      5\u001b[0m \u001b[38;5;28;01mfrom\u001b[39;00m \u001b[38;5;21;01mdatasaver\u001b[39;00m \u001b[38;5;28;01mimport\u001b[39;00m \u001b[38;5;241m*\u001b[39m\n",
      "\u001b[0;31mModuleNotFoundError\u001b[0m: No module named 'GRF'"
     ]
    }
   ],
   "source": [
    "import sys\n",
    "sys.path.insert(0, '../fem')\n",
    "from GRF import *\n",
    "from hc2d import *\n",
    "from datasaver import *"
   ]
  },
  {
   "cell_type": "code",
   "execution_count": null,
   "id": "a818a6ba-fb4b-429a-afe8-4f04dae9398e",
   "metadata": {},
   "outputs": [],
   "source": [
    "simparams = {'d': 2,\n",
    "             'nelems': 32,\n",
    "             'etype': 'square',\n",
    "             'btype': 'spline',\n",
    "             'basisdegree': 1,\n",
    "             'intdegree': 2,\n",
    "             'nfemsamples': 2}\n",
    "\n",
    "p_theta = {'l': np.random.uniform(),\n",
    "        'lowerbound': 0.02,\n",
    "        'upperbound': None}\n",
    "\n",
    "p_f = {'l': np.random.uniform(),\n",
    "        'lowerbound': None,\n",
    "        'upperbound': None}\n",
    "\n",
    "p_eta = {'l': np.random.uniform(),\n",
    "        'lowerbound': None,\n",
    "        'upperbound': None}\n",
    "\n",
    "inputdataparams = {'theta': p_theta,\n",
    "          'f': p_f,\n",
    "          'eta': p_eta}\n",
    "\n",
    "trainingdataparams = {'N_samples': 3}\n",
    "\n",
    "params = {}\n",
    "params['simparams'] = simparams\n",
    "params['inputdataparams'] = inputdataparams\n",
    "params['trainingdataparams'] = trainingdataparams\n",
    "\n",
    "savedir = '.'"
   ]
  },
  {
   "cell_type": "code",
   "execution_count": null,
   "id": "1a4ba5ba-389f-4204-972f-59e513034971",
   "metadata": {},
   "outputs": [],
   "source": [
    "thetaset = GRFset(**simparams, **trainingdataparams, **inputdataparams['theta'])\n",
    "fset = GRFset(**simparams, **trainingdataparams, **inputdataparams['f'])\n",
    "etabset = GRFset(**simparams, **trainingdataparams, **inputdataparams['eta'])\n",
    "etatset = GRFset(**simparams, **trainingdataparams, **inputdataparams['eta'])"
   ]
  },
  {
   "cell_type": "code",
   "execution_count": null,
   "id": "4e83d9ba-dc34-43aa-93ea-93f77923295b",
   "metadata": {},
   "outputs": [],
   "source": [
    "x_array = []\n",
    "u_array = []\n",
    "\n",
    "for i in range(trainingdataparams['N_samples']):\n",
    "\n",
    "    inputs = {'theta': thetaset.grfs_nutils[i],\n",
    "              'f': fset.grfs_nutils[i],\n",
    "              'etab': etabset.grfs_nutils[i],\n",
    "              'etat': etatset.grfs_nutils[i],\n",
    "              'gl': 0,\n",
    "              'gr': 0}\n",
    "\n",
    "    x, u = main(**simparams, **trainingdataparams, **inputs)\n",
    "    \n",
    "    x_array.append(x)\n",
    "    u_array.append(u)\n",
    "    \n",
    "data = {'x': x_array,\n",
    "        'u': u_array}\n",
    "\n",
    "save_function_list(params, variable='theta', function_list=thetaset.grfs_ngo, savedir=savedir)\n",
    "save_function_list(params, variable='f', function_list=fset.grfs_ngo, savedir=savedir)\n",
    "save_function_list(params, variable='etab', function_list=etabset.grfs_ngo, savedir=savedir)\n",
    "save_function_list(params, variable='etat', function_list=etatset.grfs_ngo, savedir=savedir)\n",
    "save_data(params, variable='x', data=x_array, savedir=savedir)\n",
    "save_data(params, variable='u', data=u_array, savedir=savedir)"
   ]
  },
  {
   "cell_type": "code",
   "execution_count": 6,
   "id": "796ca913-2afd-4d48-a859-8ba40b7b019d",
   "metadata": {},
   "outputs": [
    {
     "data": {
      "text/plain": [
       "[<function GRF.GRF.RBFint_scaled.<locals>.function(x)>,\n",
       " <function GRF.GRF.RBFint_scaled.<locals>.function(x)>,\n",
       " <function GRF.GRF.RBFint_scaled.<locals>.function(x)>]"
      ]
     },
     "execution_count": 6,
     "metadata": {},
     "output_type": "execute_result"
    }
   ],
   "source": [
    "load_function_list(variable='theta', loaddir='.')"
   ]
  },
  {
   "cell_type": "code",
   "execution_count": null,
   "id": "c92ff535-21e0-45fb-91a8-1f8841ac1c26",
   "metadata": {},
   "outputs": [],
   "source": []
  }
 ],
 "metadata": {
  "kernelspec": {
   "display_name": "Python 3 (ipykernel)",
   "language": "python",
   "name": "python3"
  },
  "language_info": {
   "codemirror_mode": {
    "name": "ipython",
    "version": 3
   },
   "file_extension": ".py",
   "mimetype": "text/x-python",
   "name": "python",
   "nbconvert_exporter": "python",
   "pygments_lexer": "ipython3",
   "version": "3.10.9"
  }
 },
 "nbformat": 4,
 "nbformat_minor": 5
}
