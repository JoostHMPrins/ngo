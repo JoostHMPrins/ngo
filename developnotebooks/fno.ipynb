{
 "cells": [
  {
   "cell_type": "code",
   "execution_count": 3,
   "metadata": {},
   "outputs": [],
   "source": [
    "import torch\n",
    "import neuralop\n",
    "import torch.nn as nn"
   ]
  },
  {
   "cell_type": "code",
   "execution_count": 16,
   "metadata": {},
   "outputs": [],
   "source": [
    "model = neuralop.models.FNO(n_modes=[10,10], in_channels=1, out_channels=1, hidden_channels=8, lifting_channels=256, projection_channels=256)"
   ]
  },
  {
   "cell_type": "code",
   "execution_count": 17,
   "metadata": {},
   "outputs": [],
   "source": [
    "x = torch.rand(10,1,10,10)\n",
    "y = torch.rand(10,1,10,10)"
   ]
  },
  {
   "cell_type": "code",
   "execution_count": 18,
   "metadata": {},
   "outputs": [
    {
     "data": {
      "text/plain": [
       "torch.Size([10, 1, 10, 10])"
      ]
     },
     "execution_count": 18,
     "metadata": {},
     "output_type": "execute_result"
    }
   ],
   "source": [
    "model.forward(x).shape"
   ]
  },
  {
   "cell_type": "code",
   "execution_count": 19,
   "metadata": {},
   "outputs": [
    {
     "data": {
      "text/plain": [
       "36137"
      ]
     },
     "execution_count": 19,
     "metadata": {},
     "output_type": "execute_result"
    }
   ],
   "source": [
    "sum(p.numel() for p in model.parameters())"
   ]
  },
  {
   "cell_type": "code",
   "execution_count": 33,
   "metadata": {},
   "outputs": [],
   "source": [
    "class FNO(nn.Module):\n",
    "    def __init__(self, params):\n",
    "        super().__init__()\n",
    "        self.hparams = params['hparams']\n",
    "        #Balancing the number of trainable parameters to N_w\n",
    "        self.num_channels = 1\n",
    "        count = 0\n",
    "        num_channels_list = []\n",
    "        while count < self.hparams['N_w']:\n",
    "            self.init_layers()\n",
    "            count = sum(p.numel() for p in self.parameters())\n",
    "            print(count)\n",
    "            num_channels_list.append(self.num_channels)\n",
    "            self.num_channels +=1\n",
    "        self.num_channels = num_channels_list[-2]\n",
    "        self.init_layers()\n",
    "        print(sum(p.numel() for p in self.parameters()))\n",
    "\n",
    "    def init_layers(self):\n",
    "        self.model = neuralop.models.FNO(n_modes=self.hparams['h'], in_channels=self.hparams['n_input_functions'], out_channels=1, hidden_channels=self.num_channels)\n",
    "\n",
    "    def forward(self, x):\n",
    "        y = self.model.forward(x)\n",
    "        return y"
   ]
  },
  {
   "cell_type": "code",
   "execution_count": 42,
   "metadata": {},
   "outputs": [],
   "source": [
    "params = {}\n",
    "hparams = {}\n",
    "hparams['N_w'] = 30000\n",
    "hparams['h'] = [10,10]\n",
    "hparams['n_input_functions'] = 1\n",
    "params['hparams'] = hparams"
   ]
  },
  {
   "cell_type": "code",
   "execution_count": 44,
   "metadata": {},
   "outputs": [
    {
     "name": "stdout",
     "output_type": "stream",
     "text": [
      "2026\n",
      "3995\n",
      "6932\n",
      "10837\n",
      "15710\n",
      "21551\n",
      "28360\n",
      "36137\n",
      "28360\n"
     ]
    }
   ],
   "source": [
    "model = FNO(params)"
   ]
  },
  {
   "cell_type": "code",
   "execution_count": 45,
   "metadata": {},
   "outputs": [
    {
     "data": {
      "text/plain": [
       "tensor([[[[0.0585, 0.0583, 0.0580,  ..., 0.0583, 0.0582, 0.0582],\n",
       "          [0.0583, 0.0583, 0.0581,  ..., 0.0584, 0.0582, 0.0582],\n",
       "          [0.0584, 0.0584, 0.0583,  ..., 0.0585, 0.0581, 0.0580],\n",
       "          ...,\n",
       "          [0.0580, 0.0585, 0.0580,  ..., 0.0586, 0.0580, 0.0583],\n",
       "          [0.0584, 0.0579, 0.0580,  ..., 0.0587, 0.0581, 0.0583],\n",
       "          [0.0583, 0.0579, 0.0581,  ..., 0.0586, 0.0583, 0.0582]]],\n",
       "\n",
       "\n",
       "        [[[0.0592, 0.0590, 0.0586,  ..., 0.0587, 0.0586, 0.0586],\n",
       "          [0.0588, 0.0586, 0.0587,  ..., 0.0588, 0.0590, 0.0588],\n",
       "          [0.0592, 0.0594, 0.0587,  ..., 0.0592, 0.0596, 0.0593],\n",
       "          ...,\n",
       "          [0.0581, 0.0580, 0.0585,  ..., 0.0587, 0.0585, 0.0580],\n",
       "          [0.0587, 0.0581, 0.0584,  ..., 0.0585, 0.0582, 0.0584],\n",
       "          [0.0587, 0.0585, 0.0588,  ..., 0.0588, 0.0584, 0.0583]]],\n",
       "\n",
       "\n",
       "        [[[0.0584, 0.0584, 0.0581,  ..., 0.0586, 0.0589, 0.0589],\n",
       "          [0.0583, 0.0582, 0.0581,  ..., 0.0586, 0.0589, 0.0586],\n",
       "          [0.0589, 0.0582, 0.0585,  ..., 0.0588, 0.0586, 0.0587],\n",
       "          ...,\n",
       "          [0.0587, 0.0580, 0.0580,  ..., 0.0591, 0.0584, 0.0586],\n",
       "          [0.0581, 0.0586, 0.0584,  ..., 0.0592, 0.0587, 0.0588],\n",
       "          [0.0582, 0.0586, 0.0582,  ..., 0.0592, 0.0587, 0.0587]]],\n",
       "\n",
       "\n",
       "        ...,\n",
       "\n",
       "\n",
       "        [[[0.0590, 0.0590, 0.0588,  ..., 0.0591, 0.0592, 0.0590],\n",
       "          [0.0585, 0.0592, 0.0587,  ..., 0.0590, 0.0593, 0.0588],\n",
       "          [0.0587, 0.0585, 0.0588,  ..., 0.0588, 0.0592, 0.0591],\n",
       "          ...,\n",
       "          [0.0584, 0.0585, 0.0584,  ..., 0.0587, 0.0585, 0.0591],\n",
       "          [0.0585, 0.0588, 0.0586,  ..., 0.0589, 0.0591, 0.0588],\n",
       "          [0.0592, 0.0587, 0.0588,  ..., 0.0588, 0.0585, 0.0589]]],\n",
       "\n",
       "\n",
       "        [[[0.0598, 0.0598, 0.0597,  ..., 0.0594, 0.0594, 0.0601],\n",
       "          [0.0604, 0.0599, 0.0597,  ..., 0.0601, 0.0595, 0.0597],\n",
       "          [0.0596, 0.0603, 0.0602,  ..., 0.0600, 0.0600, 0.0602],\n",
       "          ...,\n",
       "          [0.0599, 0.0594, 0.0599,  ..., 0.0589, 0.0597, 0.0593],\n",
       "          [0.0600, 0.0596, 0.0598,  ..., 0.0592, 0.0594, 0.0597],\n",
       "          [0.0599, 0.0601, 0.0599,  ..., 0.0594, 0.0601, 0.0600]]],\n",
       "\n",
       "\n",
       "        [[[0.0588, 0.0586, 0.0590,  ..., 0.0585, 0.0584, 0.0586],\n",
       "          [0.0584, 0.0585, 0.0584,  ..., 0.0589, 0.0586, 0.0589],\n",
       "          [0.0588, 0.0583, 0.0588,  ..., 0.0588, 0.0586, 0.0583],\n",
       "          ...,\n",
       "          [0.0588, 0.0588, 0.0583,  ..., 0.0588, 0.0591, 0.0590],\n",
       "          [0.0591, 0.0590, 0.0585,  ..., 0.0589, 0.0590, 0.0585],\n",
       "          [0.0591, 0.0589, 0.0591,  ..., 0.0586, 0.0585, 0.0588]]]],\n",
       "       grad_fn=<ConvolutionBackward0>)"
      ]
     },
     "execution_count": 45,
     "metadata": {},
     "output_type": "execute_result"
    }
   ],
   "source": [
    "model.forward(x)"
   ]
  },
  {
   "cell_type": "code",
   "execution_count": null,
   "metadata": {},
   "outputs": [],
   "source": []
  }
 ],
 "metadata": {
  "kernelspec": {
   "display_name": "Python 3",
   "language": "python",
   "name": "python3"
  },
  "language_info": {
   "codemirror_mode": {
    "name": "ipython",
    "version": 3
   },
   "file_extension": ".py",
   "mimetype": "text/x-python",
   "name": "python",
   "nbconvert_exporter": "python",
   "pygments_lexer": "ipython3",
   "version": "3.10.9"
  }
 },
 "nbformat": 4,
 "nbformat_minor": 2
}
