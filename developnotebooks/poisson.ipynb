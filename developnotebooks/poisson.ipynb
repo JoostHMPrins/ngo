{
 "cells": [
  {
   "cell_type": "code",
   "execution_count": 1,
   "id": "d1df2ad0-a9a5-407d-ae23-9c2eb58383b7",
   "metadata": {},
   "outputs": [
    {
     "name": "stdout",
     "output_type": "stream",
     "text": [
      "argument 'f' requires a value\n"
     ]
    },
    {
     "ename": "SystemExit",
     "evalue": "2",
     "output_type": "error",
     "traceback": [
      "An exception has occurred, use %tb to see the full traceback.\n",
      "\u001b[0;31mSystemExit\u001b[0m\u001b[0;31m:\u001b[0m 2\n"
     ]
    },
    {
     "name": "stderr",
     "output_type": "stream",
     "text": [
      "/home/prins/st8/anaconda3/lib/python3.10/site-packages/IPython/core/interactiveshell.py:3468: UserWarning: To exit: use 'exit', 'quit', or Ctrl-D.\n",
      "  warn(\"To exit: use 'exit', 'quit', or Ctrl-D.\", stacklevel=1)\n"
     ]
    }
   ],
   "source": [
    "# Poisson's equation on a unit square\n",
    "#\n",
    "# In this script we solve Poisson's equation `Δu = 1` subject to boundary\n",
    "# constraints, using the fact that the solution to the strong form minimizes\n",
    "# the functional `∫ .5 ‖∇u‖² - u`. The domain is a unit square, and the\n",
    "# solution is constrained to zero along the entire boundary.\n",
    "\n",
    "from nutils import mesh, function, solver, export, cli, testing\n",
    "\n",
    "\n",
    "def main(nelems: int):\n",
    "    '''\n",
    "    Poisson's equation on a unit square.\n",
    "    .. arguments::\n",
    "       nelems [32]\n",
    "         Number of elements along edge.\n",
    "    '''\n",
    "\n",
    "    topo, x = mesh.unitsquare(nelems, etype='square')\n",
    "    u = function.dotarg('u', topo.basis('std', degree=1))\n",
    "    g = u.grad(x)\n",
    "    J = function.J(x)\n",
    "\n",
    "    sqr = topo.boundary.integral(u**2 * J, degree=2)\n",
    "    cons = solver.optimize(('u',), sqr, droptol=1e-12)\n",
    "\n",
    "    energy = topo.integral((g @ g / 2 - u) * J, degree=1)\n",
    "    args = solver.optimize(('u',), energy, constrain=cons)\n",
    "\n",
    "    bezier = topo.sample('bezier', 3)\n",
    "    x, u = bezier.eval([x, u], **args)\n",
    "    export.triplot('u.png', x, u, tri=bezier.tri, cmap='jet')\n",
    "\n",
    "    return args\n",
    "\n",
    "\n",
    "# If the script is executed (as opposed to imported), :func:`nutils.cli.run`\n",
    "# calls the main function with arguments provided from the command line. To\n",
    "# keep with the default arguments simply run :sh:`python3 poisson.py`.\n",
    "\n",
    "\n",
    "if __name__ == '__main__':\n",
    "    cli.run(main)\n",
    "\n",
    "# Once a simulation is developed and tested, it is good practice to save a few\n",
    "# strategic return values for regression testing. The :mod:`nutils.testing`\n",
    "# module, which builds on the standard :mod:`unittest` framework, facilitates\n",
    "# this by providing :func:`nutils.testing.TestCase.assertAlmostEqual64` for the\n",
    "# embedding of desired results as compressed base64 data.\n",
    "\n",
    "\n",
    "class test(testing.TestCase):\n",
    "\n",
    "    def test_default(self):\n",
    "        args = main(nelems=10)\n",
    "        self.assertAlmostEqual64(args['u'], '''\n",
    "            eNp9zrENwCAMBEBGYQJ444o2ozAAYgFmYhLEFqxAmye1FUtf+PSy7Jw9J6yoKGiMYsUTrq44kaVKZ7JM\n",
    "            +lWlDdlymEFXXC2o3H1C8mmzXz5t6OwhPfTDO+2na9+1f7D/teYFdsk5vQ==''')\n",
    "\n",
    "# example:tags=Poisson's equation"
   ]
  },
  {
   "cell_type": "code",
   "execution_count": null,
   "id": "f9eeeb05-cce2-42d7-a32a-287a9fa4efbd",
   "metadata": {},
   "outputs": [],
   "source": []
  }
 ],
 "metadata": {
  "kernelspec": {
   "display_name": "Python 3 (ipykernel)",
   "language": "python",
   "name": "python3"
  },
  "language_info": {
   "codemirror_mode": {
    "name": "ipython",
    "version": 3
   },
   "file_extension": ".py",
   "mimetype": "text/x-python",
   "name": "python",
   "nbconvert_exporter": "python",
   "pygments_lexer": "ipython3",
   "version": "3.10.9"
  }
 },
 "nbformat": 4,
 "nbformat_minor": 5
}
