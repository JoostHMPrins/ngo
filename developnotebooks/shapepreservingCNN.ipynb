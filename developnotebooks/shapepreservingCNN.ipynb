{
 "cells": [
  {
   "cell_type": "code",
   "execution_count": 1,
   "id": "a60e324f-309d-4f41-a502-30dc77e1b033",
   "metadata": {},
   "outputs": [],
   "source": [
    "import torch\n",
    "from torch import nn\n",
    "from torch.nn import functional as F\n",
    "import matplotlib.pyplot as plt\n",
    "\n",
    "import sys\n",
    "sys.path.insert(0,'../ml')\n",
    "from customlayers import *"
   ]
  },
  {
   "cell_type": "code",
   "execution_count": 19,
   "id": "0c7e555c-f9a1-4885-93ef-805e58d3a952",
   "metadata": {},
   "outputs": [],
   "source": [
    "hparams = {'accelerator': 'gpu',\n",
    "           'devices': [1],\n",
    "           'dtype': torch.float64,\n",
    "           'precision': 64,\n",
    "           'loss': F.mse_loss,\n",
    "           'optimizer': torch.optim.Adam, \n",
    "           'learning_rate': 1e-4,\n",
    "           'batch_size': 12,\n",
    "           'max_epochs': 10000,\n",
    "           'early_stopping_patience': 1000000,\n",
    "           'modeltype': 'NGO',\n",
    "           'data_based': True,\n",
    "           'test_basis': 'POD',\n",
    "           'trial_basis': 'POD',\n",
    "           'quadrature': 'Gauss-Legendre',\n",
    "           'Q': 100,\n",
    "           'Q_L': 268,\n",
    "           'h': 64, \n",
    "           'bias_NLBranch': False,\n",
    "           'bias_LBranch': False,\n",
    "           'NLB_outputactivation': nn.Tanhshrink(),\n",
    "           'scale_invariance': False,\n",
    "           'symgroupavg': False}\n",
    "\n",
    "params = {}\n",
    "params['hparams'] = hparams"
   ]
  },
  {
   "cell_type": "code",
   "execution_count": 506,
   "id": "5fa6c094-df10-475b-b163-f2be04463533",
   "metadata": {},
   "outputs": [],
   "source": [
    "class SPCNN(nn.Module):\n",
    "    def __init__(self, params):\n",
    "        super().__init__()\n",
    "        self.hparams = params['hparams']\n",
    "        self.layers = nn.ModuleList()\n",
    "        self.kernel_size = 4\n",
    "        self.num_channels = int(np.sqrt(20000/(2*self.kernel_size**2)))\n",
    "        \n",
    "        #Adjusted convolutional layers\n",
    "        self.layers.append(ReshapeLayer(output_shape=(1,self.hparams['h'],self.hparams['h'])))\n",
    "        self.layers.append(nn.Conv2d(in_channels=1, out_channels=self.num_channels, kernel_size=self.kernel_size, stride=self.kernel_size, bias=self.hparams.get('bias_NLBranch', True)))\n",
    "        \n",
    "        self.layers.append(nn.LeakyReLU())\n",
    "        self.layers.append(nn.BatchNorm2d(num_features=self.num_channels, eps=1e-05, momentum=0.1, affine=True, track_running_stats=True))\n",
    "        self.layers.append(nn.Conv2d(in_channels=self.num_channels, out_channels=self.num_channels, kernel_size=self.kernel_size, stride=self.kernel_size, bias=self.hparams.get('bias_NLBranch', True)))\n",
    "        self.layers.append(nn.LeakyReLU())\n",
    "        self.layers.append(nn.BatchNorm2d(num_features=self.num_channels, eps=1e-05, momentum=0.1, affine=True, track_running_stats=True))\n",
    "        self.layers.append(nn.ConvTranspose2d(in_channels=self.num_channels, out_channels=self.num_channels, kernel_size=self.kernel_size, stride=self.kernel_size, bias=self.hparams.get('bias_NLBranch', True)))\n",
    "        self.layers.append(nn.LeakyReLU())\n",
    "        self.layers.append(nn.BatchNorm2d(num_features=self.num_channels, eps=1e-05, momentum=0.1, affine=True, track_running_stats=True))\n",
    "        \n",
    "        self.layers.append(nn.ConvTranspose2d(in_channels=self.num_channels, out_channels=1, kernel_size=self.kernel_size, stride=self.kernel_size, bias=self.hparams.get('bias_NLBranch', True)))\n",
    "        self.layers.append(ReshapeLayer(output_shape=(64,64)))\n",
    "        if self.hparams['NLB_outputactivation'] is not None:\n",
    "            self.layers.append(self.hparams['NLB_outputactivation'])\n",
    "\n",
    "    def forward(self, x):\n",
    "        for layer in self.layers:\n",
    "            print(x.shape)\n",
    "            x = layer(x)\n",
    "        y = x\n",
    "        return y"
   ]
  },
  {
   "cell_type": "code",
   "execution_count": 507,
   "id": "1afd9f54-f239-46e9-9ceb-facac0f0dc3f",
   "metadata": {},
   "outputs": [],
   "source": [
    "model = SPCNN(params)"
   ]
  },
  {
   "cell_type": "code",
   "execution_count": 508,
   "id": "0b330271-3a28-4299-950d-df4e5e8220f9",
   "metadata": {},
   "outputs": [
    {
     "data": {
      "text/plain": [
       "20950"
      ]
     },
     "execution_count": 508,
     "metadata": {},
     "output_type": "execute_result"
    }
   ],
   "source": [
    "sum(p.numel() for p in model.parameters())"
   ]
  },
  {
   "cell_type": "code",
   "execution_count": 666,
   "id": "47f79e86-57b4-406c-b957-7c9f96a27187",
   "metadata": {},
   "outputs": [
    {
     "data": {
      "text/plain": [
       "tensor([[0.8401, 0.9167, 0.4927,  ..., 0.3464, 0.8347, 0.1061],\n",
       "        [0.0696, 0.9133, 0.4176,  ..., 0.2108, 0.5455, 0.2378],\n",
       "        [0.7093, 0.4981, 0.6237,  ..., 0.5547, 0.4962, 0.0275],\n",
       "        ...,\n",
       "        [0.7920, 0.6906, 0.3441,  ..., 0.3828, 0.1982, 0.0356],\n",
       "        [0.9141, 0.0603, 0.3214,  ..., 0.0779, 0.3570, 0.7265],\n",
       "        [0.4710, 0.7880, 0.6852,  ..., 0.8276, 0.5124, 0.9273]])"
      ]
     },
     "execution_count": 666,
     "metadata": {},
     "output_type": "execute_result"
    }
   ],
   "source": [
    "K = torch.rand(64,64)\n",
    "K"
   ]
  },
  {
   "cell_type": "code",
   "execution_count": 667,
   "id": "7314946e-27cb-4e91-b401-2e015914289c",
   "metadata": {},
   "outputs": [],
   "source": [
    "rowsort = torch.mean(K, axis=1).argsort()"
   ]
  },
  {
   "cell_type": "code",
   "execution_count": 668,
   "id": "fd45480e-326a-42d5-8bd3-563497df1687",
   "metadata": {},
   "outputs": [
    {
     "data": {
      "text/plain": [
       "tensor([0.9987, 0.9969, 0.9704, 0.9973, 0.9501, 0.9979, 0.9639, 0.9633, 0.9769,\n",
       "        0.9878, 0.9789, 0.9930, 0.9922, 0.9905, 0.9943, 0.9904, 0.9932, 0.9595,\n",
       "        0.9940, 0.9875, 0.9997, 0.9903, 0.9526, 0.9924, 0.9676, 0.9996, 0.9871,\n",
       "        0.9922, 0.9951, 0.9985, 0.9861, 0.9957, 0.9646, 0.9865, 0.9987, 0.9975,\n",
       "        0.9837, 0.9989, 0.9779, 0.9816, 0.9988, 0.9934, 0.9920, 0.9849, 0.9730,\n",
       "        0.9908, 0.9981, 0.9974, 0.9783, 0.9846, 0.9951, 0.9759, 0.9721, 0.9937,\n",
       "        0.9749, 0.9933, 0.9952, 0.9708, 0.9888, 0.9807, 0.9415, 0.9707, 0.9695,\n",
       "        0.9895])"
      ]
     },
     "execution_count": 668,
     "metadata": {},
     "output_type": "execute_result"
    }
   ],
   "source": [
    "torch.amax(K, axis=1)"
   ]
  },
  {
   "cell_type": "code",
   "execution_count": 669,
   "id": "fb9fb00e-de30-430d-999e-f7cb070bd180",
   "metadata": {},
   "outputs": [],
   "source": [
    "rowsort = torch.amax(K, axis=1).argsort().flip(-1)\n",
    "colsort = torch.amax(K, axis=0).argsort().flip(-1)"
   ]
  },
  {
   "cell_type": "code",
   "execution_count": 670,
   "id": "cf4cbb6d-c8a4-4a48-8408-e9b697e6760b",
   "metadata": {},
   "outputs": [],
   "source": [
    "K = K[rowsort,:]\n",
    "K = K[:,colsort]"
   ]
  },
  {
   "cell_type": "code",
   "execution_count": 671,
   "id": "c19cdf30-bc1c-468e-b42a-994ae7cfbeae",
   "metadata": {},
   "outputs": [
    {
     "data": {
      "text/plain": [
       "tensor([[0.9997, 0.4654, 0.9695,  ..., 0.2563, 0.7759, 0.1882],\n",
       "        [0.0222, 0.9996, 0.3739,  ..., 0.0314, 0.3450, 0.3915],\n",
       "        [0.9461, 0.1044, 0.9989,  ..., 0.4377, 0.8753, 0.7445],\n",
       "        ...,\n",
       "        [0.4654, 0.1949, 0.2864,  ..., 0.1797, 0.1340, 0.7887],\n",
       "        [0.8103, 0.9494, 0.6523,  ..., 0.6362, 0.1494, 0.8328],\n",
       "        [0.0513, 0.7531, 0.3293,  ..., 0.6534, 0.2089, 0.0851]])"
      ]
     },
     "execution_count": 671,
     "metadata": {},
     "output_type": "execute_result"
    }
   ],
   "source": [
    "K"
   ]
  },
  {
   "cell_type": "code",
   "execution_count": 672,
   "id": "072fa68a-d31d-4067-a7e9-135befa61261",
   "metadata": {},
   "outputs": [
    {
     "data": {
      "text/plain": [
       "<matplotlib.image.AxesImage at 0x7f3ddd120b80>"
      ]
     },
     "execution_count": 672,
     "metadata": {},
     "output_type": "execute_result"
    },
    {
     "data": {
      "image/png": "[encoded data removed]",
      "text/plain": [
       "<Figure size 640x480 with 1 Axes>"
      ]
     },
     "metadata": {},
     "output_type": "display_data"
    }
   ],
   "source": [
    "plt.imshow(K)"
   ]
  },
  {
   "cell_type": "code",
   "execution_count": null,
   "id": "1243e227-ad17-45d0-a3d7-2478c1cb94a9",
   "metadata": {},
   "outputs": [],
   "source": []
  }
 ],
 "metadata": {
  "kernelspec": {
   "display_name": "Python 3 (ipykernel)",
   "language": "python",
   "name": "python3"
  },
  "language_info": {
   "codemirror_mode": {
    "name": "ipython",
    "version": 3
   },
   "file_extension": ".py",
   "mimetype": "text/x-python",
   "name": "python",
   "nbconvert_exporter": "python",
   "pygments_lexer": "ipython3",
   "version": "3.10.9"
  }
 },
 "nbformat": 4,
 "nbformat_minor": 5
}
