{
 "cells": [
  {
   "cell_type": "code",
   "execution_count": 5,
   "id": "b447aea0-a647-4b61-84e6-16a93a57859f",
   "metadata": {},
   "outputs": [
    {
     "name": "stdout",
     "output_type": "stream",
     "text": [
      "The autoreload extension is already loaded. To reload it, use:\n",
      "  %reload_ext autoreload\n"
     ]
    }
   ],
   "source": [
    "%load_ext autoreload\n",
    "%autoreload 2"
   ]
  },
  {
   "cell_type": "code",
   "execution_count": 6,
   "id": "ed616d08-ab71-4b29-ab3e-c2a07a369f45",
   "metadata": {},
   "outputs": [],
   "source": [
    "import numpy as np\n",
    "\n",
    "import sys\n",
    "sys.path.insert(0, '../datageneration')\n",
    "from heatconduction2d import main"
   ]
  },
  {
   "cell_type": "code",
   "execution_count": 7,
   "id": "1f10756d-7bbb-4e99-9d99-e687b7dc18f1",
   "metadata": {},
   "outputs": [
    {
     "name": "stdout",
     "output_type": "stream",
     "text": [
      "optimize > constrained 66/1089 dofs\n",
      "optimize > optimum value 0.00e+00\n",
      "solve > solving 1023 dof system to machine precision using arnoldi solver\n",
      "solve > solver returned with residual 4e-17\n",
      "(4096, 2)\n"
     ]
    }
   ],
   "source": [
    "params = {'inputdata': 'poly',\n",
    "             'nelems': 32,\n",
    "             'etype': 'square',\n",
    "             'btype': 'spline',\n",
    "             'basisdegree': 1,\n",
    "             'intdegree': 2,\n",
    "             'nfemsamples': 2,\n",
    "             'noutputnodes': 100}\n",
    "\n",
    "x, theta, f, etat, etab, gl, gr, u = main(params, save=False, savedir='../../../trainingdata', label='test')"
   ]
  },
  {
   "cell_type": "code",
   "execution_count": null,
   "id": "3b924b55-4990-4a7f-afb5-4698b80911e0",
   "metadata": {},
   "outputs": [],
   "source": []
  }
 ],
 "metadata": {
  "kernelspec": {
   "display_name": "Python 3 (ipykernel)",
   "language": "python",
   "name": "python3"
  },
  "language_info": {
   "codemirror_mode": {
    "name": "ipython",
    "version": 3
   },
   "file_extension": ".py",
   "mimetype": "text/x-python",
   "name": "python",
   "nbconvert_exporter": "python",
   "pygments_lexer": "ipython3",
   "version": "3.10.9"
  }
 },
 "nbformat": 4,
 "nbformat_minor": 5
}
