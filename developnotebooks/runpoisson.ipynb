{
 "cells": [
  {
   "cell_type": "code",
   "execution_count": 1,
   "id": "b447aea0-a647-4b61-84e6-16a93a57859f",
   "metadata": {},
   "outputs": [],
   "source": [
    "%load_ext autoreload\n",
    "%autoreload 2"
   ]
  },
  {
   "cell_type": "code",
   "execution_count": 4,
   "id": "ed616d08-ab71-4b29-ab3e-c2a07a369f45",
   "metadata": {},
   "outputs": [],
   "source": [
    "import numpy as np\n",
    "import matplotlib.pyplot as plt\n",
    "\n",
    "import sys\n",
    "sys.path.insert(0, '../datageneration')\n",
    "from heatconduction2d import main, postprocessdata, generatedataset\n",
    "from randompolynomials import randompoly1DO3, randompoly2DO3"
   ]
  },
  {
   "cell_type": "code",
   "execution_count": 7,
   "id": "1f10756d-7bbb-4e99-9d99-e687b7dc18f1",
   "metadata": {},
   "outputs": [
    {
     "name": "stdout",
     "output_type": "stream",
     "text": [
      "optimize > constrained 66/1089 dofs\n",
      "optimize > optimum value 0.00e+00\n",
      "solve > solving 1023 dof system to machine precision using arnoldi solver\n",
      "solve > solver returned with residual 9e-17\n",
      "Simulation: 0\n",
      "optimize > constrained 66/1089 dofs\n",
      "optimize > optimum value 0.00e+00\n",
      "solve > solving 1023 dof system to machine precision using arnoldi solver\n",
      "solve > solver returned with residual 2e-16\n",
      "Simulation: 1\n",
      "optimize > constrained 66/1089 dofs\n",
      "optimize > optimum value 0.00e+00\n",
      "solve > solving 1023 dof system to machine precision using arnoldi solver\n",
      "solve > solver returned with residual 2e-16\n",
      "Simulation: 2\n",
      "optimize > constrained 66/1089 dofs\n",
      "optimize > optimum value 0.00e+00\n",
      "solve > solving 1023 dof system to machine precision using arnoldi solver\n",
      "solve > solver returned with residual 2e-16\n"
     ]
    }
   ],
   "source": [
    "simparams = {'inputdata': 'poly',\n",
    "             'nelems': 32,\n",
    "             'etype': 'square',\n",
    "             'btype': 'spline',\n",
    "             'basisdegree': 1,\n",
    "             'intdegree': 2,\n",
    "             'nfemsamples': 2}\n",
    "\n",
    "trainingdataparams = {'N_sensornodes': 144,\n",
    "                      'N_outputnodes': 100,\n",
    "                      'N_sims': 3}\n",
    "\n",
    "params = {}\n",
    "params['simparams'] = simparams\n",
    "params['trainingdataparams'] = trainingdataparams\n",
    "\n",
    "c_theta = np.random.uniform(-0.1, 0.1, 10)\n",
    "c_f = np.random.uniform(-0.1, 0.1, 10)\n",
    "c_etab = np.random.uniform(-0.1, 0.1, 4)\n",
    "c_etat = np.random.uniform(-0.1, 0.1, 4)\n",
    "\n",
    "theta = randompoly2DO3(c_theta)\n",
    "f = randompoly2DO3(c_f)\n",
    "etab = randompoly1DO3(c_etab)\n",
    "etat = randompoly1DO3(c_etat)\n",
    "gl = 0\n",
    "gr = 0\n",
    "\n",
    "inputs = {'theta': theta,\n",
    "          'f': f,\n",
    "          'etab': etab,\n",
    "          'etat': etat,\n",
    "          'gl': gl,\n",
    "          'gr': gr}\n",
    "\n",
    "outputs = main(params, inputs, save=False, savedir='../../../trainingdata', label='test')\n",
    "\n",
    "# generatedataset(params, save=True, savedir='../../../trainingdata', label='test')"
   ]
  },
  {
   "cell_type": "code",
   "execution_count": null,
   "id": "c1884fba-b41c-4250-9aa2-65fdf463bb38",
   "metadata": {},
   "outputs": [],
   "source": [
    "data_postprocessed = postprocessdata(params, inputs, outputs)\n",
    "data_postprocessed['x'].shape"
   ]
  },
  {
   "cell_type": "code",
   "execution_count": null,
   "id": "18de532e-0e16-493a-9476-fc8340159595",
   "metadata": {},
   "outputs": [],
   "source": [
    "generatedataset(params, save, savedir, label)"
   ]
  },
  {
   "cell_type": "code",
   "execution_count": null,
   "id": "cc0cbff7-4c88-440b-9f89-ea142d35846e",
   "metadata": {},
   "outputs": [],
   "source": [
    "x = outputs['x']\n",
    "u = outputs['u']\n",
    "\n",
    "#plot\n",
    "fig, axs = plt.subplots(1,3, figsize=(16, 4))\n",
    "fig.subplots_adjust(left=None, bottom=None, right=None, top=None, wspace=0.3, hspace=0.2)\n",
    "size_title = 25\n",
    "size_ticklabels = 15\n",
    "size_axeslabels = 20\n",
    "\n",
    "ax = axs[0]\n",
    "plot0 = ax.tripcolor(x[:,0], x[:,1], theta(x[:,0],x[:,1]))\n",
    "ax.set_title(r\"$\\theta(\\mathbf{x})$\", fontsize=size_title)\n",
    "ax.tick_params(axis='both', labelsize=size_ticklabels)\n",
    "ax.ticklabel_format(style='sci', scilimits=[-3,3])\n",
    "ax.set_xlabel(r'$x$', fontsize=size_axeslabels)\n",
    "ax.set_ylabel(r'$y$', fontsize=size_axeslabels)\n",
    "ax.set_xlim(0,1)\n",
    "ax.set_ylim(0,1)\n",
    "ax.set_aspect('equal')\n",
    "fig.colorbar(plot0, ax=ax)\n",
    "\n",
    "ax = axs[1]\n",
    "plot1 = ax.tripcolor(x[:,0], x[:,1], f(x[:,0],x[:,1]))\n",
    "ax.set_title(r\"$f(\\mathbf{x})$\", fontsize=size_title)\n",
    "ax.tick_params(axis='both', labelsize=size_ticklabels)\n",
    "ax.ticklabel_format(style='sci', scilimits=[-3,3])\n",
    "ax.set_xlabel(r'$x$', fontsize=size_axeslabels)\n",
    "ax.set_ylabel(r'$y$', fontsize=size_axeslabels)\n",
    "ax.set_xlim(0,1)\n",
    "ax.set_ylim(0,1)\n",
    "ax.set_aspect('equal')\n",
    "fig.colorbar(plot1, ax=ax)\n",
    "\n",
    "ax = axs[2]\n",
    "ax.plot(x[:,0], etab(x[:,0]), label=r'$\\eta_\\mathrm{bottom}(x)$')\n",
    "ax.plot(x[:,0], etat(x[:,0]), label=r'$\\eta_\\mathrm{top}(x)$')\n",
    "ax.set_title(r\"$\\eta(\\mathbf{x})$\", fontsize=size_title)\n",
    "ax.tick_params(axis='both', labelsize=size_ticklabels)\n",
    "ax.ticklabel_format(style='sci', scilimits=[-3,3])\n",
    "ax.set_xlabel(r'$x$', fontsize=size_axeslabels)\n",
    "ax.set_ylabel(r'$\\eta(x)$', fontsize=size_axeslabels)\n",
    "ax.set_xlim(0,1)\n",
    "ax.legend(fontsize=15)\n",
    "ax.set_box_aspect(1)\n",
    "\n",
    "# plt.savefig(\"heatconduction_theta_f_eta.svg\", bbox_inches='tight')\n",
    "\n",
    "fig, ax = plt.subplots(1,1, figsize=(6, 4))\n",
    "fig.subplots_adjust(left=None, bottom=None, right=None, top=None, wspace=0.4, hspace=0.4)\n",
    "\n",
    "fig = ax.tripcolor(x[:,0], x[:,1], u)\n",
    "ax.set_title(r\"$u(\\mathbf{x})$\", fontsize=size_title)\n",
    "ax.tick_params(axis='both', labelsize=size_ticklabels)\n",
    "ax.ticklabel_format(style='sci', scilimits=[-3,3])\n",
    "ax.set_xlabel(r'$x$', fontsize=size_axeslabels)\n",
    "ax.set_ylabel(r'$y$', fontsize=size_axeslabels)\n",
    "ax.set_xlim(0,1)\n",
    "ax.set_ylim(0,1)\n",
    "ax.set_aspect('equal')\n",
    "plt.colorbar(fig)"
   ]
  },
  {
   "cell_type": "code",
   "execution_count": null,
   "id": "a858b349-6860-4ed6-ba86-340d92c578e7",
   "metadata": {},
   "outputs": [],
   "source": [
    "X, Y = np.mgrid[0:1:12j, 0:1:12j]\n",
    "positions = np.vstack([X.ravel(), Y.ravel()])\n",
    "plt.scatter(positions[0],positions[1], c=f(positions[0],positions[1]))\n",
    "plt.axis('equal')"
   ]
  },
  {
   "cell_type": "code",
   "execution_count": null,
   "id": "536e5c7c-7502-4e95-a054-6b1d0744636d",
   "metadata": {},
   "outputs": [],
   "source": [
    "plt.matshow(np.rot90(f(positions[0],positions[1]).reshape(12,12)))"
   ]
  },
  {
   "cell_type": "code",
   "execution_count": null,
   "id": "a4150cd5-1168-4759-94f7-3724df2edaf1",
   "metadata": {},
   "outputs": [],
   "source": [
    "plt.scatter(x[:,0],x[:,1])"
   ]
  },
  {
   "cell_type": "code",
   "execution_count": null,
   "id": "ba956b9d-d76a-4adf-b033-a67009972224",
   "metadata": {},
   "outputs": [],
   "source": [
    "N_sensornodes = 144\n",
    "N_outputnodes = 100\n",
    "\n",
    "x_sensor, y_sensor = np.mgrid[0:1:np.sqrt(N_sensornodes)*1j, 0:1:np.sqrt(N_sensornodes)*1j]\n",
    "sensornodes_Omega = np.vstack([x_sensor.ravel(), y_sensor.ravel()]).T\n",
    "theta_sensor = theta(sensornodes_Omega[:,0], sensornodes_Omega[:,1])\n",
    "f_sensor  = f(sensornodes[:,0], sensornodes[:,1])\n",
    "\n",
    "sensornodes_Gamma = np.linspace(0,1,int(N_sensornodes/2))\n",
    "etab_sensor = etab(sensornodes_Gamma)\n",
    "etat_sensor = etat(sensornodes_Gamma)\n",
    "eta_sensor = np.concatenate((etab_sampled, etat_sampled))\n",
    "\n",
    "indices = np.linspace(0,x.shape[0]-1, x.shape[0], dtype=int)\n",
    "indices_output = np.random.choice(indices, size=N_outputnodes, replace=False)\n",
    "x_output = x[indices_output]\n",
    "u_output = u[indices_output]\n",
    "\n",
    "theta_post = np.tile(theta_sensor, (N_outputnodes, 1))\n",
    "f_post = np.tile(f_sensor, (N_outputnodes, 1))\n",
    "eta_post = np.tile(eta_sensor, (N_outputnodes, 1))"
   ]
  },
  {
   "cell_type": "code",
   "execution_count": null,
   "id": "756c1145-d1a2-48f8-8775-6e6cff72b1b4",
   "metadata": {},
   "outputs": [],
   "source": [
    "plt.scatter(x[:,0],x[:,1], c=u)"
   ]
  },
  {
   "cell_type": "code",
   "execution_count": null,
   "id": "778ddc70-0e66-40ea-9d74-86d8db12b4da",
   "metadata": {},
   "outputs": [],
   "source": [
    "plt.scatter(x_output[:,0],x_output[:,1], c=u_output)"
   ]
  },
  {
   "cell_type": "code",
   "execution_count": null,
   "id": "876482d7-af9b-4cf6-9bea-00b3f1e75840",
   "metadata": {},
   "outputs": [],
   "source": []
  }
 ],
 "metadata": {
  "kernelspec": {
   "display_name": "Python 3 (ipykernel)",
   "language": "python",
   "name": "python3"
  },
  "language_info": {
   "codemirror_mode": {
    "name": "ipython",
    "version": 3
   },
   "file_extension": ".py",
   "mimetype": "text/x-python",
   "name": "python",
   "nbconvert_exporter": "python",
   "pygments_lexer": "ipython3",
   "version": "3.10.9"
  }
 },
 "nbformat": 4,
 "nbformat_minor": 5
}
