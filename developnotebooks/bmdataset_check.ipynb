{
 "cells": [
  {
   "cell_type": "code",
   "execution_count": 7,
   "id": "8963ed5e-f627-430a-b3de-6956726bc651",
   "metadata": {},
   "outputs": [],
   "source": [
    "import numpy as np\n",
    "import matplotlib.pyplot as plt"
   ]
  },
  {
   "cell_type": "code",
   "execution_count": 8,
   "id": "48167d6c-260d-4f57-865a-e593dec0aa7f",
   "metadata": {},
   "outputs": [],
   "source": [
    "# x_in = np.load('../../../trainingdata/bm/14x14/cin_mu1e-06_ref1_14_14.npy')\n",
    "# x_out = np.load('../../../trainingdata/bm/14x14/cout_mu1e-06_ref1_14_14.npy')\n",
    "# xi = np.load('../../../trainingdata/bm/14x14/absc_mu1e-06_ref1_14_14.npy')\n",
    "# x_D = np.load('../../../trainingdata/bm/14x14/F_mu1e-06_ref1_14_14.npy')\n",
    "\n",
    "# x_in = np.load('../../../trainingdata/bm/12x12/cin_mu1e-06_ref1_12_12.npy')\n",
    "# x_out = np.load('../../../trainingdata/bm/12x12/cout_mu1e-06_ref1_12_12.npy')\n",
    "# xi = np.load('../../../trainingdata/bm/12x12/absc_mu1e-06_ref1_12_12.npy')\n",
    "# x_D = np.load('../../../trainingdata/bm/12x12/F_mu1e-06_ref1_12_12.npy')\n",
    "\n",
    "x_in = np.load('../../../trainingdata/bm/21x21/cin_mu1e-06_ref1_21_21.npy')\n",
    "x_out = np.load('../../../trainingdata/bm/21x21/cout_mu1e-06_ref1_21_21.npy')\n",
    "xi = np.load('../../../trainingdata/bm/21x21/absc_mu1e-06_ref1_21_21.npy')\n",
    "x_D = np.load('../../../trainingdata/bm/21x21/F_mu1e-06_ref1_21_21.npy')"
   ]
  },
  {
   "cell_type": "code",
   "execution_count": 9,
   "id": "e8ed8271-5fab-4ac6-aaa2-fd7b68a9658f",
   "metadata": {},
   "outputs": [
    {
     "name": "stdout",
     "output_type": "stream",
     "text": [
      "(23027, 21, 21, 2)\n",
      "(23027, 19, 19, 2)\n",
      "(441, 2)\n",
      "(23027, 160)\n"
     ]
    }
   ],
   "source": [
    "print(x_in.shape)\n",
    "print(x_out.shape)\n",
    "print(xi.shape)\n",
    "print(x_D.shape)"
   ]
  },
  {
   "cell_type": "code",
   "execution_count": 10,
   "id": "263cb5f2-2b6f-4591-8684-67ca66dec142",
   "metadata": {},
   "outputs": [],
   "source": [
    "x_D_new = np.zeros((x_D.shape[0],int(x_D.shape[1]/2),2))\n",
    "x_D_new[:,:,0] = x_D[:,::2]\n",
    "x_D_new[:,:,1] = x_D[:,1::2]\n",
    "x_D = x_D_new\n",
    "\n",
    "x_out_new = np.copy(x_in)\n",
    "x_out_new[:,1:-1,1:-1,:] = np.copy(x_out)\n",
    "x_out = np.copy(x_out_new)\n",
    "\n",
    "xi = np.tile(xi,(x_in.shape[0],1,1))\n",
    "xi = xi.reshape(xi.shape[0],int(np.sqrt(xi.shape[1])),int(np.sqrt(xi.shape[1])), xi.shape[2])\n",
    "xi = xi.reshape(x_in.shape[0],x_in.shape[1]*x_in.shape[2], x_in.shape[3])"
   ]
  },
  {
   "cell_type": "code",
   "execution_count": 11,
   "id": "a9289f33-4640-4d0e-98bc-aeba893c22b9",
   "metadata": {},
   "outputs": [
    {
     "name": "stdout",
     "output_type": "stream",
     "text": [
      "(23027, 21, 21, 2)\n",
      "(23027, 21, 21, 2)\n",
      "(23027, 441, 2)\n",
      "(23027, 80, 2)\n"
     ]
    }
   ],
   "source": [
    "print(x_in.shape)\n",
    "print(x_out.shape)\n",
    "print(xi.shape)\n",
    "print(x_D.shape)"
   ]
  },
  {
   "cell_type": "code",
   "execution_count": 12,
   "id": "265a7355-3710-42fe-ace6-0da24478db5a",
   "metadata": {},
   "outputs": [],
   "source": [
    "x_in_train = x_in[:20000]\n",
    "x_out_train = x_out[:20000]\n",
    "xi_train = xi[:20000]\n",
    "x_D_train = x_D[:20000]\n",
    "\n",
    "x_in_test = x_in[20000:]\n",
    "x_out_test = x_out[20000:]\n",
    "xi_test = xi[20000:]\n",
    "x_D_test = x_D[20000:]"
   ]
  },
  {
   "cell_type": "code",
   "execution_count": 13,
   "id": "a15e8307-dfe6-428d-b125-b3f934ed6d6b",
   "metadata": {},
   "outputs": [
    {
     "name": "stdout",
     "output_type": "stream",
     "text": [
      "(20000, 21, 21, 2)\n",
      "(20000, 21, 21, 2)\n",
      "(20000, 441, 2)\n",
      "(20000, 80, 2)\n",
      "(3027, 21, 21, 2)\n",
      "(3027, 21, 21, 2)\n",
      "(3027, 441, 2)\n",
      "(3027, 80, 2)\n"
     ]
    }
   ],
   "source": [
    "print(x_in_train.shape)\n",
    "print(x_out_train.shape)\n",
    "print(xi_train.shape)\n",
    "print(x_D_train.shape)\n",
    "\n",
    "print(x_in_test.shape)\n",
    "print(x_out_test.shape)\n",
    "print(xi_test.shape)\n",
    "print(x_D_test.shape)"
   ]
  },
  {
   "cell_type": "code",
   "execution_count": 14,
   "id": "c4c5888f-778b-4457-80a6-1242bb865ef9",
   "metadata": {},
   "outputs": [],
   "source": [
    "np.save('../../../trainingdata/bm/21x21/train/x_in.npy', x_in_train)\n",
    "np.save('../../../trainingdata/bm/21x21/train/x_D.npy', x_D_train)\n",
    "np.save('../../../trainingdata/bm/21x21/train/x_out.npy', x_out_train)\n",
    "np.save('../../../trainingdata/bm/21x21/train/xi.npy', xi_train)\n",
    "\n",
    "np.save('../../../trainingdata/bm/21x21/test/x_in.npy', x_in_test)\n",
    "np.save('../../../trainingdata/bm/21x21/test/x_D.npy', x_D_test)\n",
    "np.save('../../../trainingdata/bm/21x21/test/x_out.npy', x_out_test)\n",
    "np.save('../../../trainingdata/bm/21x21/test/xi.npy', xi_test)"
   ]
  },
  {
   "cell_type": "code",
   "execution_count": null,
   "id": "2a4f82f2-0448-4c0b-8733-c3380af60852",
   "metadata": {},
   "outputs": [],
   "source": [
    "i=100\n",
    "plt.scatter(x_in[i,:,:,0], x_in[i,:,:,1])\n",
    "plt.scatter(x_out[i,:,:,0], x_out[i,:,:,1])\n",
    "plt.scatter(x_D[i,:,0], x_D[i,:,1])\n",
    "# plt.axis('square')"
   ]
  },
  {
   "cell_type": "code",
   "execution_count": null,
   "id": "251ad7c1-02ea-4109-840b-79cc74be19e2",
   "metadata": {},
   "outputs": [],
   "source": [
    "plt.scatter(xi[0,:,0], xi[0,:,1])\n",
    "plt.axis('square')\n",
    "plt.xlim(0,1)\n",
    "plt.ylim(0,1)"
   ]
  },
  {
   "cell_type": "code",
   "execution_count": null,
   "id": "765364f2-4aa0-43e9-adf6-3664f2ea8727",
   "metadata": {},
   "outputs": [],
   "source": [
    "i = 500\n",
    "x = x_in[i]\n",
    "x_Di = x_D[i]"
   ]
  },
  {
   "cell_type": "code",
   "execution_count": null,
   "id": "db3ac4d6-f64e-45e0-8add-54b02e56d5a6",
   "metadata": {},
   "outputs": [],
   "source": [
    "plt.scatter(x[:,:,0],x[:,:,1])\n",
    "plt.axis('square')"
   ]
  },
  {
   "cell_type": "code",
   "execution_count": null,
   "id": "7d4bea08-6bc8-42a1-afa6-5521b25d5359",
   "metadata": {},
   "outputs": [],
   "source": [
    "x_circle = np.linspace(-1,1, 100)\n",
    "y_plus = np.sqrt(1-x_circle**2)\n",
    "y_min = -np.sqrt(1-x_circle**2)\n",
    "\n",
    "plt.scatter(x[:,:,0],x[:,:,1])\n",
    "plt.plot(x_circle, y_plus, color='black')\n",
    "plt.plot(x_circle, y_min, color='black')\n",
    "plt.grid()\n",
    "plt.xlabel('x', fontsize=20)\n",
    "plt.ylabel('y', fontsize=20)\n",
    "plt.axis('square')\n",
    "# plt.savefig(\"original.svg\", bbox_inches='tight')\n",
    "plt.show()\n",
    "\n",
    "x_cm = np.average(x_Di, axis=(0))\n",
    "x_t = x - x_cm\n",
    "\n",
    "plt.scatter(x_t[:,:,0],x_t[:,:,1])\n",
    "plt.plot(x_circle, y_plus, color='black')\n",
    "plt.plot(x_circle, y_min, color='black')\n",
    "plt.xlabel('x', fontsize=20)\n",
    "plt.ylabel('y', fontsize=20)\n",
    "plt.grid()\n",
    "plt.axis('square')\n",
    "# plt.savefig(\"translated.svg\", bbox_inches='tight')\n",
    "plt.show()\n",
    "\n",
    "r = np.sqrt(np.sum(x_t**2, axis=-1))\n",
    "\n",
    "\n",
    "# plt.scatter(x_t[:,:,0],x_t[:,:,1], c=r)\n",
    "# plt.plot(x_circle, y_plus, color='black')\n",
    "# plt.plot(x_circle, y_min, color='black')\n",
    "# plt.axis('square')\n",
    "# plt.grid()\n",
    "# plt.show()\n",
    "\n",
    "plt.plot(x_circle, y_plus, color='black')\n",
    "plt.plot(x_circle, y_min, color='black')\n",
    "r_max = np.amax(r)\n",
    "x_ts = x_t/r_max\n",
    "plt.scatter(x_ts[:,:,0], x_ts[:,:,1])\n",
    "plt.xlabel('x', fontsize=20)\n",
    "plt.ylabel('y', fontsize=20)\n",
    "plt.grid()\n",
    "plt.axis('square')\n",
    "# plt.savefig(\"scaled.svg\", bbox_inches='tight')\n",
    "plt.show()"
   ]
  },
  {
   "cell_type": "code",
   "execution_count": null,
   "id": "987159df-f5f4-4b49-96c2-e0862ea81d29",
   "metadata": {},
   "outputs": [],
   "source": [
    "x_ts = x_ts.reshape(int(x_ts.shape[0]*x_ts.shape[1]), x_ts.shape[2])\n",
    "x_max = x_ts[np.argmax(np.sum(x_ts**2, axis=-1))]\n",
    "theta_max = np.arctan(x_max[1]/x_max[0])\n",
    "theta_max"
   ]
  },
  {
   "cell_type": "code",
   "execution_count": null,
   "id": "1c22342d-1ef8-4d7f-a959-a8ef3e2beef5",
   "metadata": {},
   "outputs": [],
   "source": [
    "R = np.array([[np.cos(-theta), -np.sin(-theta)], [np.sin(-theta), np.cos(-theta)]])"
   ]
  },
  {
   "cell_type": "code",
   "execution_count": null,
   "id": "0af9fa89-bbfd-4fcc-aba1-6ef8426b67a8",
   "metadata": {},
   "outputs": [],
   "source": [
    "x_ts = x_ts.reshape(x_ts_shape)"
   ]
  },
  {
   "cell_type": "code",
   "execution_count": null,
   "id": "ed55fbba-7946-4248-a7f1-1c2aa49c8383",
   "metadata": {},
   "outputs": [],
   "source": [
    "x_tsr = np.einsum('ij,xyj->xyi', R, x_ts)"
   ]
  },
  {
   "cell_type": "code",
   "execution_count": null,
   "id": "406f6525-9452-4904-854c-71bf70417edf",
   "metadata": {},
   "outputs": [],
   "source": [
    "plt.plot(x_circle, y_plus, color='black')\n",
    "plt.plot(x_circle, y_min, color='black')\n",
    "plt.scatter(x_tsr[:,:,0], x_tsr[:,:,1])\n",
    "plt.xlabel('x', fontsize=20)\n",
    "plt.ylabel('y', fontsize=20)\n",
    "plt.grid()\n",
    "plt.axis('square')\n",
    "plt.show()"
   ]
  },
  {
   "cell_type": "code",
   "execution_count": null,
   "id": "66604470-796e-422e-8f54-4ad7045999a7",
   "metadata": {},
   "outputs": [],
   "source": [
    "r_ts = np.sqrt(np.sum(x_ts**2, axis=-1))\n",
    "theta_ts = np.arctan(x_ts[:,:,1]/x_ts[:,:,0])\n",
    "r_ts = r_ts"
   ]
  },
  {
   "cell_type": "code",
   "execution_count": null,
   "id": "7763b658-3023-49de-b216-28f44e1f84ad",
   "metadata": {},
   "outputs": [],
   "source": [
    "if -np.amin(x_tsr[:,:,0])>np.amax(x_tsr[:,:,0]):\n",
    "    R180 = np.array([[np.cos(np.pi), -np.sin(np.pi)], [np.sin(np.pi), np.cos(np.pi)]])\n",
    "    x_tsr = np.einsum('ij,xyj->xyi', R180, x_tsr)"
   ]
  },
  {
   "cell_type": "code",
   "execution_count": null,
   "id": "3ef0bb49-7ed5-4936-a590-6367282b6389",
   "metadata": {},
   "outputs": [],
   "source": [
    "plt.plot(x_circle, y_plus, color='black')\n",
    "plt.plot(x_circle, y_min, color='black')\n",
    "plt.scatter(x_tsr[:,:,0], x_tsr[:,:,1])\n",
    "plt.xlabel('x', fontsize=20)\n",
    "plt.ylabel('y', fontsize=20)\n",
    "plt.grid()\n",
    "plt.axis('square')\n",
    "plt.savefig(\"rotated.svg\", bbox_inches='tight')\n",
    "plt.show()"
   ]
  },
  {
   "cell_type": "code",
   "execution_count": null,
   "id": "36150f94-17df-45f0-8377-14fcf2668f45",
   "metadata": {},
   "outputs": [],
   "source": [
    "if -np.amin(x_tsr[:,:,1])>np.amax(x_tsr[:,:,1]):\n",
    "    x_tsr[:,:,1] = - x_tsr[:,:,1]\n",
    "    x_tsrf = x_tsr"
   ]
  },
  {
   "cell_type": "code",
   "execution_count": null,
   "id": "0ca5e7a1-816f-4fb3-96e9-c6111b8135c7",
   "metadata": {},
   "outputs": [],
   "source": [
    "plt.plot(x_circle, y_plus, color='black')\n",
    "plt.plot(x_circle, y_min, color='black')\n",
    "plt.scatter(x_tsrf[:,:,0], x_tsrf[:,:,1])\n",
    "plt.xlabel('x', fontsize=20)\n",
    "plt.ylabel('y', fontsize=20)\n",
    "plt.grid()\n",
    "plt.axis('square')\n",
    "plt.savefig(\"flipped.svg\", bbox_inches='tight')\n",
    "plt.show()"
   ]
  },
  {
   "cell_type": "code",
   "execution_count": null,
   "id": "3c1613a6-90bc-4488-b19e-08b1736d30fd",
   "metadata": {},
   "outputs": [],
   "source": [
    "print(x_in.shape)\n",
    "print(x_out.shape)\n",
    "print(xi.shape)\n",
    "print(x_D.shape)"
   ]
  },
  {
   "cell_type": "code",
   "execution_count": null,
   "id": "b29fd935-b196-4c85-a2ae-52b2d815e055",
   "metadata": {},
   "outputs": [],
   "source": [
    "import torch"
   ]
  },
  {
   "cell_type": "code",
   "execution_count": null,
   "id": "ce27fce5-0669-4dd9-b0b5-74bffe6f04f2",
   "metadata": {},
   "outputs": [],
   "source": [
    "x_in = torch.tensor(x_in)\n",
    "x_out = torch.tensor(x_out)\n",
    "x_D = torch.tensor(x_D)\n",
    "xi = torch.tensor(xi)"
   ]
  },
  {
   "cell_type": "markdown",
   "id": "627e6cc6-5fb8-482b-bac1-41a70ac5c650",
   "metadata": {},
   "source": [
    "### Translation"
   ]
  },
  {
   "cell_type": "code",
   "execution_count": null,
   "id": "f00c251e-9670-43e1-9083-462ff7c10474",
   "metadata": {},
   "outputs": [],
   "source": [
    "x_cm = torch.mean(x_D, axis=1)\n",
    "x_cm.shape"
   ]
  },
  {
   "cell_type": "code",
   "execution_count": null,
   "id": "80482273-7795-4f03-b82e-61e968f3f12d",
   "metadata": {},
   "outputs": [],
   "source": [
    "x_D_t = x_D - x_cm[:,None,:]\n",
    "x_in_t = x_in - x_cm[:,None,None,:]\n",
    "print(x_D_t.shape)\n",
    "print(x_in_t.shape)"
   ]
  },
  {
   "cell_type": "markdown",
   "id": "c5aa17aa-3af5-42e5-b740-30ca9938dcbe",
   "metadata": {},
   "source": [
    "### Scaling"
   ]
  },
  {
   "cell_type": "code",
   "execution_count": null,
   "id": "1a85ae0f-440f-4421-9b8a-21c73b3e00ed",
   "metadata": {},
   "outputs": [],
   "source": [
    "r_t = torch.sqrt(torch.sum(x_D_t**2, axis=-1))\n",
    "r_t_max = torch.amax(r_t, axis=-1)\n",
    "r_t_max.shape"
   ]
  },
  {
   "cell_type": "code",
   "execution_count": null,
   "id": "3d14e6fa-c6f9-4780-9b63-75e45a4b867a",
   "metadata": {},
   "outputs": [],
   "source": [
    "x_D_ts = x_D_t/r_t_max[:,None,None]\n",
    "x_in_ts = x_in_t/r_t_max[:,None,None,None]\n",
    "x_in_ts.shape"
   ]
  },
  {
   "cell_type": "markdown",
   "id": "0fd50371-fdc8-492d-8ab9-71813a7f42e0",
   "metadata": {},
   "source": [
    "### Rotation"
   ]
  },
  {
   "cell_type": "code",
   "execution_count": null,
   "id": "d26620a2-4d5f-4be4-acf2-cca64d4e583d",
   "metadata": {},
   "outputs": [],
   "source": [
    "r_D_ts = torch.sqrt(torch.sum(x_D_ts**2, axis=-1))\n",
    "\n",
    "i_max = torch.argmax(r_D_ts, axis=-1)\n",
    "x0_D_ts_max = x_D_ts[torch.arange(x_D_ts.shape[0]), i_max, 0]\n",
    "x1_D_ts_max = x_D_ts[torch.arange(x_D_ts.shape[0]), i_max, 1]\n",
    "theta_max = torch.arctan(x1_D_ts_max/x0_D_ts_max)"
   ]
  },
  {
   "cell_type": "code",
   "execution_count": null,
   "id": "a58416fe-c975-43f5-8b5d-b72a97080f4c",
   "metadata": {},
   "outputs": [],
   "source": [
    "theta_max.shape"
   ]
  },
  {
   "cell_type": "code",
   "execution_count": null,
   "id": "c21be9e6-989a-4a5b-95cc-6cccb07a62da",
   "metadata": {},
   "outputs": [],
   "source": [
    "R00 = torch.cos(-theta_max)\n",
    "R01 = -torch.sin(-theta_max)\n",
    "R10 = torch.sin(-theta_max)\n",
    "R11 = torch.cos(-theta_max)\n",
    "\n",
    "R = torch.zeros(theta_max.shape[0],2,2).double()\n",
    "R[:,0,0] = R00\n",
    "R[:,0,1] = R01\n",
    "R[:,1,0] = R10\n",
    "R[:,1,1] = R11"
   ]
  },
  {
   "cell_type": "code",
   "execution_count": null,
   "id": "1ff8c10d-39e4-482e-8621-488a2880fca9",
   "metadata": {},
   "outputs": [],
   "source": [
    "print(R.shape)\n",
    "print(x_D_ts.shape)\n",
    "print(x_in_ts.shape)"
   ]
  },
  {
   "cell_type": "code",
   "execution_count": null,
   "id": "b8982735-baa5-4da0-b3d3-d2c975609a8b",
   "metadata": {},
   "outputs": [],
   "source": [
    "#Align with x-axis\n",
    "x_D_tsr = torch.einsum('nij,npj->npi', R, x_D_ts)\n",
    "x_in_tsr = torch.einsum('nij,nxyj->nxyi', R, x_in_ts)\n",
    "\n",
    "i_R180 = -torch.amin(x_D_tsr[:,:,0], axis=-1) > torch.amax(x_D_tsr[:,:,0], axis=-1)\n",
    "x_D_tsr[i_R180] = -x_D_tsr[i_R180]\n",
    "x_in_tsr[i_R180] = -x_in_tsr[i_R180]\n",
    "\n",
    "i_flip = -torch.amin(x_D_tsr[:,:,1], axis=-1) > torch.amax(x_D_tsr[:,:,1], axis=-1)\n",
    "x_D_tsrf = np.copy(x_D_tsr)\n",
    "x_in_tsrf = np.copy(x_in_tsr)\n",
    "x_D_tsrf[i_flip,:,1] = -x_D_tsrf[i_flip,:,1]\n",
    "x_in_tsrf[i_flip,:,:,1] = -x_in_tsrf[i_flip,:,:,1]"
   ]
  },
  {
   "cell_type": "markdown",
   "id": "5b3677c1-e965-4709-911a-f814268f2e68",
   "metadata": {},
   "source": [
    "### Plots"
   ]
  },
  {
   "cell_type": "code",
   "execution_count": null,
   "id": "f2c097c9-8f60-4b46-9364-d91b425213cc",
   "metadata": {},
   "outputs": [],
   "source": [
    "i = 20500"
   ]
  },
  {
   "cell_type": "code",
   "execution_count": null,
   "id": "3a60ec88-74b8-4520-be6a-318ae2fbf5bd",
   "metadata": {},
   "outputs": [],
   "source": [
    "x_circle = np.linspace(-1,1, 100)\n",
    "y_plus = np.sqrt(1-x_circle**2)\n",
    "y_min = -np.sqrt(1-x_circle**2)\n",
    "\n",
    "plt.scatter(x_in[i,:,:,0],x_in[i,:,:,1])\n",
    "plt.scatter(x_D[i,:,0],x_D[i,:,1])\n",
    "plt.plot(x_circle, y_plus, color='black')\n",
    "plt.plot(x_circle, y_min, color='black')\n",
    "plt.grid()\n",
    "plt.xlabel('x', fontsize=20)\n",
    "plt.ylabel('y', fontsize=20)\n",
    "plt.axis('square')\n",
    "# plt.savefig(\"original.svg\", bbox_inches='tight')\n",
    "plt.show()\n",
    "\n",
    "plt.scatter(x_in_t[i,:,:,0],x_in_t[i,:,:,1])\n",
    "plt.scatter(x_D_t[i,:,0],x_D_t[i,:,1])\n",
    "plt.plot(x_circle, y_plus, color='black')\n",
    "plt.plot(x_circle, y_min, color='black')\n",
    "plt.grid()\n",
    "plt.xlabel('x', fontsize=20)\n",
    "plt.ylabel('y', fontsize=20)\n",
    "plt.axis('square')\n",
    "# plt.savefig(\"original.svg\", bbox_inches='tight')\n",
    "plt.show()\n",
    "\n",
    "plt.scatter(x_in_ts[i,:,:,0],x_in_ts[i,:,:,1])\n",
    "plt.scatter(x_D_ts[i,:,0],x_D_ts[i,:,1])\n",
    "plt.plot(x_circle, y_plus, color='black')\n",
    "plt.plot(x_circle, y_min, color='black')\n",
    "plt.grid()\n",
    "plt.xlabel('x', fontsize=20)\n",
    "plt.ylabel('y', fontsize=20)\n",
    "plt.axis('square')\n",
    "# plt.savefig(\"original.svg\", bbox_inches='tight')\n",
    "plt.show()\n",
    "\n",
    "plt.scatter(x_in_tsr[i,:,:,0],x_in_tsr[i,:,:,1])\n",
    "plt.scatter(x_D_tsr[i,:,0],x_D_tsr[i,:,1])\n",
    "plt.plot(x_circle, y_plus, color='black')\n",
    "plt.plot(x_circle, y_min, color='black')\n",
    "plt.grid()\n",
    "plt.xlabel('x', fontsize=20)\n",
    "plt.ylabel('y', fontsize=20)\n",
    "plt.axis('square')\n",
    "# plt.savefig(\"original.svg\", bbox_inches='tight')\n",
    "plt.show()\n",
    "\n",
    "plt.scatter(x_in_tsrf[i,:,:,0],x_in_tsrf[i,:,:,1])\n",
    "plt.scatter(x_D_tsrf[i,:,0],x_D_tsrf[i,:,1])\n",
    "plt.plot(x_circle, y_plus, color='black')\n",
    "plt.plot(x_circle, y_min, color='black')\n",
    "plt.grid()\n",
    "plt.xlabel('x', fontsize=20)\n",
    "plt.ylabel('y', fontsize=20)\n",
    "plt.axis('square')\n",
    "# plt.savefig(\"original.svg\", bbox_inches='tight')\n",
    "plt.show()"
   ]
  },
  {
   "cell_type": "code",
   "execution_count": null,
   "id": "75ce3137-c3a5-455a-ab1e-8384fea3a593",
   "metadata": {},
   "outputs": [],
   "source": []
  },
  {
   "cell_type": "code",
   "execution_count": null,
   "id": "ebba7b5f-25b5-49ab-a8a7-b8bfe0592808",
   "metadata": {},
   "outputs": [],
   "source": []
  }
 ],
 "metadata": {
  "kernelspec": {
   "display_name": "Python 3 (ipykernel)",
   "language": "python",
   "name": "python3"
  },
  "language_info": {
   "codemirror_mode": {
    "name": "ipython",
    "version": 3
   },
   "file_extension": ".py",
   "mimetype": "text/x-python",
   "name": "python",
   "nbconvert_exporter": "python",
   "pygments_lexer": "ipython3",
   "version": "3.10.9"
  }
 },
 "nbformat": 4,
 "nbformat_minor": 5
}
