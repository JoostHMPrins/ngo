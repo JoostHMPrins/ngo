{
 "cells": [
  {
   "cell_type": "code",
   "execution_count": 56,
   "id": "54310cd2-840a-4a61-bb10-a92d95e1f319",
   "metadata": {},
   "outputs": [],
   "source": [
    "import torch\n",
    "from torch import nn\n",
    "import numpy as np\n",
    "\n",
    "import pytorch_lightning as pl\n",
    "from pytorch_lightning.callbacks.early_stopping import EarlyStopping\n",
    "from tqdm.auto import tqdm, trange\n",
    "from ipywidgets import IntProgress\n",
    "import time\n",
    "from torch import nn\n",
    "from torch.nn import functional as F\n",
    "from torchmetrics.functional.regression import mean_absolute_percentage_error\n",
    "\n",
    "import sys\n",
    "sys.path.insert(0, '../ml')\n",
    "from NGO import *\n",
    "from VarMiON import *\n",
    "from DataModule import *\n",
    "from logger import *\n",
    "from trainer import train\n",
    "from customlosses import *\n",
    "\n",
    "import matplotlib.pyplot as plt"
   ]
  },
  {
   "cell_type": "code",
   "execution_count": 89,
   "id": "864efa67-9aa3-4afc-bb59-3b50984e45a9",
   "metadata": {},
   "outputs": [],
   "source": [
    "class GaussianRBF(nn.Module):\n",
    "    def __init__(self, params, input_dim, output_dim):\n",
    "        super().__init__()\n",
    "        self.params = params\n",
    "        self.input_dim = input_dim\n",
    "        self.output_dim = output_dim\n",
    "        self.hparams = params['hparams']\n",
    "        self.reset_nontrainableparameters()\n",
    "        \n",
    "    def reset_parameters(self):\n",
    "        self.mus = nn.Parameter(torch.Tensor(self.output_dim, self.input_dim))\n",
    "        self.log_sigmas = nn.Parameter(torch.Tensor(self.output_dim))\n",
    "        nn.init.uniform_(self.mus, 0, 1)\n",
    "        nn.init.constant_(self.log_sigmas, np.log((1/self.hparams['h'])**(1/self.params['simparams']['d'])))\n",
    "                                     \n",
    "    def reset_nontrainableparameters(self):\n",
    "        mu_0, mu_1 = np.mgrid[0:1:self.hparams['h']*1j, 0:1:self.hparams['h']*1j]\n",
    "        mus = np.vstack([mu_0.ravel(), mu_1.ravel()]).T\n",
    "        self.mus = torch.tensor(mus)\n",
    "        self.log_sigmas = torch.ones(self.output_dim)*np.log((1/self.hparams['h']))               \n",
    "                                     \n",
    "    def forward(self, x):\n",
    "        if self.hparams.get('symgroupavg',False)==True:\n",
    "            mus_temp = torch.einsum('ij,gj->gi', self.mapping, self.mus - 1/2) + 1/2\n",
    "            d_scaled = (x[:,:,None,:] - mus_temp[None,None,:,:])/torch.exp(self.log_sigmas[None,None,:,None])\n",
    "        else:\n",
    "            d_scaled = (x[:,:,None,:] - self.mus[None,None,:,:])/torch.exp(self.log_sigmas[None,None,:,None])\n",
    "        y = torch.exp(-torch.sum(d_scaled**2, axis=-1)/2)\n",
    "        if self.hparams.get('norm_basis',False)==True:\n",
    "            y = y/torch.sum(y, axis=-1)[:,:,None]\n",
    "        return y\n",
    "    \n",
    "    def grad(self, x):\n",
    "        if self.hparams.get('symgroupavg',False)==True:\n",
    "            mus_temp = torch.einsum('ij,gj->gi', self.mapping, self.mus - 1/2) + 1/2\n",
    "            prefactor = -1/(torch.exp(self.log_sigmas[None,None,:,None]))**2*(x[:,:,None,:] - mus_temp[None,None,:,:])\n",
    "        else:\n",
    "            prefactor = -1/(torch.exp(self.log_sigmas[None,None,:,None]))**2*(x[:,:,None,:] - self.mus[None,None,:,:])\n",
    "        return prefactor*self.forward(x)[:,:,:,None]"
   ]
  },
  {
   "cell_type": "code",
   "execution_count": 114,
   "id": "14b1b889-6b9c-4f63-b1da-920b337a8ba7",
   "metadata": {},
   "outputs": [],
   "source": [
    "hparams = {'accelerator': 'gpu',\n",
    "           'devices': [1],\n",
    "           'dtype': torch.float32,\n",
    "           'precision': 16,\n",
    "           'loss_terms': [F.mse_loss],\n",
    "           'loss_coeffs': [1],\n",
    "           'metric': L2_scaled,\n",
    "           'optimizer': torch.optim.Adam, \n",
    "           'learning_rate': 1e-4,\n",
    "           'batch_size': 100,\n",
    "           'max_epochs': 5000,\n",
    "           'early_stopping_patience': 1000000,\n",
    "           'VarMiON': True,\n",
    "           'Q': 12,\n",
    "           'Q_L': 268,\n",
    "           'h': 10, \n",
    "           'Petrov-Galerkin': False,\n",
    "           'bias_NLBranch': False,\n",
    "           'bias_LBranch': False,\n",
    "           'NLB_outputactivation': nn.Tanhshrink(),\n",
    "           'Cholesky': False,\n",
    "           'scale_invariance': False,\n",
    "           'norm_basis': False,\n",
    "           'bound_mus': False,\n",
    "           '1/theta': False,\n",
    "           'symgroupavg': False,\n",
    "           'NOMAD': False}\n",
    "\n",
    "params['hparams'] = hparams\n",
    "simparams = {}\n",
    "simparams['d'] = 2\n",
    "params['simparams'] = simparams"
   ]
  },
  {
   "cell_type": "code",
   "execution_count": 115,
   "id": "a6372a50-36e0-4863-927c-480ac0204719",
   "metadata": {},
   "outputs": [],
   "source": [
    "rbf = GaussianRBF(params, input_dim=2, output_dim = hparams['h'])"
   ]
  },
  {
   "cell_type": "code",
   "execution_count": 116,
   "id": "7cb47001-9f6c-4109-88f5-fcce80dccc04",
   "metadata": {},
   "outputs": [
    {
     "data": {
      "text/plain": [
       "(-0.05, 1.05, -0.05, 1.05)"
      ]
     },
     "execution_count": 116,
     "metadata": {},
     "output_type": "execute_result"
    },
    {
     "data": {
      "image/png": "[encoded data removed]",
      "text/plain": [
       "<Figure size 640x480 with 1 Axes>"
      ]
     },
     "metadata": {},
     "output_type": "display_data"
    }
   ],
   "source": [
    "mus = rbf.mus.detach().numpy()\n",
    "log_sigmas = rbf.log_sigmas.detach().numpy()\n",
    "sigmas = np.exp(log_sigmas)\n",
    "plt.scatter(mus[:,0], mus[:,1], s=7000*sigmas[0])\n",
    "sigmas\n",
    "plt.axis('square')"
   ]
  },
  {
   "cell_type": "code",
   "execution_count": null,
   "id": "245c69a5-6f2e-4d43-82b7-2aeeabed2266",
   "metadata": {},
   "outputs": [],
   "source": []
  }
 ],
 "metadata": {
  "kernelspec": {
   "display_name": "Python 3 (ipykernel)",
   "language": "python",
   "name": "python3"
  },
  "language_info": {
   "codemirror_mode": {
    "name": "ipython",
    "version": 3
   },
   "file_extension": ".py",
   "mimetype": "text/x-python",
   "name": "python",
   "nbconvert_exporter": "python",
   "pygments_lexer": "ipython3",
   "version": "3.10.9"
  }
 },
 "nbformat": 4,
 "nbformat_minor": 5
}
