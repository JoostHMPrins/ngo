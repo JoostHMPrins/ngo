{
 "cells": [
  {
   "cell_type": "code",
   "execution_count": 3,
   "id": "4da1a8ff-5baa-4261-a896-8b84a32a805f",
   "metadata": {},
   "outputs": [],
   "source": [
    "import torch\n",
    "import numpy as np"
   ]
  },
  {
   "cell_type": "code",
   "execution_count": 4,
   "id": "840853b5-fdd1-4ecd-823d-de5006d83445",
   "metadata": {},
   "outputs": [],
   "source": [
    "#Domain\n",
    "xi_Omega = torch.ones((5,5))\n",
    "#Boundaries\n",
    "xi_Gamma_b = torch.zeros((5,5))\n",
    "xi_Gamma_b[1:-1,0] = 1\n",
    "xi_Gamma_t = torch.zeros((5,5))\n",
    "xi_Gamma_t[1:-1,-1] = 1\n",
    "xi_Gamma_l = torch.zeros((5,5))\n",
    "xi_Gamma_l[0,1:-1] = 1\n",
    "xi_Gamma_r = torch.zeros((5,5))\n",
    "xi_Gamma_r[-1,1:-1] = 1\n",
    "xi_Gamma = xi_Gamma_b + xi_Gamma_t + xi_Gamma_l + xi_Gamma_r"
   ]
  },
  {
   "cell_type": "code",
   "execution_count": 5,
   "id": "1c4e67f8-8f24-49ab-8089-18864900be8e",
   "metadata": {},
   "outputs": [
    {
     "data": {
      "text/plain": [
       "tensor([[0., 1., 1., 1., 0.],\n",
       "        [1., 0., 0., 0., 1.],\n",
       "        [1., 0., 0., 0., 1.],\n",
       "        [1., 0., 0., 0., 1.],\n",
       "        [0., 1., 1., 1., 0.]])"
      ]
     },
     "execution_count": 5,
     "metadata": {},
     "output_type": "execute_result"
    }
   ],
   "source": [
    "xi_Gamma"
   ]
  },
  {
   "cell_type": "code",
   "execution_count": 6,
   "id": "bb4d8ed8-6900-4d3d-ac81-2f4781331d3b",
   "metadata": {},
   "outputs": [],
   "source": [
    "n = torch.zeros((5,5,2))\n",
    "n[0,1:-1,:] = torch.tensor([-1,0])\n",
    "n[-1,1:-1,:] = torch.tensor([1,0])\n",
    "n[1:-1,0,:] = torch.tensor([0,-1])\n",
    "n[1:-1,-1,:] = torch.tensor([0,1])"
   ]
  },
  {
   "cell_type": "code",
   "execution_count": 7,
   "id": "423c7250-eef3-4ffd-afd2-394f3bb4507a",
   "metadata": {},
   "outputs": [
    {
     "data": {
      "text/plain": [
       "torch.Size([5, 5, 2])"
      ]
     },
     "execution_count": 7,
     "metadata": {},
     "output_type": "execute_result"
    }
   ],
   "source": [
    "n.shape"
   ]
  },
  {
   "cell_type": "code",
   "execution_count": 8,
   "id": "d53ccfc9-a3cc-4504-99fd-49ceb37991a3",
   "metadata": {},
   "outputs": [
    {
     "data": {
      "text/plain": [
       "torch.Size([10, 5, 5, 2])"
      ]
     },
     "execution_count": 8,
     "metadata": {},
     "output_type": "execute_result"
    }
   ],
   "source": [
    "n.repeat(10,1,1,1).shape"
   ]
  },
  {
   "cell_type": "code",
   "execution_count": 10,
   "id": "a0bb6fe4-a19a-4855-8154-c242717af880",
   "metadata": {},
   "outputs": [],
   "source": [
    "x_0, x_1 = np.mgrid[0:1:5*1j, 0:1:5*1j]\n",
    "x_Q = np.vstack([x_0.ravel(), x_1.ravel()]).T"
   ]
  },
  {
   "cell_type": "code",
   "execution_count": 12,
   "id": "9d80bda0-fed9-4ecf-8522-8ab7120e3f77",
   "metadata": {},
   "outputs": [
    {
     "data": {
      "text/plain": [
       "torch.Size([25, 2])"
      ]
     },
     "execution_count": 12,
     "metadata": {},
     "output_type": "execute_result"
    }
   ],
   "source": [
    "x_Q.shape"
   ]
  },
  {
   "cell_type": "code",
   "execution_count": 15,
   "id": "2f7e6fef-dde0-408d-91ba-b13a034c8fe2",
   "metadata": {},
   "outputs": [
    {
     "data": {
      "text/plain": [
       "(100, 25, 2)"
      ]
     },
     "execution_count": 15,
     "metadata": {},
     "output_type": "execute_result"
    }
   ],
   "source": [
    "np.tile(x_Q,(100,1,1)).shape"
   ]
  },
  {
   "cell_type": "code",
   "execution_count": null,
   "id": "0e6b376b-ddcb-43cc-820c-8f5d14eaea48",
   "metadata": {},
   "outputs": [],
   "source": []
  }
 ],
 "metadata": {
  "kernelspec": {
   "display_name": "Python 3 (ipykernel)",
   "language": "python",
   "name": "python3"
  },
  "language_info": {
   "codemirror_mode": {
    "name": "ipython",
    "version": 3
   },
   "file_extension": ".py",
   "mimetype": "text/x-python",
   "name": "python",
   "nbconvert_exporter": "python",
   "pygments_lexer": "ipython3",
   "version": "3.10.9"
  }
 },
 "nbformat": 4,
 "nbformat_minor": 5
}
