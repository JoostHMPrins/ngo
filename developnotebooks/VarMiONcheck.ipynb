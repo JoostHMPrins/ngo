{
 "cells": [
  {
   "cell_type": "code",
   "execution_count": 25,
   "id": "268e3b79-2fa2-49b9-bcca-9091879994fe",
   "metadata": {},
   "outputs": [],
   "source": [
    "import torch\n",
    "import numpy as np\n",
    "import matplotlib.pyplot as plt\n",
    "\n",
    "import sys\n",
    "sys.path.insert(0, '../ml')\n",
    "from VarMiON import *"
   ]
  },
  {
   "cell_type": "code",
   "execution_count": 26,
   "id": "e5130df1-86bd-4f01-a72d-ff1ce587222b",
   "metadata": {},
   "outputs": [],
   "source": [
    "Theta_test = torch.rand((100,12,12),dtype=torch.float)\n",
    "F_test = torch.rand((100,144),dtype=torch.float)\n",
    "N_test = torch.rand((100,144),dtype=torch.float)\n",
    "x_test = torch.rand((100,268,2),dtype=torch.float)\n",
    "u_test = torch.rand((100,268),dtype=torch.float)"
   ]
  },
  {
   "cell_type": "markdown",
   "id": "ca374a7f-2004-4837-a082-421dccd166e3",
   "metadata": {},
   "source": [
    "### Trunk"
   ]
  },
  {
   "cell_type": "code",
   "execution_count": 27,
   "id": "09a9e83c-ef01-4a51-8714-a4bcc6b38898",
   "metadata": {},
   "outputs": [
    {
     "ename": "TypeError",
     "evalue": "GaussianRBF.__init__() missing 1 required positional argument: 'output_dim'",
     "output_type": "error",
     "traceback": [
      "\u001b[0;31m---------------------------------------------------------------------------\u001b[0m",
      "\u001b[0;31mTypeError\u001b[0m                                 Traceback (most recent call last)",
      "Cell \u001b[0;32mIn[27], line 2\u001b[0m\n\u001b[1;32m      1\u001b[0m \u001b[38;5;66;03m#Own implementation\u001b[39;00m\n\u001b[0;32m----> 2\u001b[0m \u001b[43mGaussianRBF\u001b[49m\u001b[43m(\u001b[49m\u001b[38;5;241;43m2\u001b[39;49m\u001b[43m,\u001b[49m\u001b[38;5;241;43m72\u001b[39;49m\u001b[43m)\u001b[49m\u001b[38;5;241m.\u001b[39mforward(x_test)\u001b[38;5;241m.\u001b[39mshape\n",
      "\u001b[0;31mTypeError\u001b[0m: GaussianRBF.__init__() missing 1 required positional argument: 'output_dim'"
     ]
    }
   ],
   "source": [
    "#Own implementation\n",
    "GaussianRBF(2,72).forward(x_test).shape"
   ]
  },
  {
   "cell_type": "code",
   "execution_count": 28,
   "id": "21864cc5-8c6c-4d48-b7aa-7c9adbdc3f14",
   "metadata": {},
   "outputs": [
    {
     "ename": "NameError",
     "evalue": "name 'RBF' is not defined",
     "output_type": "error",
     "traceback": [
      "\u001b[0;31m---------------------------------------------------------------------------\u001b[0m",
      "\u001b[0;31mNameError\u001b[0m                                 Traceback (most recent call last)",
      "Cell \u001b[0;32mIn[28], line 2\u001b[0m\n\u001b[1;32m      1\u001b[0m \u001b[38;5;66;03m#torch_rbf implementation\u001b[39;00m\n\u001b[0;32m----> 2\u001b[0m \u001b[43mRBF\u001b[49m(\u001b[38;5;241m2\u001b[39m,\u001b[38;5;241m72\u001b[39m,gaussian)\u001b[38;5;241m.\u001b[39mforward(x_test)\u001b[38;5;241m.\u001b[39mshape\n",
      "\u001b[0;31mNameError\u001b[0m: name 'RBF' is not defined"
     ]
    }
   ],
   "source": [
    "#torch_rbf implementation\n",
    "RBF(2,72,gaussian).forward(x_test).shape"
   ]
  },
  {
   "cell_type": "code",
   "execution_count": 29,
   "id": "0f2fc444-5ae4-48d8-b5a2-7bdc67e89ea5",
   "metadata": {},
   "outputs": [
    {
     "ename": "TypeError",
     "evalue": "GaussianRBF.__init__() missing 1 required positional argument: 'output_dim'",
     "output_type": "error",
     "traceback": [
      "\u001b[0;31m---------------------------------------------------------------------------\u001b[0m",
      "\u001b[0;31mTypeError\u001b[0m                                 Traceback (most recent call last)",
      "Cell \u001b[0;32mIn[29], line 1\u001b[0m\n\u001b[0;32m----> 1\u001b[0m plt\u001b[38;5;241m.\u001b[39mhist(torch\u001b[38;5;241m.\u001b[39mabs((\u001b[43mGaussianRBF\u001b[49m\u001b[43m(\u001b[49m\u001b[38;5;241;43m2\u001b[39;49m\u001b[43m,\u001b[49m\u001b[38;5;241;43m72\u001b[39;49m\u001b[43m)\u001b[49m\u001b[38;5;241m.\u001b[39mforward(x_test) \u001b[38;5;241m-\u001b[39m RBF(\u001b[38;5;241m2\u001b[39m,\u001b[38;5;241m72\u001b[39m,gaussian)\u001b[38;5;241m.\u001b[39mforward(x_test)))\u001b[38;5;241m.\u001b[39mflatten()\u001b[38;5;241m.\u001b[39mdetach()\u001b[38;5;241m.\u001b[39mnumpy())\n",
      "\u001b[0;31mTypeError\u001b[0m: GaussianRBF.__init__() missing 1 required positional argument: 'output_dim'"
     ]
    }
   ],
   "source": [
    "plt.hist(torch.abs((GaussianRBF(2,72).forward(x_test) - RBF(2,72,gaussian).forward(x_test))).flatten().detach().numpy())"
   ]
  },
  {
   "cell_type": "code",
   "execution_count": 30,
   "id": "f78f9bda-93ff-445c-a9e9-1c0966b6828d",
   "metadata": {},
   "outputs": [
    {
     "ename": "TypeError",
     "evalue": "GaussianRBF.__init__() missing 1 required positional argument: 'output_dim'",
     "output_type": "error",
     "traceback": [
      "\u001b[0;31m---------------------------------------------------------------------------\u001b[0m",
      "\u001b[0;31mTypeError\u001b[0m                                 Traceback (most recent call last)",
      "Cell \u001b[0;32mIn[30], line 5\u001b[0m\n\u001b[1;32m      3\u001b[0m x_grid\u001b[38;5;241m.\u001b[39mshape\n\u001b[1;32m      4\u001b[0m x_grid \u001b[38;5;241m=\u001b[39m torch\u001b[38;5;241m.\u001b[39mtensor(x_grid)\n\u001b[0;32m----> 5\u001b[0m f \u001b[38;5;241m=\u001b[39m \u001b[43mGaussianRBF\u001b[49m\u001b[43m(\u001b[49m\u001b[38;5;241;43m2\u001b[39;49m\u001b[43m,\u001b[49m\u001b[38;5;241;43m3\u001b[39;49m\u001b[43m)\u001b[49m\u001b[38;5;241m.\u001b[39mforward(x_grid[:,\u001b[38;5;28;01mNone\u001b[39;00m,\u001b[38;5;28;01mNone\u001b[39;00m,:])\u001b[38;5;241m.\u001b[39msum(\u001b[38;5;241m-\u001b[39m\u001b[38;5;241m1\u001b[39m)\u001b[38;5;241m.\u001b[39msqueeze()\u001b[38;5;241m.\u001b[39mdetach()\u001b[38;5;241m.\u001b[39mnumpy()\n",
      "\u001b[0;31mTypeError\u001b[0m: GaussianRBF.__init__() missing 1 required positional argument: 'output_dim'"
     ]
    }
   ],
   "source": [
    "x_g, y_g = np.mgrid[0:1:100*1j, 0:1:100*1j]\n",
    "x_grid = np.array([x_g, y_g]).T.reshape((10000,2))\n",
    "x_grid.shape\n",
    "x_grid = torch.tensor(x_grid)\n",
    "f = GaussianRBF(2,3).forward(x_grid[:,None,None,:]).sum(-1).squeeze().detach().numpy()"
   ]
  },
  {
   "cell_type": "code",
   "execution_count": 31,
   "id": "1d4095cb-ccf2-4276-8b24-9a66b6b6255a",
   "metadata": {},
   "outputs": [
    {
     "ename": "NameError",
     "evalue": "name 'f' is not defined",
     "output_type": "error",
     "traceback": [
      "\u001b[0;31m---------------------------------------------------------------------------\u001b[0m",
      "\u001b[0;31mNameError\u001b[0m                                 Traceback (most recent call last)",
      "Cell \u001b[0;32mIn[31], line 8\u001b[0m\n\u001b[1;32m      5\u001b[0m fig, ax \u001b[38;5;241m=\u001b[39m plt\u001b[38;5;241m.\u001b[39msubplots(\u001b[38;5;241m1\u001b[39m,\u001b[38;5;241m1\u001b[39m, figsize\u001b[38;5;241m=\u001b[39m(\u001b[38;5;241m6\u001b[39m, \u001b[38;5;241m4\u001b[39m))\n\u001b[1;32m      6\u001b[0m fig\u001b[38;5;241m.\u001b[39msubplots_adjust(left\u001b[38;5;241m=\u001b[39m\u001b[38;5;28;01mNone\u001b[39;00m, bottom\u001b[38;5;241m=\u001b[39m\u001b[38;5;28;01mNone\u001b[39;00m, right\u001b[38;5;241m=\u001b[39m\u001b[38;5;28;01mNone\u001b[39;00m, top\u001b[38;5;241m=\u001b[39m\u001b[38;5;28;01mNone\u001b[39;00m, wspace\u001b[38;5;241m=\u001b[39m\u001b[38;5;241m0.4\u001b[39m, hspace\u001b[38;5;241m=\u001b[39m\u001b[38;5;241m0.4\u001b[39m)\n\u001b[0;32m----> 8\u001b[0m fig \u001b[38;5;241m=\u001b[39m ax\u001b[38;5;241m.\u001b[39mtripcolor(x_grid[:,\u001b[38;5;241m0\u001b[39m], x_grid[:,\u001b[38;5;241m1\u001b[39m], \u001b[43mf\u001b[49m)\n\u001b[1;32m      9\u001b[0m ax\u001b[38;5;241m.\u001b[39mset_title(\u001b[38;5;124mr\u001b[39m\u001b[38;5;124m\"\u001b[39m\u001b[38;5;124m3 RBFs\u001b[39m\u001b[38;5;124m\"\u001b[39m, fontsize\u001b[38;5;241m=\u001b[39msize_title)\n\u001b[1;32m     10\u001b[0m ax\u001b[38;5;241m.\u001b[39mtick_params(axis\u001b[38;5;241m=\u001b[39m\u001b[38;5;124m'\u001b[39m\u001b[38;5;124mboth\u001b[39m\u001b[38;5;124m'\u001b[39m, labelsize\u001b[38;5;241m=\u001b[39msize_ticklabels)\n",
      "\u001b[0;31mNameError\u001b[0m: name 'f' is not defined"
     ]
    },
    {
     "data": {
      "image/png": "[encoded data removed]",
      "text/plain": [
       "<Figure size 600x400 with 1 Axes>"
      ]
     },
     "metadata": {},
     "output_type": "display_data"
    }
   ],
   "source": [
    "size_title = 25\n",
    "size_ticklabels = 15\n",
    "size_axeslabels = 20\n",
    "\n",
    "fig, ax = plt.subplots(1,1, figsize=(6, 4))\n",
    "fig.subplots_adjust(left=None, bottom=None, right=None, top=None, wspace=0.4, hspace=0.4)\n",
    "\n",
    "fig = ax.tripcolor(x_grid[:,0], x_grid[:,1], f)\n",
    "ax.set_title(r\"3 RBFs\", fontsize=size_title)\n",
    "ax.tick_params(axis='both', labelsize=size_ticklabels)\n",
    "ax.ticklabel_format(style='sci', scilimits=[-3,3])\n",
    "ax.set_xlabel(r'$x$', fontsize=size_axeslabels)\n",
    "ax.set_ylabel(r'$y$', fontsize=size_axeslabels)\n",
    "ax.set_xlim(0,1)\n",
    "ax.set_ylim(0,1)\n",
    "ax.set_aspect('equal')\n",
    "plt.colorbar(fig)\n"
   ]
  },
  {
   "cell_type": "markdown",
   "id": "123ff3a0-dd9d-4586-8a9c-2faf3485f597",
   "metadata": {
    "tags": []
   },
   "source": [
    "### Non-linear branch"
   ]
  },
  {
   "cell_type": "code",
   "execution_count": 32,
   "id": "0620bb03-10fd-499d-84b1-2f6b2ca3a9f5",
   "metadata": {},
   "outputs": [
    {
     "ename": "TypeError",
     "evalue": "NLBranchNet.__init__() missing 1 required positional argument: 'params'",
     "output_type": "error",
     "traceback": [
      "\u001b[0;31m---------------------------------------------------------------------------\u001b[0m",
      "\u001b[0;31mTypeError\u001b[0m                                 Traceback (most recent call last)",
      "Cell \u001b[0;32mIn[32], line 1\u001b[0m\n\u001b[0;32m----> 1\u001b[0m NLBranch \u001b[38;5;241m=\u001b[39m \u001b[43mNLBranchNet\u001b[49m\u001b[43m(\u001b[49m\u001b[43m)\u001b[49m\n",
      "\u001b[0;31mTypeError\u001b[0m: NLBranchNet.__init__() missing 1 required positional argument: 'params'"
     ]
    }
   ],
   "source": [
    "NLBranch = NLBranchNet()"
   ]
  },
  {
   "cell_type": "code",
   "execution_count": 33,
   "id": "52851878-211d-4cbf-85e8-bcb9bc462aef",
   "metadata": {},
   "outputs": [
    {
     "ename": "NameError",
     "evalue": "name 'NLBranch' is not defined",
     "output_type": "error",
     "traceback": [
      "\u001b[0;31m---------------------------------------------------------------------------\u001b[0m",
      "\u001b[0;31mNameError\u001b[0m                                 Traceback (most recent call last)",
      "Cell \u001b[0;32mIn[33], line 1\u001b[0m\n\u001b[0;32m----> 1\u001b[0m output \u001b[38;5;241m=\u001b[39m \u001b[43mNLBranch\u001b[49m\u001b[38;5;241m.\u001b[39mforward(Theta_test)\n\u001b[1;32m      2\u001b[0m \u001b[38;5;28mprint\u001b[39m(output\u001b[38;5;241m.\u001b[39mshape)\n",
      "\u001b[0;31mNameError\u001b[0m: name 'NLBranch' is not defined"
     ]
    }
   ],
   "source": [
    "output = NLBranch.forward(Theta_test)\n",
    "print(output.shape)"
   ]
  },
  {
   "cell_type": "markdown",
   "id": "416dab2a-652e-42d3-81cf-c3315a59b25b",
   "metadata": {},
   "source": [
    "### Linear branch"
   ]
  },
  {
   "cell_type": "code",
   "execution_count": 34,
   "id": "d56c8f28-802f-4f57-9e8f-189f45842101",
   "metadata": {},
   "outputs": [
    {
     "ename": "TypeError",
     "evalue": "LBranchNet.__init__() missing 1 required positional argument: 'output_dim'",
     "output_type": "error",
     "traceback": [
      "\u001b[0;31m---------------------------------------------------------------------------\u001b[0m",
      "\u001b[0;31mTypeError\u001b[0m                                 Traceback (most recent call last)",
      "Cell \u001b[0;32mIn[34], line 1\u001b[0m\n\u001b[0;32m----> 1\u001b[0m LBranch \u001b[38;5;241m=\u001b[39m \u001b[43mLBranchNet\u001b[49m\u001b[43m(\u001b[49m\u001b[38;5;241;43m144\u001b[39;49m\u001b[43m,\u001b[49m\u001b[38;5;241;43m72\u001b[39;49m\u001b[43m)\u001b[49m\n",
      "\u001b[0;31mTypeError\u001b[0m: LBranchNet.__init__() missing 1 required positional argument: 'output_dim'"
     ]
    }
   ],
   "source": [
    "LBranch = LBranchNet(144,72)"
   ]
  },
  {
   "cell_type": "code",
   "execution_count": 35,
   "id": "478d43f0-77b4-468d-ada1-03d8cc08ad7d",
   "metadata": {},
   "outputs": [
    {
     "ename": "NameError",
     "evalue": "name 'LBranch' is not defined",
     "output_type": "error",
     "traceback": [
      "\u001b[0;31m---------------------------------------------------------------------------\u001b[0m",
      "\u001b[0;31mNameError\u001b[0m                                 Traceback (most recent call last)",
      "Cell \u001b[0;32mIn[35], line 1\u001b[0m\n\u001b[0;32m----> 1\u001b[0m output \u001b[38;5;241m=\u001b[39m \u001b[43mLBranch\u001b[49m(F_test)\n\u001b[1;32m      2\u001b[0m \u001b[38;5;28mprint\u001b[39m(output\u001b[38;5;241m.\u001b[39mshape)\n",
      "\u001b[0;31mNameError\u001b[0m: name 'LBranch' is not defined"
     ]
    }
   ],
   "source": [
    "output = LBranch(F_test)\n",
    "print(output.shape)"
   ]
  },
  {
   "cell_type": "markdown",
   "id": "7c7507e3-ac10-4173-a0c9-24112ee6eee1",
   "metadata": {},
   "source": [
    "### VarMiON"
   ]
  },
  {
   "cell_type": "code",
   "execution_count": 36,
   "id": "f5e5e583-003a-4ee9-b7e7-899e6b7d5cae",
   "metadata": {},
   "outputs": [],
   "source": [
    "Theta_test = torch.rand((100,12,12),dtype=torch.double)\n",
    "F_test = torch.rand((100,12,12),dtype=torch.double)\n",
    "N_test = torch.rand((100,12,12),dtype=torch.double)\n",
    "x_test = torch.rand((100,268,2),dtype=torch.double)\n",
    "u_test = torch.rand((100,268),dtype=torch.double)"
   ]
  },
  {
   "cell_type": "code",
   "execution_count": 37,
   "id": "8af2efcd-d9b0-48f0-917a-7575a3743f8d",
   "metadata": {},
   "outputs": [],
   "source": [
    "hparams = {}\n",
    "hparams['dtype'] = torch.float64\n",
    "params = {}\n",
    "params['hparams'] = hparams\n",
    "model = VarMiON(params)"
   ]
  },
  {
   "cell_type": "code",
   "execution_count": 38,
   "id": "1ce4cb27-08bf-47de-93a8-dfc22b5378df",
   "metadata": {},
   "outputs": [
    {
     "data": {
      "text/plain": [
       "tensor([[ 8.5264e-01,  1.0087e+00,  3.6364e+00,  ...,  1.4237e+00,\n",
       "          3.1972e+00,  4.1326e+00],\n",
       "        [ 1.0109e+01,  6.4106e+00,  1.5409e+01,  ...,  1.5886e+01,\n",
       "          2.3166e+01,  5.9553e+00],\n",
       "        [ 1.1055e+01,  8.0609e+00,  2.5944e+00,  ...,  1.3465e+01,\n",
       "          8.2503e+00,  6.9391e+00],\n",
       "        ...,\n",
       "        [-1.6883e+00, -1.3725e+00, -5.0021e+00,  ..., -7.1879e+00,\n",
       "         -4.2548e+00, -4.4259e+00],\n",
       "        [ 6.3649e+00,  9.8323e+00,  4.8165e+00,  ...,  1.3922e+01,\n",
       "          1.0155e+01,  9.5851e+00],\n",
       "        [ 5.7412e+00,  6.4488e+00, -2.9356e-03,  ...,  3.0026e-01,\n",
       "          7.5822e+00,  2.2474e-01]], dtype=torch.float64,\n",
       "       grad_fn=<ViewBackward0>)"
      ]
     },
     "execution_count": 38,
     "metadata": {},
     "output_type": "execute_result"
    }
   ],
   "source": [
    "model.forward(Theta_test, F_test, N_test, x_test)"
   ]
  },
  {
   "cell_type": "markdown",
   "id": "d5b20a70-684b-41de-8a7b-9fb0caa9b46b",
   "metadata": {},
   "source": [
    "### Symmetric positive definiteness"
   ]
  },
  {
   "cell_type": "code",
   "execution_count": 10,
   "id": "e70f00ea-249c-4b2d-9049-dba4b5b495bd",
   "metadata": {},
   "outputs": [],
   "source": [
    "hparams = {'NLB_outputReLU': False,\n",
    "          'Cholesky': True}\n",
    "hparams['dtype'] = torch.float64\n",
    "params = {}\n",
    "params['hparams'] = hparams\n",
    "model = VarMiON(params)"
   ]
  },
  {
   "cell_type": "code",
   "execution_count": 17,
   "id": "6a3dbe57-fc08-4316-a6f7-f694b976aa01",
   "metadata": {},
   "outputs": [
    {
     "name": "stdout",
     "output_type": "stream",
     "text": [
      "[4.83972203e+02 4.91242642e+03 7.02576301e+03 4.77876932e+00\n",
      " 4.65562578e+02 5.39776006e+03 3.69276256e+03 1.13637947e+04\n",
      " 4.54373685e+00 4.81434538e+04 7.51651570e+00 3.61531392e+03\n",
      " 6.45658137e+03 2.19862472e+02 3.60755148e+03 2.43596374e+03\n",
      " 2.91757729e+02 7.44185640e+03 3.45157295e+02 2.63750753e+04\n",
      " 2.21308056e+04 9.61658518e+02 6.89418500e+03 6.84597111e+04\n",
      " 1.04516489e+03 1.02271691e+03 1.13460729e+03 9.41830491e+03\n",
      " 4.57385349e+03 3.99946052e+04 1.04324199e+03 1.53182781e+03\n",
      " 1.22584384e+03 2.46014915e+04 6.92253893e+03 1.82238589e+04\n",
      " 1.47686043e+04 6.22332761e+03 4.73847743e+03 7.92864075e+01\n",
      " 4.05608246e+04 7.48075819e+04 2.31803767e+04 1.72060637e+04\n",
      " 1.20343460e+04 3.18125336e+04 1.39847820e+01 5.99204882e+03\n",
      " 6.48571618e-01 2.11076213e+02 4.75429769e+04 6.23539475e+03\n",
      " 1.05453827e+04 1.88074661e+03 1.63015932e+04 7.55212438e+03\n",
      " 2.51212152e+03 1.05877404e+04 8.86241303e+03 9.00098789e+02\n",
      " 2.94022294e+04 3.17419512e+03 3.02896300e+03 3.22045603e+04\n",
      " 2.02840141e+04 7.20720238e+01 5.89754992e+03 1.05492235e+04\n",
      " 1.96872958e+04 2.24345429e+04 5.05620540e+02 2.74560278e+03\n",
      " 8.12009483e+02 2.31340097e+03 2.33116816e+03 2.66937957e+04\n",
      " 5.12219979e+01 1.25538106e+03 2.05429354e+04 1.64693447e+03\n",
      " 1.99519093e+03 7.27972991e+02 2.47906766e+03 2.91716530e+02\n",
      " 3.00408549e+03 7.20316540e+04 5.47263403e+04 4.04222119e+04\n",
      " 7.83695455e+03 8.79138947e+02 2.25240901e+03 6.42513083e+03\n",
      " 3.50386698e+04 2.24427290e+04 2.41164665e+03 2.33296180e+04\n",
      " 2.50108813e+03 3.56920371e+04 1.22687689e+03 6.36435511e+04]\n"
     ]
    },
    {
     "data": {
      "text/plain": [
       "(array([61., 10.,  8.,  7.,  4.,  3.,  2.,  1.,  1.,  3.]),\n",
       " array([6.48571618e-01, 7.48134190e+03, 1.49620352e+04, 2.24427286e+04,\n",
       "        2.99234219e+04, 3.74041152e+04, 4.48848085e+04, 5.23655019e+04,\n",
       "        5.98461952e+04, 6.73268885e+04, 7.48075819e+04]),\n",
       " <BarContainer object of 10 artists>)"
      ]
     },
     "execution_count": 17,
     "metadata": {},
     "output_type": "execute_result"
    },
    {
     "data": {
      "image/png": "[encoded data removed]",
      "text/plain": [
       "<Figure size 640x480 with 1 Axes>"
      ]
     },
     "metadata": {},
     "output_type": "display_data"
    }
   ],
   "source": [
    "Theta_test = torch.rand((100,12,12),dtype=torch.double)\n",
    "D = model.NLBranch.forward(Theta_test)\n",
    "v = torch.normal(0,1,(100,1))\n",
    "# v = torch.zeros((100,1))\n",
    "pd = torch.einsum('ni,nij,nj->n',v,D,v).detach().numpy()"
   ]
  },
  {
   "cell_type": "code",
   "execution_count": 21,
   "id": "f4cf0b38-0f86-4179-ac98-529376bede4d",
   "metadata": {},
   "outputs": [
    {
     "data": {
      "image/png": "[encoded data removed]",
      "text/plain": [
       "<Figure size 600x400 with 1 Axes>"
      ]
     },
     "metadata": {},
     "output_type": "display_data"
    }
   ],
   "source": [
    "size_title = 25\n",
    "size_ticklabels = 15\n",
    "size_axeslabels = 20\n",
    "\n",
    "fig, ax = plt.subplots(1,1, figsize=(6, 4))\n",
    "fig.subplots_adjust(left=None, bottom=None, right=None, top=None, wspace=0.4, hspace=0.4)\n",
    "\n",
    "fig = ax.hist(pd)\n",
    "ax.tick_params(axis='both', labelsize=size_ticklabels)\n",
    "ax.ticklabel_format(style='sci', scilimits=[-3,3])\n",
    "ax.set_xlabel(r'$\\mathbf{v}$', fontsize=size_axeslabels)\n",
    "ax.set_ylabel(r'count', fontsize=size_axeslabels)\n",
    "ax.grid()\n",
    "\n",
    "# plt.savefig(\"1dgrfdelta.pdf\", bbox_inches='tight')"
   ]
  },
  {
   "cell_type": "markdown",
   "id": "3f658a25-63fa-467f-98f6-334fd9e5f456",
   "metadata": {},
   "source": [
    "### Scale invariance"
   ]
  },
  {
   "cell_type": "code",
   "execution_count": 20,
   "id": "ac29d4c0-9a1a-45c3-92cd-9802d84d6e48",
   "metadata": {},
   "outputs": [],
   "source": [
    "Theta_test = torch.rand((100,12,12),dtype=torch.double)\n",
    "F_test = torch.rand((100,12,12),dtype=torch.double)\n",
    "N_test = torch.rand((100,12,12),dtype=torch.double)\n",
    "x_test = torch.rand((100,268,2),dtype=torch.double)\n",
    "u_test = torch.rand((100,268),dtype=torch.double)"
   ]
  },
  {
   "cell_type": "code",
   "execution_count": 22,
   "id": "3ca57b47-7e04-4724-b00e-d6f7894433ad",
   "metadata": {},
   "outputs": [],
   "source": [
    "hparams = {'scale_invariance': True}\n",
    "hparams['dtype'] = torch.float64\n",
    "params = {}\n",
    "params['hparams'] = hparams\n",
    "model = VarMiON(params)"
   ]
  },
  {
   "cell_type": "code",
   "execution_count": 23,
   "id": "3f843ea6-3b25-47d3-92c5-5f68c0c9a862",
   "metadata": {},
   "outputs": [],
   "source": [
    "labda = torch.rand(100,1,1, dtype=torch.double)"
   ]
  },
  {
   "cell_type": "code",
   "execution_count": 24,
   "id": "6431787e-2c54-4db0-a875-6928e3eb80f9",
   "metadata": {},
   "outputs": [
    {
     "data": {
      "text/plain": [
       "tensor([[[0.0000e+00, 2.6645e-15, 8.8818e-16,  ..., 3.1086e-15,\n",
       "          0.0000e+00, 2.6645e-15],\n",
       "         [5.5511e-17, 3.5527e-15, 4.4409e-16,  ..., 1.7764e-15,\n",
       "          8.8818e-16, 0.0000e+00],\n",
       "         [1.7764e-15, 0.0000e+00, 1.7764e-15,  ..., 8.8818e-16,\n",
       "          2.6645e-15, 0.0000e+00],\n",
       "         ...,\n",
       "         [4.4409e-16, 1.7764e-15, 6.6613e-16,  ..., 1.7764e-15,\n",
       "          2.2204e-16, 3.5527e-15],\n",
       "         [1.7764e-15, 0.0000e+00, 3.5527e-15,  ..., 0.0000e+00,\n",
       "          1.7764e-15, 1.7764e-15],\n",
       "         [4.4409e-16, 0.0000e+00, 0.0000e+00,  ..., 1.7764e-15,\n",
       "          8.8818e-16, 8.8818e-16]],\n",
       "\n",
       "        [[0.0000e+00, 0.0000e+00, 4.4409e-16,  ..., 0.0000e+00,\n",
       "          2.2204e-16, 9.9920e-16],\n",
       "         [3.3307e-16, 6.6613e-16, 1.1102e-16,  ..., 8.8818e-16,\n",
       "          5.2736e-16, 8.8818e-16],\n",
       "         [0.0000e+00, 4.4409e-16, 0.0000e+00,  ..., 4.4409e-16,\n",
       "          6.6613e-16, 8.8818e-16],\n",
       "         ...,\n",
       "         [1.6653e-16, 0.0000e+00, 0.0000e+00,  ..., 2.2204e-16,\n",
       "          3.8858e-16, 0.0000e+00],\n",
       "         [8.8818e-16, 0.0000e+00, 8.8818e-16,  ..., 2.2204e-16,\n",
       "          2.2204e-16, 4.4409e-16],\n",
       "         [1.1102e-16, 1.1102e-16, 2.2204e-16,  ..., 2.2204e-16,\n",
       "          1.1102e-16, 4.4409e-16]],\n",
       "\n",
       "        [[2.2204e-16, 0.0000e+00, 2.2204e-16,  ..., 2.2204e-16,\n",
       "          3.3307e-16, 0.0000e+00],\n",
       "         [3.1919e-16, 2.2204e-16, 1.1102e-16,  ..., 3.3307e-16,\n",
       "          3.3307e-16, 1.1102e-16],\n",
       "         [0.0000e+00, 2.2204e-16, 4.4409e-16,  ..., 4.4409e-16,\n",
       "          3.3307e-16, 0.0000e+00],\n",
       "         ...,\n",
       "         [5.5511e-17, 0.0000e+00, 2.7756e-17,  ..., 2.2204e-16,\n",
       "          4.4409e-16, 2.2204e-16],\n",
       "         [4.4409e-16, 2.2204e-16, 4.4409e-16,  ..., 0.0000e+00,\n",
       "          3.3307e-16, 4.4409e-16],\n",
       "         [3.3307e-16, 1.1102e-16, 2.2204e-16,  ..., 0.0000e+00,\n",
       "          2.2204e-16, 0.0000e+00]],\n",
       "\n",
       "        ...,\n",
       "\n",
       "        [[4.4409e-16, 2.2204e-16, 0.0000e+00,  ..., 7.7716e-16,\n",
       "          0.0000e+00, 2.2204e-16],\n",
       "         [1.6653e-16, 4.4409e-16, 1.1102e-16,  ..., 4.4409e-16,\n",
       "          1.1102e-16, 0.0000e+00],\n",
       "         [0.0000e+00, 6.6613e-16, 1.1102e-15,  ..., 0.0000e+00,\n",
       "          4.4409e-16, 4.4409e-16],\n",
       "         ...,\n",
       "         [1.1102e-16, 4.4409e-16, 1.6653e-16,  ..., 4.4409e-16,\n",
       "          3.3307e-16, 2.2204e-16],\n",
       "         [4.4409e-16, 0.0000e+00, 8.8818e-16,  ..., 0.0000e+00,\n",
       "          1.1102e-15, 1.7764e-15],\n",
       "         [2.2204e-16, 2.2204e-16, 0.0000e+00,  ..., 0.0000e+00,\n",
       "          2.2204e-16, 2.2204e-16]],\n",
       "\n",
       "        [[8.8818e-16, 6.6613e-16, 0.0000e+00,  ..., 1.1102e-15,\n",
       "          2.2204e-16, 4.4409e-16],\n",
       "         [3.7470e-16, 8.8818e-16, 1.1102e-16,  ..., 6.6613e-16,\n",
       "          5.5511e-16, 1.1102e-15],\n",
       "         [2.2204e-16, 4.4409e-16, 1.3323e-15,  ..., 8.8818e-16,\n",
       "          8.8818e-16, 4.4409e-16],\n",
       "         ...,\n",
       "         [4.4409e-16, 8.8818e-16, 0.0000e+00,  ..., 4.4409e-16,\n",
       "          3.3307e-16, 0.0000e+00],\n",
       "         [0.0000e+00, 4.4409e-16, 8.8818e-16,  ..., 6.6613e-16,\n",
       "          1.1102e-15, 8.8818e-16],\n",
       "         [2.2204e-16, 1.1102e-16, 0.0000e+00,  ..., 0.0000e+00,\n",
       "          3.3307e-16, 2.2204e-16]],\n",
       "\n",
       "        [[1.1102e-16, 1.1102e-16, 1.1102e-16,  ..., 1.1102e-16,\n",
       "          1.1102e-16, 2.2204e-16],\n",
       "         [2.1511e-16, 4.4409e-16, 1.1102e-16,  ..., 3.3307e-16,\n",
       "          1.3878e-16, 2.2204e-16],\n",
       "         [0.0000e+00, 0.0000e+00, 3.3307e-16,  ..., 1.1102e-16,\n",
       "          3.3307e-16, 2.2204e-16],\n",
       "         ...,\n",
       "         [1.1102e-16, 0.0000e+00, 7.1557e-17,  ..., 2.2204e-16,\n",
       "          1.6653e-16, 0.0000e+00],\n",
       "         [0.0000e+00, 0.0000e+00, 2.2204e-16,  ..., 0.0000e+00,\n",
       "          5.5511e-16, 4.4409e-16],\n",
       "         [0.0000e+00, 0.0000e+00, 0.0000e+00,  ..., 0.0000e+00,\n",
       "          1.1102e-16, 0.0000e+00]]], dtype=torch.float64,\n",
       "       grad_fn=<AbsBackward0>)"
      ]
     },
     "execution_count": 24,
     "metadata": {},
     "output_type": "execute_result"
    }
   ],
   "source": [
    "torch.abs(model.NLBranch(labda*Theta_test) - 1/labda*model.NLBranch(Theta_test))"
   ]
  },
  {
   "cell_type": "code",
   "execution_count": 16,
   "id": "a626b323-301f-4822-8482-829830255a45",
   "metadata": {},
   "outputs": [
    {
     "data": {
      "text/plain": [
       "(array([4.177e+03, 1.497e+03, 9.750e+02, 2.140e+02, 2.440e+02, 2.600e+01,\n",
       "        4.500e+01, 6.000e+00, 1.300e+01, 3.000e+00]),\n",
       " array([0.00000000e+00, 2.77555756e-17, 5.55111512e-17, 8.32667268e-17,\n",
       "        1.11022302e-16, 1.38777878e-16, 1.66533454e-16, 1.94289029e-16,\n",
       "        2.22044605e-16, 2.49800181e-16, 2.77555756e-16]),\n",
       " <BarContainer object of 10 artists>)"
      ]
     },
     "execution_count": 16,
     "metadata": {},
     "output_type": "execute_result"
    },
    {
     "data": {
      "image/png": "[encoded data removed]",
      "text/plain": [
       "<Figure size 640x480 with 1 Axes>"
      ]
     },
     "metadata": {},
     "output_type": "display_data"
    }
   ],
   "source": [
    "labda = torch.rand((100,1,1), dtype = torch.double)\n",
    "error = torch.abs(model.LBranchF(labda*F_test) - labda[:,:,0]*model.LBranchF(F_test)).flatten().detach().numpy()\n",
    "\n",
    "plt.hist(error)"
   ]
  },
  {
   "cell_type": "code",
   "execution_count": null,
   "id": "d1ba66b0-8f91-4833-bc92-7891de5c38db",
   "metadata": {},
   "outputs": [],
   "source": []
  }
 ],
 "metadata": {
  "kernelspec": {
   "display_name": "Python 3 (ipykernel)",
   "language": "python",
   "name": "python3"
  },
  "language_info": {
   "codemirror_mode": {
    "name": "ipython",
    "version": 3
   },
   "file_extension": ".py",
   "mimetype": "text/x-python",
   "name": "python",
   "nbconvert_exporter": "python",
   "pygments_lexer": "ipython3",
   "version": "3.10.9"
  }
 },
 "nbformat": 4,
 "nbformat_minor": 5
}
