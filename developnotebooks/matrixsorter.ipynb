{
 "cells": [
  {
   "cell_type": "code",
   "execution_count": 1,
   "id": "21a7b17e-8150-46e7-ae9f-3e9e9570c134",
   "metadata": {},
   "outputs": [],
   "source": [
    "import torch"
   ]
  },
  {
   "cell_type": "code",
   "execution_count": 3,
   "id": "7cda6cb4-2e4a-4cfc-988c-b0c8bd16c5fc",
   "metadata": {},
   "outputs": [],
   "source": [
    "N=1000"
   ]
  },
  {
   "cell_type": "code",
   "execution_count": 4,
   "id": "d67b8453-0baf-49cc-9ac4-46332d731063",
   "metadata": {},
   "outputs": [],
   "source": [
    "n=3"
   ]
  },
  {
   "cell_type": "code",
   "execution_count": 206,
   "id": "6446c297-d012-415d-a929-908510d74570",
   "metadata": {},
   "outputs": [],
   "source": [
    "K = torch.rand((n,n))"
   ]
  },
  {
   "cell_type": "code",
   "execution_count": 207,
   "id": "02d5ce90-efc1-4dcf-a696-7cfef0988b81",
   "metadata": {},
   "outputs": [
    {
     "data": {
      "text/plain": [
       "tensor([[[0.0259, 0.8430, 0.3490],\n",
       "         [0.8319, 0.6743, 0.2922],\n",
       "         [0.3694, 0.8778, 0.2836]],\n",
       "\n",
       "        [[0.7222, 0.0616, 0.3046],\n",
       "         [0.3728, 0.3091, 0.7694],\n",
       "         [0.5795, 0.7590, 0.7665]],\n",
       "\n",
       "        [[0.5858, 0.1992, 0.4473],\n",
       "         [0.2207, 0.7964, 0.7126],\n",
       "         [0.9208, 0.3550, 0.5185]],\n",
       "\n",
       "        ...,\n",
       "\n",
       "        [[0.6413, 0.4557, 0.5922],\n",
       "         [0.3309, 0.5002, 0.0212],\n",
       "         [0.7029, 0.9147, 0.5159]],\n",
       "\n",
       "        [[0.7507, 0.1243, 0.9205],\n",
       "         [0.5758, 0.7599, 0.4539],\n",
       "         [0.7339, 0.4308, 0.9618]],\n",
       "\n",
       "        [[0.4144, 0.7079, 0.6145],\n",
       "         [0.1080, 0.0168, 0.5613],\n",
       "         [0.4877, 0.7841, 0.5179]]])"
      ]
     },
     "execution_count": 215,
     "metadata": {},
     "output_type": "execute_result"
    }
   ],
   "source": [
    "K"
   ]
  },
  {
   "cell_type": "code",
   "execution_count": 208,
   "id": "a3ea4954-9793-40fa-a17f-3c894aea8d0f",
   "metadata": {},
   "outputs": [
    {
     "data": {
      "text/plain": [
       "tensor([[0.8319, 0.8778, 0.3490],\n",
       "        [0.7222, 0.7590, 0.7694],\n",
       "        [0.9208, 0.7964, 0.7126],\n",
       "        ...,\n",
       "        [0.7029, 0.9147, 0.5922],\n",
       "        [0.7507, 0.7599, 0.9618],\n",
       "        [0.4877, 0.7841, 0.6145]])"
      ]
     },
     "execution_count": 216,
     "metadata": {},
     "output_type": "execute_result"
    }
   ],
   "source": [
    "torch.amax(K, axis=1)"
   ]
  },
  {
   "cell_type": "code",
   "execution_count": 240,
   "id": "98d9f004-d18d-4575-abf7-337f06ced9a4",
   "metadata": {},
   "outputs": [
    {
     "name": "stdout",
     "output_type": "stream",
     "text": [
      "torch.Size([900])\n",
      "tensor([[[1., 1., 1.],\n",
      "         [1., 1., 0.],\n",
      "         [1., 0., 0.]],\n",
      "\n",
      "        [[0., 0., 0.],\n",
      "         [0., 0., 0.],\n",
      "         [0., 0., 0.]],\n",
      "\n",
      "        [[0., 0., 0.],\n",
      "         [0., 0., 0.],\n",
      "         [0., 0., 0.]],\n",
      "\n",
      "        [[0., 0., 0.],\n",
      "         [0., 0., 0.],\n",
      "         [0., 0., 0.]],\n",
      "\n",
      "        [[0., 0., 0.],\n",
      "         [0., 0., 0.],\n",
      "         [0., 0., 0.]],\n",
      "\n",
      "        [[0., 0., 0.],\n",
      "         [0., 0., 0.],\n",
      "         [0., 0., 0.]],\n",
      "\n",
      "        [[0., 0., 0.],\n",
      "         [0., 0., 0.],\n",
      "         [0., 0., 0.]],\n",
      "\n",
      "        [[0., 0., 0.],\n",
      "         [0., 0., 0.],\n",
      "         [0., 0., 0.]],\n",
      "\n",
      "        [[0., 0., 0.],\n",
      "         [0., 0., 0.],\n",
      "         [0., 0., 0.]],\n",
      "\n",
      "        [[0., 0., 0.],\n",
      "         [0., 0., 0.],\n",
      "         [0., 0., 0.]],\n",
      "\n",
      "        [[0., 0., 0.],\n",
      "         [0., 0., 0.],\n",
      "         [0., 0., 0.]],\n",
      "\n",
      "        [[0., 0., 0.],\n",
      "         [0., 0., 0.],\n",
      "         [0., 0., 0.]],\n",
      "\n",
      "        [[0., 0., 0.],\n",
      "         [0., 0., 0.],\n",
      "         [0., 0., 0.]],\n",
      "\n",
      "        [[0., 0., 0.],\n",
      "         [0., 0., 0.],\n",
      "         [0., 0., 0.]],\n",
      "\n",
      "        [[0., 0., 0.],\n",
      "         [0., 0., 0.],\n",
      "         [0., 0., 0.]],\n",
      "\n",
      "        [[0., 0., 0.],\n",
      "         [0., 0., 0.],\n",
      "         [0., 0., 0.]],\n",
      "\n",
      "        [[0., 0., 0.],\n",
      "         [0., 0., 0.],\n",
      "         [0., 0., 0.]],\n",
      "\n",
      "        [[0., 0., 0.],\n",
      "         [0., 0., 0.],\n",
      "         [0., 0., 0.]],\n",
      "\n",
      "        [[0., 0., 0.],\n",
      "         [0., 0., 0.],\n",
      "         [0., 0., 0.]],\n",
      "\n",
      "        [[0., 0., 0.],\n",
      "         [0., 0., 0.],\n",
      "         [0., 0., 0.]],\n",
      "\n",
      "        [[0., 0., 0.],\n",
      "         [0., 0., 0.],\n",
      "         [0., 0., 0.]],\n",
      "\n",
      "        [[0., 0., 0.],\n",
      "         [0., 0., 0.],\n",
      "         [0., 0., 0.]],\n",
      "\n",
      "        [[0., 0., 0.],\n",
      "         [0., 0., 0.],\n",
      "         [0., 0., 0.]],\n",
      "\n",
      "        [[0., 0., 0.],\n",
      "         [0., 0., 0.],\n",
      "         [0., 0., 0.]],\n",
      "\n",
      "        [[0., 0., 0.],\n",
      "         [0., 0., 0.],\n",
      "         [0., 0., 0.]],\n",
      "\n",
      "        [[0., 0., 0.],\n",
      "         [0., 0., 0.],\n",
      "         [0., 0., 0.]],\n",
      "\n",
      "        [[0., 0., 0.],\n",
      "         [0., 0., 0.],\n",
      "         [0., 0., 0.]],\n",
      "\n",
      "        [[0., 0., 0.],\n",
      "         [0., 0., 0.],\n",
      "         [0., 0., 0.]],\n",
      "\n",
      "        [[0., 0., 0.],\n",
      "         [0., 0., 0.],\n",
      "         [0., 0., 0.]],\n",
      "\n",
      "        [[0., 0., 0.],\n",
      "         [0., 0., 0.],\n",
      "         [0., 0., 0.]],\n",
      "\n",
      "        [[0., 0., 0.],\n",
      "         [0., 0., 0.],\n",
      "         [0., 0., 0.]],\n",
      "\n",
      "        [[0., 0., 0.],\n",
      "         [0., 0., 0.],\n",
      "         [0., 0., 0.]],\n",
      "\n",
      "        [[0., 0., 0.],\n",
      "         [0., 0., 0.],\n",
      "         [0., 0., 0.]],\n",
      "\n",
      "        [[0., 0., 0.],\n",
      "         [0., 0., 0.],\n",
      "         [0., 0., 0.]],\n",
      "\n",
      "        [[0., 0., 0.],\n",
      "         [0., 0., 0.],\n",
      "         [0., 0., 0.]],\n",
      "\n",
      "        [[0., 0., 0.],\n",
      "         [0., 0., 0.],\n",
      "         [0., 0., 0.]],\n",
      "\n",
      "        [[0., 0., 0.],\n",
      "         [0., 0., 0.],\n",
      "         [0., 0., 0.]],\n",
      "\n",
      "        [[0., 0., 0.],\n",
      "         [0., 0., 0.],\n",
      "         [0., 0., 0.]],\n",
      "\n",
      "        [[0., 0., 0.],\n",
      "         [0., 0., 0.],\n",
      "         [0., 0., 0.]],\n",
      "\n",
      "        [[0., 0., 0.],\n",
      "         [0., 0., 0.],\n",
      "         [0., 0., 0.]],\n",
      "\n",
      "        [[0., 0., 0.],\n",
      "         [0., 0., 0.],\n",
      "         [0., 0., 0.]],\n",
      "\n",
      "        [[0., 0., 0.],\n",
      "         [0., 0., 0.],\n",
      "         [0., 0., 0.]],\n",
      "\n",
      "        [[0., 0., 0.],\n",
      "         [0., 0., 0.],\n",
      "         [0., 0., 0.]],\n",
      "\n",
      "        [[0., 0., 0.],\n",
      "         [0., 0., 0.],\n",
      "         [0., 0., 0.]],\n",
      "\n",
      "        [[0., 0., 0.],\n",
      "         [0., 0., 0.],\n",
      "         [0., 0., 0.]],\n",
      "\n",
      "        [[0., 0., 0.],\n",
      "         [0., 0., 0.],\n",
      "         [0., 0., 0.]],\n",
      "\n",
      "        [[0., 0., 0.],\n",
      "         [0., 0., 0.],\n",
      "         [0., 0., 0.]],\n",
      "\n",
      "        [[0., 0., 0.],\n",
      "         [0., 0., 0.],\n",
      "         [0., 0., 0.]],\n",
      "\n",
      "        [[0., 0., 0.],\n",
      "         [0., 0., 0.],\n",
      "         [0., 0., 0.]],\n",
      "\n",
      "        [[0., 0., 0.],\n",
      "         [0., 0., 0.],\n",
      "         [0., 0., 0.]],\n",
      "\n",
      "        [[0., 0., 0.],\n",
      "         [0., 0., 0.],\n",
      "         [0., 0., 0.]],\n",
      "\n",
      "        [[0., 0., 0.],\n",
      "         [0., 0., 0.],\n",
      "         [0., 0., 0.]],\n",
      "\n",
      "        [[0., 0., 0.],\n",
      "         [0., 0., 0.],\n",
      "         [0., 0., 0.]],\n",
      "\n",
      "        [[0., 0., 0.],\n",
      "         [0., 0., 0.],\n",
      "         [0., 0., 0.]],\n",
      "\n",
      "        [[0., 0., 0.],\n",
      "         [0., 0., 0.],\n",
      "         [0., 0., 0.]],\n",
      "\n",
      "        [[0., 0., 0.],\n",
      "         [0., 0., 0.],\n",
      "         [0., 0., 0.]],\n",
      "\n",
      "        [[0., 0., 0.],\n",
      "         [0., 0., 0.],\n",
      "         [0., 0., 0.]],\n",
      "\n",
      "        [[0., 0., 0.],\n",
      "         [0., 0., 0.],\n",
      "         [0., 0., 0.]],\n",
      "\n",
      "        [[0., 0., 0.],\n",
      "         [0., 0., 0.],\n",
      "         [0., 0., 0.]],\n",
      "\n",
      "        [[0., 0., 0.],\n",
      "         [0., 0., 0.],\n",
      "         [0., 0., 0.]],\n",
      "\n",
      "        [[0., 0., 0.],\n",
      "         [0., 0., 0.],\n",
      "         [0., 0., 0.]],\n",
      "\n",
      "        [[0., 0., 0.],\n",
      "         [0., 0., 0.],\n",
      "         [0., 0., 0.]],\n",
      "\n",
      "        [[0., 0., 0.],\n",
      "         [0., 0., 0.],\n",
      "         [0., 0., 0.]],\n",
      "\n",
      "        [[0., 0., 0.],\n",
      "         [0., 0., 0.],\n",
      "         [0., 0., 0.]],\n",
      "\n",
      "        [[0., 0., 0.],\n",
      "         [0., 0., 0.],\n",
      "         [0., 0., 0.]],\n",
      "\n",
      "        [[0., 0., 0.],\n",
      "         [0., 0., 0.],\n",
      "         [0., 0., 0.]],\n",
      "\n",
      "        [[0., 0., 0.],\n",
      "         [0., 0., 0.],\n",
      "         [0., 0., 0.]],\n",
      "\n",
      "        [[0., 0., 0.],\n",
      "         [0., 0., 0.],\n",
      "         [0., 0., 0.]],\n",
      "\n",
      "        [[0., 0., 0.],\n",
      "         [0., 0., 0.],\n",
      "         [0., 0., 0.]],\n",
      "\n",
      "        [[0., 0., 0.],\n",
      "         [0., 0., 0.],\n",
      "         [0., 0., 0.]],\n",
      "\n",
      "        [[0., 0., 0.],\n",
      "         [0., 0., 0.],\n",
      "         [0., 0., 0.]],\n",
      "\n",
      "        [[0., 0., 0.],\n",
      "         [0., 0., 0.],\n",
      "         [0., 0., 0.]],\n",
      "\n",
      "        [[0., 0., 0.],\n",
      "         [0., 0., 0.],\n",
      "         [0., 0., 0.]],\n",
      "\n",
      "        [[0., 0., 0.],\n",
      "         [0., 0., 0.],\n",
      "         [0., 0., 0.]],\n",
      "\n",
      "        [[0., 0., 0.],\n",
      "         [0., 0., 0.],\n",
      "         [0., 0., 0.]],\n",
      "\n",
      "        [[0., 0., 0.],\n",
      "         [0., 0., 0.],\n",
      "         [0., 0., 0.]],\n",
      "\n",
      "        [[0., 0., 0.],\n",
      "         [0., 0., 0.],\n",
      "         [0., 0., 0.]],\n",
      "\n",
      "        [[0., 0., 0.],\n",
      "         [0., 0., 0.],\n",
      "         [0., 0., 0.]],\n",
      "\n",
      "        [[0., 0., 0.],\n",
      "         [0., 0., 0.],\n",
      "         [0., 0., 0.]],\n",
      "\n",
      "        [[0., 0., 0.],\n",
      "         [0., 0., 0.],\n",
      "         [0., 0., 0.]],\n",
      "\n",
      "        [[0., 0., 0.],\n",
      "         [0., 0., 0.],\n",
      "         [0., 0., 0.]],\n",
      "\n",
      "        [[0., 0., 0.],\n",
      "         [0., 0., 0.],\n",
      "         [0., 0., 0.]],\n",
      "\n",
      "        [[0., 0., 0.],\n",
      "         [0., 0., 0.],\n",
      "         [0., 0., 0.]],\n",
      "\n",
      "        [[0., 0., 0.],\n",
      "         [0., 0., 0.],\n",
      "         [0., 0., 0.]],\n",
      "\n",
      "        [[0., 0., 0.],\n",
      "         [0., 0., 0.],\n",
      "         [0., 0., 0.]],\n",
      "\n",
      "        [[0., 0., 0.],\n",
      "         [0., 0., 0.],\n",
      "         [0., 0., 0.]],\n",
      "\n",
      "        [[0., 0., 0.],\n",
      "         [0., 0., 0.],\n",
      "         [0., 0., 0.]],\n",
      "\n",
      "        [[0., 0., 0.],\n",
      "         [0., 0., 0.],\n",
      "         [0., 0., 0.]],\n",
      "\n",
      "        [[0., 0., 0.],\n",
      "         [0., 0., 0.],\n",
      "         [0., 0., 0.]],\n",
      "\n",
      "        [[0., 0., 0.],\n",
      "         [0., 0., 0.],\n",
      "         [0., 0., 0.]],\n",
      "\n",
      "        [[0., 0., 0.],\n",
      "         [0., 0., 0.],\n",
      "         [0., 0., 0.]],\n",
      "\n",
      "        [[0., 0., 0.],\n",
      "         [0., 0., 0.],\n",
      "         [0., 0., 0.]],\n",
      "\n",
      "        [[0., 0., 0.],\n",
      "         [0., 0., 0.],\n",
      "         [0., 0., 0.]],\n",
      "\n",
      "        [[0., 0., 0.],\n",
      "         [0., 0., 0.],\n",
      "         [0., 0., 0.]],\n",
      "\n",
      "        [[0., 0., 0.],\n",
      "         [0., 0., 0.],\n",
      "         [0., 0., 0.]],\n",
      "\n",
      "        [[0., 0., 0.],\n",
      "         [0., 0., 0.],\n",
      "         [0., 0., 0.]],\n",
      "\n",
      "        [[0., 0., 0.],\n",
      "         [0., 0., 0.],\n",
      "         [0., 0., 0.]],\n",
      "\n",
      "        [[0., 0., 0.],\n",
      "         [0., 0., 0.],\n",
      "         [0., 0., 0.]],\n",
      "\n",
      "        [[0., 0., 0.],\n",
      "         [0., 0., 0.],\n",
      "         [0., 0., 0.]],\n",
      "\n",
      "        [[0., 0., 0.],\n",
      "         [0., 0., 0.],\n",
      "         [0., 0., 0.]]])\n"
     ]
    }
   ],
   "source": [
    "roworder = torch.argsort(torch.amax(K, axis=1), descending=True)\n",
    "indices_1 = torch.einsum('Ni,j->Nij', roworder, torch.arange(n)).flatten()\n",
    "print(indices_1.shape)\n",
    "P_row = torch.zeros((N*n*n))\n",
    "P_row[indices_1] = 1\n",
    "P_row = P_row.reshape((N,n,n))\n",
    "print(P_row)"
   ]
  },
  {
   "cell_type": "code",
   "execution_count": 210,
   "id": "b68aed4d-56f3-4d76-b19c-bb4988e93a00",
   "metadata": {},
   "outputs": [
    {
     "name": "stdout",
     "output_type": "stream",
     "text": [
      "tensor([1, 2, 0])\n"
     ]
    },
    {
     "ename": "RuntimeError",
     "evalue": "shape '[1000, 3, 3]' is invalid for input of size 3",
     "output_type": "error",
     "traceback": [
      "\u001b[0;31m---------------------------------------------------------------------------\u001b[0m",
      "\u001b[0;31mRuntimeError\u001b[0m                              Traceback (most recent call last)",
      "Cell \u001b[0;32mIn[210], line 4\u001b[0m\n\u001b[1;32m      2\u001b[0m \u001b[38;5;28mprint\u001b[39m(colorder)\n\u001b[1;32m      3\u001b[0m P_col \u001b[38;5;241m=\u001b[39m torch\u001b[38;5;241m.\u001b[39mzeros((n,n))\n\u001b[0;32m----> 4\u001b[0m P_col[\u001b[43mtorch\u001b[49m\u001b[38;5;241;43m.\u001b[39;49m\u001b[43marange\u001b[49m\u001b[43m(\u001b[49m\u001b[43mn\u001b[49m\u001b[43m)\u001b[49m\u001b[38;5;241;43m.\u001b[39;49m\u001b[43mview\u001b[49m\u001b[43m(\u001b[49m\u001b[43mN\u001b[49m\u001b[43m,\u001b[49m\u001b[43mn\u001b[49m\u001b[43m,\u001b[49m\u001b[43mn\u001b[49m\u001b[43m)\u001b[49m,colorder\u001b[38;5;241m.\u001b[39mview(N,n,n)] \u001b[38;5;241m=\u001b[39m \u001b[38;5;241m1\u001b[39m\n\u001b[1;32m      5\u001b[0m \u001b[38;5;28mprint\u001b[39m(P_col)\n",
      "\u001b[0;31mRuntimeError\u001b[0m: shape '[1000, 3, 3]' is invalid for input of size 3"
     ]
    }
   ],
   "source": [
    "colorder = torch.argsort(torch.amax(K, axis=0), descending=True)\n",
    "print(colorder)\n",
    "P_col = torch.zeros((n,n))\n",
    "P_col[torch.arange(n).view(N,n,n),colorder.view(N,n,n)] = 1\n",
    "print(P_col)"
   ]
  },
  {
   "cell_type": "code",
   "execution_count": 198,
   "id": "7c910d83-2947-4da3-8777-1b8f7711f949",
   "metadata": {},
   "outputs": [
    {
     "data": {
      "text/plain": [
       "tensor([[0.7571, 0.9583, 0.2419],\n",
       "        [0.5151, 0.8944, 0.4275],\n",
       "        [0.7040, 0.0754, 0.2672]])"
      ]
     },
     "execution_count": 198,
     "metadata": {},
     "output_type": "execute_result"
    }
   ],
   "source": [
    "P_row@K"
   ]
  },
  {
   "cell_type": "code",
   "execution_count": 199,
   "id": "fa851e88-eb9f-4d0c-9329-c708e30b495d",
   "metadata": {},
   "outputs": [
    {
     "data": {
      "text/plain": [
       "tensor([[0.0754, 0.7040, 0.2672],\n",
       "        [0.9583, 0.7571, 0.2419],\n",
       "        [0.8944, 0.5151, 0.4275]])"
      ]
     },
     "execution_count": 199,
     "metadata": {},
     "output_type": "execute_result"
    }
   ],
   "source": [
    "K@P_col"
   ]
  },
  {
   "cell_type": "code",
   "execution_count": 124,
   "id": "afe0833e-8791-481b-bc88-9f1e6eb6fe58",
   "metadata": {},
   "outputs": [],
   "source": [
    "import matplotlib.pyplot as plt"
   ]
  },
  {
   "cell_type": "code",
   "execution_count": 125,
   "id": "bd814deb-6e63-4914-8d45-395fd1442d55",
   "metadata": {},
   "outputs": [
    {
     "data": {
      "text/plain": [
       "<matplotlib.image.AxesImage at 0x7f9a06001d80>"
      ]
     },
     "execution_count": 125,
     "metadata": {},
     "output_type": "execute_result"
    },
    {
     "data": {
      "image/png": "[encoded data removed]",
      "text/plain": [
       "<Figure size 640x480 with 1 Axes>"
      ]
     },
     "metadata": {},
     "output_type": "display_data"
    }
   ],
   "source": [
    "plt.imshow(K)"
   ]
  },
  {
   "cell_type": "code",
   "execution_count": 126,
   "id": "2c9a9843-c7df-4093-9319-8230b455d943",
   "metadata": {},
   "outputs": [
    {
     "data": {
      "text/plain": [
       "<matplotlib.image.AxesImage at 0x7f99f85dc970>"
      ]
     },
     "execution_count": 126,
     "metadata": {},
     "output_type": "execute_result"
    },
    {
     "data": {
      "image/png": "[encoded data removed]",
      "text/plain": [
       "<Figure size 640x480 with 1 Axes>"
      ]
     },
     "metadata": {},
     "output_type": "display_data"
    }
   ],
   "source": [
    "plt.imshow(P_row@K@P_col)"
   ]
  },
  {
   "cell_type": "code",
   "execution_count": 31,
   "id": "b1616aeb-2aa1-495b-a093-eff7cc5e6e68",
   "metadata": {},
   "outputs": [
    {
     "name": "stdout",
     "output_type": "stream",
     "text": [
      "Original Matrix:\n",
      "tensor([[ 1.3666,  0.1016,  1.0729,  ..., -0.3588,  0.2901, -0.6517],\n",
      "        [-0.0707,  1.3093, -0.5727,  ..., -1.8788, -0.7926, -1.0035],\n",
      "        [ 0.3400, -1.0965, -1.0402,  ..., -0.5093, -3.0858,  1.2810],\n",
      "        ...,\n",
      "        [ 0.7735,  1.1145,  1.6351,  ..., -0.4797, -0.4811,  0.7814],\n",
      "        [-1.0138, -0.7291, -1.4138,  ...,  0.4572,  0.8480,  0.3589],\n",
      "        [ 0.2776,  0.0551,  1.7818,  ...,  0.1782,  0.1130,  0.5244]])\n",
      "\n",
      "Sorted Matrix:\n",
      "tensor([[-5.3352e-01,  1.8471e+00,  1.0122e+00,  ..., -5.0269e-01,\n",
      "          4.9349e-01, -1.0178e+00],\n",
      "        [ 3.8431e-01, -3.4492e-01,  4.6163e-01,  ...,  1.0976e+00,\n",
      "         -1.0878e+00, -5.2339e-01],\n",
      "        [ 8.5673e-01,  9.7873e-01,  6.0598e-01,  ...,  6.9622e-01,\n",
      "          2.6015e-02, -1.5367e+00],\n",
      "        ...,\n",
      "        [-5.2985e-01, -9.2846e-01, -2.9271e+00,  ..., -8.3959e-01,\n",
      "          8.6407e-01,  1.5542e-03],\n",
      "        [-7.1095e-01, -7.0494e-01, -1.2627e+00,  ...,  4.1899e-01,\n",
      "          5.8667e-01,  4.1926e-02],\n",
      "        [-1.2368e+00,  4.4681e-01, -7.6909e-01,  ..., -4.0131e-01,\n",
      "          5.3487e-02, -6.6804e-01]])\n"
     ]
    }
   ],
   "source": [
    "import torch\n",
    "\n",
    "# Assuming you have a batch of matrices K with shape (1000, 64, 64)\n",
    "batch_size = 1000\n",
    "matrix_size = 64\n",
    "\n",
    "# Generate sample data (replace this with your actual data)\n",
    "K = torch.randn(batch_size, matrix_size, matrix_size)\n",
    "\n",
    "# Calculate row-wise averages across each matrix in the batch\n",
    "row_averages = K.mean(dim=2)  # Shape: (1000, 64)\n",
    "\n",
    "# Calculate column-wise averages across each matrix in the batch\n",
    "column_averages = K.mean(dim=1)  # Shape: (1000, 64)\n",
    "\n",
    "# Find the permutation indices that sort rows based on decreasing average values\n",
    "sorted_row_indices = torch.argsort(row_averages, dim=1, descending=True)\n",
    "\n",
    "# Find the permutation indices that sort columns based on decreasing average values\n",
    "sorted_column_indices = torch.argsort(column_averages, dim=1, descending=True)\n",
    "\n",
    "# Create row permutation matrices using advanced indexing\n",
    "row_permutation_matrices = torch.zeros(batch_size, matrix_size, matrix_size)\n",
    "row_permutation_matrices[torch.arange(batch_size).unsqueeze(1), torch.arange(matrix_size), sorted_row_indices] = 1\n",
    "\n",
    "# Create column permutation matrices using advanced indexing\n",
    "column_permutation_matrices = torch.zeros(batch_size, matrix_size, matrix_size)\n",
    "column_permutation_matrices[torch.arange(batch_size).unsqueeze(1), sorted_column_indices, torch.arange(matrix_size)] = 1\n",
    "\n",
    "# Apply row permutation matrices to sort rows\n",
    "sorted_by_rows_K = torch.matmul(row_permutation_matrices, K)\n",
    "\n",
    "# Apply column permutation matrices to sort columns\n",
    "sorted_K = torch.matmul(sorted_by_rows_K, column_permutation_matrices.transpose(1, 2))\n",
    "\n",
    "# `sorted_K` now contains matrices in `K` with both rows and columns sorted\n",
    "# based on their respective average values\n",
    "\n",
    "# Optionally, you can visualize the effect of permutation on a single matrix from the batch\n",
    "# For example, to see the effect on the first matrix in the batch:\n",
    "original_matrix = K[0]\n",
    "sorted_matrix = sorted_K[0]\n",
    "\n",
    "# Print or inspect the original and sorted matrices\n",
    "print(\"Original Matrix:\")\n",
    "print(original_matrix)\n",
    "print(\"\\nSorted Matrix:\")\n",
    "print(sorted_matrix)\n"
   ]
  },
  {
   "cell_type": "code",
   "execution_count": 33,
   "id": "483d0f1b-81f2-492f-8287-6bcb15a1dce6",
   "metadata": {},
   "outputs": [
    {
     "data": {
      "text/plain": [
       "tensor([ 0.0180,  0.1493,  0.0564, -0.0685,  0.1621,  0.0088,  0.1316, -0.1060,\n",
       "         0.1071, -0.0041,  0.0195, -0.1396, -0.2281,  0.1012, -0.1969,  0.0636,\n",
       "         0.2043,  0.3857, -0.1329, -0.0927, -0.0216, -0.0895,  0.1252,  0.0557,\n",
       "         0.0031, -0.0611, -0.1859, -0.2051, -0.0979, -0.0869, -0.1469, -0.1537,\n",
       "         0.2530,  0.2547, -0.1317, -0.0467,  0.1438, -0.0318, -0.2182,  0.1807,\n",
       "        -0.3919,  0.0220, -0.1657,  0.2302, -0.0570,  0.0735, -0.0920, -0.0027,\n",
       "        -0.0872, -0.0642, -0.0296, -0.1086, -0.1388,  0.1059, -0.0418, -0.0165,\n",
       "        -0.0575,  0.0606, -0.0344, -0.1242,  0.0447, -0.0757, -0.0722, -0.0651])"
      ]
     },
     "execution_count": 33,
     "metadata": {},
     "output_type": "execute_result"
    }
   ],
   "source": [
    "sorted_matrix.mean(axis=0)"
   ]
  },
  {
   "cell_type": "code",
   "execution_count": 44,
   "id": "fea886f0-db76-4f2a-aaa4-71230ad1093f",
   "metadata": {},
   "outputs": [
    {
     "data": {
      "text/plain": [
       "tensor([-0.6249,  0.2451,  0.2747,  1.0852])"
      ]
     },
     "execution_count": 65,
     "metadata": {},
     "output_type": "execute_result"
    }
   ],
   "source": [
    "sorted_by_rows_K[0].mean(axis=1)"
   ]
  },
  {
   "cell_type": "code",
   "execution_count": 68,
   "id": "3781cd74-cf2a-4815-9f68-8d2950207284",
   "metadata": {},
   "outputs": [
    {
     "name": "stdout",
     "output_type": "stream",
     "text": [
      "Row Permutation Matrices:\n",
      " [[[0 0 0 ... 0 0 0]\n",
      "  [0 0 0 ... 0 0 0]\n",
      "  [0 0 0 ... 0 0 0]\n",
      "  ...\n",
      "  [0 0 0 ... 0 0 0]\n",
      "  [0 0 0 ... 0 0 0]\n",
      "  [0 0 0 ... 0 0 0]]]\n",
      "Column Permutation Matrices:\n",
      " [[[0 0 0 ... 0 0 0]\n",
      "  [0 0 0 ... 0 0 0]\n",
      "  [0 0 0 ... 0 0 0]\n",
      "  ...\n",
      "  [0 0 0 ... 0 0 0]\n",
      "  [0 0 0 ... 0 0 0]\n",
      "  [0 0 0 ... 0 0 0]]]\n"
     ]
    }
   ],
   "source": [
    "import numpy as np\n",
    "\n",
    "class PermutationMatrixBatch:\n",
    "    def __init__(self, matrices):\n",
    "        \"\"\"\n",
    "        Initialize with a batch of matrices.\n",
    "        \n",
    "        :param matrices: numpy array of shape (N_m, N, N)\n",
    "        \"\"\"\n",
    "        self.matrices = matrices\n",
    "\n",
    "    def l2_norms(self, matrices):\n",
    "        \"\"\"\n",
    "        Calculate the L2 norms of the rows and columns of the matrices.\n",
    "        \n",
    "        :param matrices: numpy array of shape (N_m, N, N)\n",
    "        :return: tuple of numpy arrays (row_norms, col_norms) each of shape (N_m, N)\n",
    "        \"\"\"\n",
    "        row_norms = np.linalg.norm(matrices, axis=2)\n",
    "        col_norms = np.linalg.norm(matrices, axis=1)\n",
    "        return row_norms, col_norms\n",
    "\n",
    "    def permutation_indices(self, norms):\n",
    "        \"\"\"\n",
    "        Get the permutation indices that sort the norms in descending order.\n",
    "        \n",
    "        :param norms: numpy array of shape (N_m, N)\n",
    "        :return: numpy array of shape (N_m, N)\n",
    "        \"\"\"\n",
    "        return np.argsort(-norms, axis=1)\n",
    "\n",
    "    def permutation_matrices(self, indices):\n",
    "        \"\"\"\n",
    "        Create permutation matrices from permutation indices.\n",
    "        \n",
    "        :param indices: numpy array of shape (N_m, N)\n",
    "        :return: numpy array of shape (N_m, N, N)\n",
    "        \"\"\"\n",
    "        N_m, N = indices.shape\n",
    "        perm_matrices = np.zeros((N_m, N, N), dtype=int)\n",
    "        for i in range(N_m):\n",
    "            perm_matrices[i, np.arange(N), indices[i]] = 1\n",
    "        return perm_matrices\n",
    "\n",
    "    def get_permutation_matrices(self):\n",
    "        \"\"\"\n",
    "        Get the permutation matrices for sorting rows and columns.\n",
    "        \n",
    "        :return: tuple of numpy arrays (row_perm_matrices, col_perm_matrices) each of shape (N_m, N, N)\n",
    "        \"\"\"\n",
    "        row_norms, col_norms = self.l2_norms(self.matrices)\n",
    "        row_indices = self.permutation_indices(row_norms)\n",
    "        col_indices = self.permutation_indices(col_norms)\n",
    "        row_perm_matrices = self.permutation_matrices(row_indices)\n",
    "        col_perm_matrices = self.permutation_matrices(col_indices)\n",
    "        return row_perm_matrices, col_perm_matrices\n",
    "\n",
    "\n",
    "N_m = 1\n",
    "N = 1000\n",
    "matrices = np.random.rand(N_m, N, N)\n",
    "perm_matrix_batch = PermutationMatrixBatch(matrices)\n",
    "row_perm_matrices, col_perm_matrices = perm_matrix_batch.get_permutation_matrices()\n",
    "print(\"Row Permutation Matrices:\\n\", row_perm_matrices)\n",
    "print(\"Column Permutation Matrices:\\n\", col_perm_matrices)\n"
   ]
  },
  {
   "cell_type": "code",
   "execution_count": 48,
   "id": "c01bec89",
   "metadata": {},
   "outputs": [
    {
     "data": {
      "text/plain": [
       "array([[[0.9753355 , 0.31272499, 0.50041552],\n",
       "        [0.96108219, 0.0185246 , 0.14101278],\n",
       "        [0.22663391, 0.79621544, 0.27849208]],\n",
       "\n",
       "       [[0.94407354, 0.80342996, 0.56488375],\n",
       "        [0.97543997, 0.05962159, 0.12713152],\n",
       "        [0.02332079, 0.43006589, 0.26899396]],\n",
       "\n",
       "       [[0.08946639, 0.20128036, 0.24712223],\n",
       "        [0.15762731, 0.29466181, 0.27540715],\n",
       "        [0.3422158 , 0.27987005, 0.11140774]],\n",
       "\n",
       "       [[0.76054535, 0.54297159, 0.63130092],\n",
       "        [0.68785892, 0.92560716, 0.55764614],\n",
       "        [0.65169815, 0.78042514, 0.858068  ]],\n",
       "\n",
       "       [[0.77819699, 0.53379242, 0.90019818],\n",
       "        [0.50378881, 0.46256253, 0.62157252],\n",
       "        [0.94617232, 0.36123088, 0.11041425]],\n",
       "\n",
       "       [[0.90616458, 0.20694824, 0.80666654],\n",
       "        [0.46209062, 0.66273554, 0.5686501 ],\n",
       "        [0.24102305, 0.83134489, 0.98720761]],\n",
       "\n",
       "       [[0.04575153, 0.00197954, 0.30177311],\n",
       "        [0.74206713, 0.86120303, 0.10203729],\n",
       "        [0.05171711, 0.51130454, 0.13759867]],\n",
       "\n",
       "       [[0.98941873, 0.81831278, 0.58815884],\n",
       "        [0.22043256, 0.5391929 , 0.13378961],\n",
       "        [0.1853153 , 0.82444356, 0.82104486]],\n",
       "\n",
       "       [[0.00660383, 0.03411211, 0.91937059],\n",
       "        [0.67092207, 0.51509932, 0.28053761],\n",
       "        [0.97443378, 0.03679742, 0.53023394]],\n",
       "\n",
       "       [[0.39954128, 0.3963009 , 0.18881687],\n",
       "        [0.54460432, 0.3502985 , 0.17882926],\n",
       "        [0.22006334, 0.91964051, 0.61437744]]])"
      ]
     },
     "execution_count": 48,
     "metadata": {},
     "output_type": "execute_result"
    }
   ],
   "source": [
    "matrices"
   ]
  },
  {
   "cell_type": "code",
   "execution_count": 49,
   "id": "747504a9",
   "metadata": {},
   "outputs": [],
   "source": [
    "permuted_matrices = row_perm_matrices@matrices@col_perm_matrices"
   ]
  },
  {
   "cell_type": "code",
   "execution_count": 60,
   "id": "ea5ec626",
   "metadata": {},
   "outputs": [
    {
     "data": {
      "text/plain": [
       "array([[ True,  True,  True],\n",
       "       [ True,  True,  True],\n",
       "       [ True,  True,  True]])"
      ]
     },
     "execution_count": 60,
     "metadata": {},
     "output_type": "execute_result"
    }
   ],
   "source": [
    "row_perm_matrices[1].T@permuted_matrices[1]@col_perm_matrices[1].T == matrices[1]"
   ]
  },
  {
   "cell_type": "code",
   "execution_count": 45,
   "id": "15cedb48",
   "metadata": {},
   "outputs": [
    {
     "data": {
      "text/plain": [
       "array([[1.46913228, 1.11353315, 1.02727506]])"
      ]
     },
     "execution_count": 45,
     "metadata": {},
     "output_type": "execute_result"
    }
   ],
   "source": []
  },
  {
   "cell_type": "code",
   "execution_count": null,
   "id": "fdbf8e71",
   "metadata": {},
   "outputs": [],
   "source": []
  }
 ],
 "metadata": {
  "kernelspec": {
   "display_name": "Python 3 (ipykernel)",
   "language": "python",
   "name": "python3"
  },
  "language_info": {
   "codemirror_mode": {
    "name": "ipython",
    "version": 3
   },
   "file_extension": ".py",
   "mimetype": "text/x-python",
   "name": "python",
   "nbconvert_exporter": "python",
   "pygments_lexer": "ipython3",
   "version": "3.10.9"
  }
 },
 "nbformat": 4,
 "nbformat_minor": 5
}
