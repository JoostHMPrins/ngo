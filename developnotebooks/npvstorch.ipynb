{
 "cells": [
  {
   "cell_type": "code",
   "execution_count": 1,
   "metadata": {},
   "outputs": [],
   "source": [
    "import torch\n",
    "import numpy as np\n",
    "import time"
   ]
  },
  {
   "cell_type": "code",
   "execution_count": 2,
   "metadata": {},
   "outputs": [],
   "source": [
    "a = torch.rand(10000, 10000, device='cuda')\n",
    "a2 = torch.rand(10000, 10000, device='cpu')\n",
    "b = np.random.rand(10000, 10000)\n"
   ]
  },
  {
   "cell_type": "code",
   "execution_count": 3,
   "metadata": {},
   "outputs": [
    {
     "name": "stdout",
     "output_type": "stream",
     "text": [
      "CPU times: user 870 ms, sys: 477 ms, total: 1.35 s\n",
      "Wall time: 1.35 s\n"
     ]
    },
    {
     "data": {
      "text/plain": [
       "array([[ 0.25627082,  0.04348943,  0.25903434, ...,  0.42798268,\n",
       "         0.46126544,  0.12095826],\n",
       "       [ 0.02173229, -0.08006999, -0.11801647, ..., -0.08608952,\n",
       "        -0.10047093, -0.12842557],\n",
       "       [-0.1384585 , -0.01489644, -0.07793175, ..., -0.20786375,\n",
       "        -0.20459139, -0.04526983],\n",
       "       ...,\n",
       "       [-0.06706845, -0.11328807, -0.2095444 , ..., -0.24249662,\n",
       "        -0.22705313, -0.18602278],\n",
       "       [ 0.04298783, -0.0200986 , -0.00142172, ...,  0.03770989,\n",
       "         0.05909944, -0.04011615],\n",
       "       [-0.16916276,  0.0074047 , -0.10090859, ..., -0.21114173,\n",
       "        -0.22168052,  0.01343903]])"
      ]
     },
     "execution_count": 3,
     "metadata": {},
     "output_type": "execute_result"
    }
   ],
   "source": [
    "%%time\n",
    "a = torch.tensor(b, device='cuda')\n",
    "torch.linalg.inv(a).cpu().numpy()"
   ]
  },
  {
   "cell_type": "code",
   "execution_count": 4,
   "metadata": {},
   "outputs": [
    {
     "name": "stdout",
     "output_type": "stream",
     "text": [
      "CPU times: user 1min 26s, sys: 6.12 s, total: 1min 32s\n",
      "Wall time: 4.19 s\n"
     ]
    },
    {
     "data": {
      "text/plain": [
       "array([[ 0.25627082,  0.04348943,  0.25903434, ...,  0.42798268,\n",
       "         0.46126544,  0.12095826],\n",
       "       [ 0.02173229, -0.08006999, -0.11801647, ..., -0.08608952,\n",
       "        -0.10047093, -0.12842557],\n",
       "       [-0.1384585 , -0.01489644, -0.07793175, ..., -0.20786375,\n",
       "        -0.20459139, -0.04526983],\n",
       "       ...,\n",
       "       [-0.06706845, -0.11328807, -0.2095444 , ..., -0.24249662,\n",
       "        -0.22705313, -0.18602278],\n",
       "       [ 0.04298783, -0.0200986 , -0.00142172, ...,  0.03770989,\n",
       "         0.05909944, -0.04011615],\n",
       "       [-0.16916276,  0.0074047 , -0.10090859, ..., -0.21114173,\n",
       "        -0.22168052,  0.01343903]])"
      ]
     },
     "execution_count": 4,
     "metadata": {},
     "output_type": "execute_result"
    }
   ],
   "source": [
    "%%time\n",
    "a2 = torch.tensor(b, device='cpu')\n",
    "torch.linalg.inv(a2).numpy()"
   ]
  },
  {
   "cell_type": "code",
   "execution_count": 5,
   "metadata": {},
   "outputs": [
    {
     "name": "stdout",
     "output_type": "stream",
     "text": [
      "CPU times: user 2min 20s, sys: 8.74 s, total: 2min 29s\n",
      "Wall time: 6.36 s\n"
     ]
    },
    {
     "data": {
      "text/plain": [
       "array([[ 0.25627082,  0.04348943,  0.25903434, ...,  0.42798268,\n",
       "         0.46126544,  0.12095826],\n",
       "       [ 0.02173229, -0.08006999, -0.11801647, ..., -0.08608952,\n",
       "        -0.10047093, -0.12842557],\n",
       "       [-0.1384585 , -0.01489644, -0.07793175, ..., -0.20786375,\n",
       "        -0.20459139, -0.04526983],\n",
       "       ...,\n",
       "       [-0.06706845, -0.11328807, -0.2095444 , ..., -0.24249662,\n",
       "        -0.22705313, -0.18602278],\n",
       "       [ 0.04298783, -0.0200986 , -0.00142172, ...,  0.03770989,\n",
       "         0.05909944, -0.04011615],\n",
       "       [-0.16916276,  0.0074047 , -0.10090859, ..., -0.21114173,\n",
       "        -0.22168052,  0.01343903]])"
      ]
     },
     "execution_count": 5,
     "metadata": {},
     "output_type": "execute_result"
    }
   ],
   "source": [
    "%%time\n",
    "np.linalg.inv(b)"
   ]
  },
  {
   "cell_type": "code",
   "execution_count": null,
   "metadata": {},
   "outputs": [],
   "source": []
  },
  {
   "cell_type": "code",
   "execution_count": null,
   "metadata": {},
   "outputs": [],
   "source": []
  }
 ],
 "metadata": {
  "kernelspec": {
   "display_name": "Python 3",
   "language": "python",
   "name": "python3"
  },
  "language_info": {
   "codemirror_mode": {
    "name": "ipython",
    "version": 3
   },
   "file_extension": ".py",
   "mimetype": "text/x-python",
   "name": "python",
   "nbconvert_exporter": "python",
   "pygments_lexer": "ipython3",
   "version": "3.10.9"
  }
 },
 "nbformat": 4,
 "nbformat_minor": 2
}
