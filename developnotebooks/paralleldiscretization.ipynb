{
 "cells": [
  {
   "cell_type": "code",
   "execution_count": 1,
   "metadata": {},
   "outputs": [
    {
     "name": "stdout",
     "output_type": "stream",
     "text": [
      "[array([2.3989505 , 2.5068646 , 1.29357453, ..., 2.30894539, 2.7259234 ,\n",
      "       3.20290706]), array([0.00329629, 0.00257419, 0.00112903, ..., 0.00334785, 0.0169736 ,\n",
      "       0.05640513]), array([0.4797901 , 0.50137292, 0.25871491, ..., 0.46178908, 0.54518468,\n",
      "       0.64058141])]\n"
     ]
    }
   ],
   "source": [
    "import numpy as np\n",
    "from joblib import Parallel, delayed\n",
    "\n",
    "# Example functions\n",
    "def f1(x): return np.sum(x, axis=1)\n",
    "def f2(x): return np.prod(x, axis=1)\n",
    "def f3(x): return np.mean(x, axis=1)\n",
    "\n",
    "functions = [f1, f2, f3]\n",
    "x = np.random.rand(10000, 5)\n",
    "\n",
    "# Evaluate in parallel\n",
    "results = Parallel(n_jobs=-1)(delayed(f)(x) for f in functions)\n",
    "print(results)\n"
   ]
  },
  {
   "cell_type": "code",
   "execution_count": 18,
   "metadata": {},
   "outputs": [],
   "source": [
    "def func(x):\n",
    "    return x[:,0]"
   ]
  },
  {
   "cell_type": "code",
   "execution_count": 19,
   "metadata": {},
   "outputs": [],
   "source": [
    "list = [func,func,func,func,func,func,func]"
   ]
  },
  {
   "cell_type": "code",
   "execution_count": 20,
   "metadata": {},
   "outputs": [],
   "source": [
    "x = np.random.uniform(size=(100,3))"
   ]
  },
  {
   "cell_type": "code",
   "execution_count": 21,
   "metadata": {},
   "outputs": [],
   "source": [
    "results = Parallel(n_jobs=-1)(delayed(f)(x) for f in list)\n"
   ]
  },
  {
   "cell_type": "code",
   "execution_count": 22,
   "metadata": {},
   "outputs": [],
   "source": [
    "results = np.array(results)"
   ]
  },
  {
   "cell_type": "code",
   "execution_count": 23,
   "metadata": {},
   "outputs": [
    {
     "data": {
      "text/plain": [
       "(7, 100)"
      ]
     },
     "execution_count": 23,
     "metadata": {},
     "output_type": "execute_result"
    }
   ],
   "source": [
    "results.shape"
   ]
  },
  {
   "cell_type": "code",
   "execution_count": null,
   "metadata": {},
   "outputs": [],
   "source": []
  }
 ],
 "metadata": {
  "kernelspec": {
   "display_name": "Python 3",
   "language": "python",
   "name": "python3"
  },
  "language_info": {
   "codemirror_mode": {
    "name": "ipython",
    "version": 3
   },
   "file_extension": ".py",
   "mimetype": "text/x-python",
   "name": "python",
   "nbconvert_exporter": "python",
   "pygments_lexer": "ipython3",
   "version": "3.10.9"
  }
 },
 "nbformat": 4,
 "nbformat_minor": 2
}
