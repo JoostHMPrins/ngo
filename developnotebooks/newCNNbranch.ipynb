{
 "cells": [
  {
   "cell_type": "code",
   "execution_count": 80,
   "id": "c263437e-609d-4bf6-b02b-e2cc5c5ae7c2",
   "metadata": {},
   "outputs": [],
   "source": [
    "import pytorch_lightning as pl\n",
    "from pytorch_lightning.callbacks.early_stopping import EarlyStopping\n",
    "from tqdm.auto import tqdm, trange\n",
    "from ipywidgets import IntProgress\n",
    "import time\n",
    "from torch import nn\n",
    "from torch.nn import functional as F\n",
    "\n",
    "import sys\n",
    "sys.path.insert(0, '../ml')\n",
    "from logger import *\n",
    "from trainer import train\n",
    "from customlosses import *\n",
    "# from systemnets import *\n",
    "from basisfunctions import *\n",
    "\n",
    "import sys\n",
    "sys.path.insert(0, '../testproblems/darcy')\n",
    "from NGO import NGO\n",
    "from VarMiON import *\n",
    "from DataModule import *\n",
    "\n",
    "hparams = {'N_samples': 10000,\n",
    "           'd': 2,\n",
    "           'l_min': 0.5,\n",
    "           'l_max': 1,\n",
    "           'dtype': torch.float64,\n",
    "           'precision': 64,\n",
    "           'devices': [0],\n",
    "           'loss': weightedrelativeL2,\n",
    "           'metric': weightedrelativeL2,\n",
    "           'optimizer': torch.optim.Adam, \n",
    "           'learning_rate': 1e-4,\n",
    "           'batch_size': 100,\n",
    "           'epochs': 20000,\n",
    "           'modeltype': 'NGO',\n",
    "           'data_based': False,\n",
    "           'gamma_stabilization': 0,\n",
    "           'quadrature': 'Gauss-Legendre',\n",
    "           'Q': 100,\n",
    "           'Q_L': 100,\n",
    "           'h': [10,10],\n",
    "           'p': 3,\n",
    "           'C': 2,\n",
    "           'n_elements': 10,\n",
    "           # 'systemnet': UNet,\n",
    "           'kernel_sizes': [5,5,2,2,2,2,5,5],\n",
    "           'N_w': 50000,\n",
    "           'bottleneck_size': 18,\n",
    "           'NLB_outputactivation': nn.Tanhshrink(),\n",
    "           'bias_NLBranch': False,\n",
    "           'bias_LBranch': False,\n",
    "           'scaling_equivariance': False}\n",
    "\n",
    "hparams['N'] = np.prod(hparams['h'])\n",
    "hparams['test_bases'] = [BSplineBasis1D(h=hparams['h'][0], p=hparams['p'], C=hparams['C']), \n",
    "                         BSplineBasis1D(h=hparams['h'][1], p=hparams['p'], C=hparams['C'])]\n",
    "hparams['trial_bases'] = [BSplineBasis1D(h=hparams['h'][0], p=hparams['p'], C=hparams['C']), \n",
    "                         BSplineBasis1D(h=hparams['h'][1], p=hparams['p'], C=hparams['C'])]\n",
    "# hparams['test_bases'] = [ChebyshevTBasis1D(h=hparams['h'][0]), \n",
    "#                          ChebyshevTBasis1D(h=hparams['h'][1])]\n",
    "# hparams['trial_bases'] = [ChebyshevTBasis1D(h=hparams['h'][0]), \n",
    "#                          ChebyshevTBasis1D(h=hparams['h'][1])]\n",
    "\n",
    "params = {}\n",
    "params['hparams'] = hparams"
   ]
  },
  {
   "cell_type": "code",
   "execution_count": 81,
   "id": "3f60ed05-bdda-465b-be20-6b0a903aa708",
   "metadata": {},
   "outputs": [],
   "source": [
    "def balance_N_channels(model, params, N_w):\n",
    "    count = 0\n",
    "    print(count)\n",
    "    i = 1\n",
    "    N_channels = []\n",
    "    while count < N_w:\n",
    "        model.num_channels = i\n",
    "        model.__init__(params)\n",
    "        count = sum(p.numel() for p in model.parameters())\n",
    "        i+=1\n",
    "        N_channels.append(i)\n",
    "    return N_channels[-2]"
   ]
  },
  {
   "cell_type": "code",
   "execution_count": 82,
   "id": "2d6e5f93",
   "metadata": {},
   "outputs": [],
   "source": [
    "class UNet(nn.Module):\n",
    "    def __init__(self, params):\n",
    "        super().__init__()\n",
    "        self.hparams = params['hparams']\n",
    "        #Balancing the number of trainable parameters to N_w\n",
    "        self.num_channels = 1\n",
    "        count = 0\n",
    "        num_channels_list = []\n",
    "        while count < self.hparams['N_w']:\n",
    "            self.init_layers()\n",
    "            count = sum(p.numel() for p in self.parameters())\n",
    "            num_channels_list.append(self.num_channels)\n",
    "            self.num_channels +=1\n",
    "        self.num_channels = num_channels_list[-2]\n",
    "        self.init_layers()\n",
    "        \n",
    "    def init_layers(self):\n",
    "        self.layers = nn.ModuleList()\n",
    "        self.kernel_sizes = self.hparams['kernel_sizes']\n",
    "        self.bottleneck_size = self.hparams['bottleneck_size']\n",
    "        #Layers\n",
    "        self.layers.append(ReshapeLayer(output_shape=(1,self.hparams['N'],self.hparams['N'])))\n",
    "        self.layers.append(nn.Conv2d(in_channels=1, out_channels=self.num_channels, kernel_size=self.kernel_sizes[0], stride=self.kernel_sizes[0], bias=self.hparams.get('bias_NLBranch', True)))\n",
    "        self.layers.append(nn.LeakyReLU())\n",
    "        self.layers.append(nn.Conv2d(in_channels=self.num_channels, out_channels=self.num_channels, kernel_size=self.kernel_sizes[1], stride=self.kernel_sizes[1], bias=self.hparams.get('bias_NLBranch', True)))\n",
    "        self.layers.append(nn.LeakyReLU())\n",
    "        self.layers.append(nn.Conv2d(in_channels=self.num_channels, out_channels=self.num_channels, kernel_size=self.kernel_sizes[2], stride=self.kernel_sizes[2], bias=self.hparams.get('bias_NLBranch', True)))\n",
    "        self.layers.append(nn.LeakyReLU())\n",
    "        self.layers.append(nn.Conv2d(in_channels=self.num_channels, out_channels=self.bottleneck_size, kernel_size=self.kernel_sizes[3], stride=self.kernel_sizes[3], bias=self.hparams.get('bias_NLBranch', True)))\n",
    "        self.layers.append(ReshapeLayer(output_shape=(int(self.bottleneck_size),)))\n",
    "        self.layers.append(nn.Linear(in_features=int(self.bottleneck_size), out_features=int(self.bottleneck_size)))\n",
    "        self.layers.append(nn.LeakyReLU())\n",
    "        self.layers.append(ReshapeLayer(output_shape=(self.bottleneck_size,1,1)))\n",
    "        self.layers.append(nn.ConvTranspose2d(self.bottleneck_size, self.num_channels, kernel_size=self.kernel_sizes[4], stride=self.kernel_sizes[4], bias=self.hparams.get('bias_NLBranch', True)))\n",
    "        self.layers.append(nn.LeakyReLU())\n",
    "        self.layers.append(nn.ConvTranspose2d(self.num_channels, self.num_channels, kernel_size=self.kernel_sizes[5], stride=self.kernel_sizes[5], bias=self.hparams.get('bias_NLBranch', True)))\n",
    "        self.layers.append(nn.LeakyReLU())\n",
    "        self.layers.append(nn.ConvTranspose2d(self.num_channels, self.num_channels, kernel_size=self.kernel_sizes[6], stride=self.kernel_sizes[6], bias=self.hparams.get('bias_NLBranch', True)))\n",
    "        self.layers.append(nn.LeakyReLU())\n",
    "        self.layers.append(nn.ConvTranspose2d(self.num_channels, 1, kernel_size=self.kernel_sizes[7], stride=self.kernel_sizes[7], bias=self.hparams.get('bias_NLBranch', True)))\n",
    "        self.layers.append(ReshapeLayer(output_shape=(self.hparams['N'],self.hparams['N'])))\n",
    "        if self.hparams['NLB_outputactivation'] is not None:\n",
    "            self.layers.append(self.hparams['NLB_outputactivation'])\n",
    "\n",
    "    def forward(self, x):\n",
    "        if self.hparams.get('scaling_equivariance',False)==True:\n",
    "            x_norm = torch.amax(torch.abs(x), dim=(-1,-2))\n",
    "            x = x/x_norm[:,None,None]\n",
    "        x0 = x\n",
    "        x1 = self.layers[0](x0)\n",
    "        x2 = self.layers[1](x1)\n",
    "        x3 = self.layers[2](x2)\n",
    "        x4 = self.layers[3](x3)\n",
    "        x5 = self.layers[4](x4)\n",
    "        x6 = self.layers[5](x5)\n",
    "        x7 = self.layers[6](x6)\n",
    "        x8 = self.layers[7](x7)\n",
    "        x9 = self.layers[8](x8)\n",
    "        x10 = self.layers[9](x9)\n",
    "        x11 = self.layers[10](x10) + x9\n",
    "        x12 = self.layers[11](x11)\n",
    "        x13 = self.layers[12](x12)\n",
    "        x14 = self.layers[13](x13) + x7\n",
    "        x15 = self.layers[14](x14)\n",
    "        x16 = self.layers[15](x15) + x5\n",
    "        x17 = self.layers[16](x16)\n",
    "        x18 = self.layers[17](x17) + x3\n",
    "        x19 = self.layers[18](x18) + x1\n",
    "        x20 = self.layers[19](x19)\n",
    "        x21 = self.layers[20](x20)\n",
    "        y = x21\n",
    "        if self.hparams.get('scaling_equivariance',False)==True:\n",
    "            y = y/x_norm[:,None,None]    \n",
    "        return y\n"
   ]
  },
  {
   "cell_type": "code",
   "execution_count": 83,
   "id": "ece8ea68",
   "metadata": {},
   "outputs": [],
   "source": [
    "model = UNet(params)"
   ]
  },
  {
   "cell_type": "code",
   "execution_count": 84,
   "id": "eeea9e4c-bbd9-47c1-9ab5-795c74d9a0b8",
   "metadata": {},
   "outputs": [
    {
     "data": {
      "text/plain": [
       "594"
      ]
     },
     "execution_count": 84,
     "metadata": {},
     "output_type": "execute_result"
    }
   ],
   "source": [
    "sum(p.numel() for p in model.parameters())"
   ]
  },
  {
   "cell_type": "code",
   "execution_count": 71,
   "id": "5954a909-5f12-4b78-9224-337076f00b4c",
   "metadata": {},
   "outputs": [
    {
     "data": {
      "text/plain": [
       "1"
      ]
     },
     "execution_count": 71,
     "metadata": {},
     "output_type": "execute_result"
    }
   ],
   "source": [
    "model.num_channels"
   ]
  },
  {
   "cell_type": "code",
   "execution_count": 53,
   "id": "2c48a27e-9518-4d1f-a1a6-53ef0db13906",
   "metadata": {},
   "outputs": [
    {
     "ename": "RuntimeError",
     "evalue": "Calculated padded input size per channel: (1 x 1). Kernel size: (2 x 2). Kernel size can't be greater than actual input size",
     "output_type": "error",
     "traceback": [
      "\u001b[0;31m---------------------------------------------------------------------------\u001b[0m",
      "\u001b[0;31mRuntimeError\u001b[0m                              Traceback (most recent call last)",
      "Cell \u001b[0;32mIn[53], line 2\u001b[0m\n\u001b[1;32m      1\u001b[0m x \u001b[38;5;241m=\u001b[39m torch\u001b[38;5;241m.\u001b[39mrand(hparams[\u001b[38;5;124m'\u001b[39m\u001b[38;5;124mbatch_size\u001b[39m\u001b[38;5;124m'\u001b[39m],hparams[\u001b[38;5;124m'\u001b[39m\u001b[38;5;124mN\u001b[39m\u001b[38;5;124m'\u001b[39m],hparams[\u001b[38;5;124m'\u001b[39m\u001b[38;5;124mN\u001b[39m\u001b[38;5;124m'\u001b[39m])\n\u001b[0;32m----> 2\u001b[0m \u001b[43mmodel\u001b[49m\u001b[43m(\u001b[49m\u001b[43mx\u001b[49m\u001b[43m)\u001b[49m\n",
      "File \u001b[0;32m~/st8/anaconda3/lib/python3.10/site-packages/torch/nn/modules/module.py:1501\u001b[0m, in \u001b[0;36mModule._call_impl\u001b[0;34m(self, *args, **kwargs)\u001b[0m\n\u001b[1;32m   1496\u001b[0m \u001b[38;5;66;03m# If we don't have any hooks, we want to skip the rest of the logic in\u001b[39;00m\n\u001b[1;32m   1497\u001b[0m \u001b[38;5;66;03m# this function, and just call forward.\u001b[39;00m\n\u001b[1;32m   1498\u001b[0m \u001b[38;5;28;01mif\u001b[39;00m \u001b[38;5;129;01mnot\u001b[39;00m (\u001b[38;5;28mself\u001b[39m\u001b[38;5;241m.\u001b[39m_backward_hooks \u001b[38;5;129;01mor\u001b[39;00m \u001b[38;5;28mself\u001b[39m\u001b[38;5;241m.\u001b[39m_backward_pre_hooks \u001b[38;5;129;01mor\u001b[39;00m \u001b[38;5;28mself\u001b[39m\u001b[38;5;241m.\u001b[39m_forward_hooks \u001b[38;5;129;01mor\u001b[39;00m \u001b[38;5;28mself\u001b[39m\u001b[38;5;241m.\u001b[39m_forward_pre_hooks\n\u001b[1;32m   1499\u001b[0m         \u001b[38;5;129;01mor\u001b[39;00m _global_backward_pre_hooks \u001b[38;5;129;01mor\u001b[39;00m _global_backward_hooks\n\u001b[1;32m   1500\u001b[0m         \u001b[38;5;129;01mor\u001b[39;00m _global_forward_hooks \u001b[38;5;129;01mor\u001b[39;00m _global_forward_pre_hooks):\n\u001b[0;32m-> 1501\u001b[0m     \u001b[38;5;28;01mreturn\u001b[39;00m \u001b[43mforward_call\u001b[49m\u001b[43m(\u001b[49m\u001b[38;5;241;43m*\u001b[39;49m\u001b[43margs\u001b[49m\u001b[43m,\u001b[49m\u001b[43m \u001b[49m\u001b[38;5;241;43m*\u001b[39;49m\u001b[38;5;241;43m*\u001b[39;49m\u001b[43mkwargs\u001b[49m\u001b[43m)\u001b[49m\n\u001b[1;32m   1502\u001b[0m \u001b[38;5;66;03m# Do not call functions when jit is used\u001b[39;00m\n\u001b[1;32m   1503\u001b[0m full_backward_hooks, non_full_backward_hooks \u001b[38;5;241m=\u001b[39m [], []\n",
      "Cell \u001b[0;32mIn[49], line 55\u001b[0m, in \u001b[0;36mUNet.forward\u001b[0;34m(self, x)\u001b[0m\n\u001b[1;32m     53\u001b[0m x4 \u001b[38;5;241m=\u001b[39m \u001b[38;5;28mself\u001b[39m\u001b[38;5;241m.\u001b[39mlayers[\u001b[38;5;241m3\u001b[39m](x3)\n\u001b[1;32m     54\u001b[0m x5 \u001b[38;5;241m=\u001b[39m \u001b[38;5;28mself\u001b[39m\u001b[38;5;241m.\u001b[39mlayers[\u001b[38;5;241m4\u001b[39m](x4)\n\u001b[0;32m---> 55\u001b[0m x6 \u001b[38;5;241m=\u001b[39m \u001b[38;5;28;43mself\u001b[39;49m\u001b[38;5;241;43m.\u001b[39;49m\u001b[43mlayers\u001b[49m\u001b[43m[\u001b[49m\u001b[38;5;241;43m5\u001b[39;49m\u001b[43m]\u001b[49m\u001b[43m(\u001b[49m\u001b[43mx5\u001b[49m\u001b[43m)\u001b[49m\n\u001b[1;32m     56\u001b[0m x7 \u001b[38;5;241m=\u001b[39m \u001b[38;5;28mself\u001b[39m\u001b[38;5;241m.\u001b[39mlayers[\u001b[38;5;241m6\u001b[39m](x6)\n\u001b[1;32m     57\u001b[0m x8 \u001b[38;5;241m=\u001b[39m \u001b[38;5;28mself\u001b[39m\u001b[38;5;241m.\u001b[39mlayers[\u001b[38;5;241m7\u001b[39m](x7)\n",
      "File \u001b[0;32m~/st8/anaconda3/lib/python3.10/site-packages/torch/nn/modules/module.py:1501\u001b[0m, in \u001b[0;36mModule._call_impl\u001b[0;34m(self, *args, **kwargs)\u001b[0m\n\u001b[1;32m   1496\u001b[0m \u001b[38;5;66;03m# If we don't have any hooks, we want to skip the rest of the logic in\u001b[39;00m\n\u001b[1;32m   1497\u001b[0m \u001b[38;5;66;03m# this function, and just call forward.\u001b[39;00m\n\u001b[1;32m   1498\u001b[0m \u001b[38;5;28;01mif\u001b[39;00m \u001b[38;5;129;01mnot\u001b[39;00m (\u001b[38;5;28mself\u001b[39m\u001b[38;5;241m.\u001b[39m_backward_hooks \u001b[38;5;129;01mor\u001b[39;00m \u001b[38;5;28mself\u001b[39m\u001b[38;5;241m.\u001b[39m_backward_pre_hooks \u001b[38;5;129;01mor\u001b[39;00m \u001b[38;5;28mself\u001b[39m\u001b[38;5;241m.\u001b[39m_forward_hooks \u001b[38;5;129;01mor\u001b[39;00m \u001b[38;5;28mself\u001b[39m\u001b[38;5;241m.\u001b[39m_forward_pre_hooks\n\u001b[1;32m   1499\u001b[0m         \u001b[38;5;129;01mor\u001b[39;00m _global_backward_pre_hooks \u001b[38;5;129;01mor\u001b[39;00m _global_backward_hooks\n\u001b[1;32m   1500\u001b[0m         \u001b[38;5;129;01mor\u001b[39;00m _global_forward_hooks \u001b[38;5;129;01mor\u001b[39;00m _global_forward_pre_hooks):\n\u001b[0;32m-> 1501\u001b[0m     \u001b[38;5;28;01mreturn\u001b[39;00m \u001b[43mforward_call\u001b[49m\u001b[43m(\u001b[49m\u001b[38;5;241;43m*\u001b[39;49m\u001b[43margs\u001b[49m\u001b[43m,\u001b[49m\u001b[43m \u001b[49m\u001b[38;5;241;43m*\u001b[39;49m\u001b[38;5;241;43m*\u001b[39;49m\u001b[43mkwargs\u001b[49m\u001b[43m)\u001b[49m\n\u001b[1;32m   1502\u001b[0m \u001b[38;5;66;03m# Do not call functions when jit is used\u001b[39;00m\n\u001b[1;32m   1503\u001b[0m full_backward_hooks, non_full_backward_hooks \u001b[38;5;241m=\u001b[39m [], []\n",
      "File \u001b[0;32m~/st8/anaconda3/lib/python3.10/site-packages/torch/nn/modules/conv.py:463\u001b[0m, in \u001b[0;36mConv2d.forward\u001b[0;34m(self, input)\u001b[0m\n\u001b[1;32m    462\u001b[0m \u001b[38;5;28;01mdef\u001b[39;00m \u001b[38;5;21mforward\u001b[39m(\u001b[38;5;28mself\u001b[39m, \u001b[38;5;28minput\u001b[39m: Tensor) \u001b[38;5;241m-\u001b[39m\u001b[38;5;241m>\u001b[39m Tensor:\n\u001b[0;32m--> 463\u001b[0m     \u001b[38;5;28;01mreturn\u001b[39;00m \u001b[38;5;28;43mself\u001b[39;49m\u001b[38;5;241;43m.\u001b[39;49m\u001b[43m_conv_forward\u001b[49m\u001b[43m(\u001b[49m\u001b[38;5;28;43minput\u001b[39;49m\u001b[43m,\u001b[49m\u001b[43m \u001b[49m\u001b[38;5;28;43mself\u001b[39;49m\u001b[38;5;241;43m.\u001b[39;49m\u001b[43mweight\u001b[49m\u001b[43m,\u001b[49m\u001b[43m \u001b[49m\u001b[38;5;28;43mself\u001b[39;49m\u001b[38;5;241;43m.\u001b[39;49m\u001b[43mbias\u001b[49m\u001b[43m)\u001b[49m\n",
      "File \u001b[0;32m~/st8/anaconda3/lib/python3.10/site-packages/torch/nn/modules/conv.py:459\u001b[0m, in \u001b[0;36mConv2d._conv_forward\u001b[0;34m(self, input, weight, bias)\u001b[0m\n\u001b[1;32m    455\u001b[0m \u001b[38;5;28;01mif\u001b[39;00m \u001b[38;5;28mself\u001b[39m\u001b[38;5;241m.\u001b[39mpadding_mode \u001b[38;5;241m!=\u001b[39m \u001b[38;5;124m'\u001b[39m\u001b[38;5;124mzeros\u001b[39m\u001b[38;5;124m'\u001b[39m:\n\u001b[1;32m    456\u001b[0m     \u001b[38;5;28;01mreturn\u001b[39;00m F\u001b[38;5;241m.\u001b[39mconv2d(F\u001b[38;5;241m.\u001b[39mpad(\u001b[38;5;28minput\u001b[39m, \u001b[38;5;28mself\u001b[39m\u001b[38;5;241m.\u001b[39m_reversed_padding_repeated_twice, mode\u001b[38;5;241m=\u001b[39m\u001b[38;5;28mself\u001b[39m\u001b[38;5;241m.\u001b[39mpadding_mode),\n\u001b[1;32m    457\u001b[0m                     weight, bias, \u001b[38;5;28mself\u001b[39m\u001b[38;5;241m.\u001b[39mstride,\n\u001b[1;32m    458\u001b[0m                     _pair(\u001b[38;5;241m0\u001b[39m), \u001b[38;5;28mself\u001b[39m\u001b[38;5;241m.\u001b[39mdilation, \u001b[38;5;28mself\u001b[39m\u001b[38;5;241m.\u001b[39mgroups)\n\u001b[0;32m--> 459\u001b[0m \u001b[38;5;28;01mreturn\u001b[39;00m \u001b[43mF\u001b[49m\u001b[38;5;241;43m.\u001b[39;49m\u001b[43mconv2d\u001b[49m\u001b[43m(\u001b[49m\u001b[38;5;28;43minput\u001b[39;49m\u001b[43m,\u001b[49m\u001b[43m \u001b[49m\u001b[43mweight\u001b[49m\u001b[43m,\u001b[49m\u001b[43m \u001b[49m\u001b[43mbias\u001b[49m\u001b[43m,\u001b[49m\u001b[43m \u001b[49m\u001b[38;5;28;43mself\u001b[39;49m\u001b[38;5;241;43m.\u001b[39;49m\u001b[43mstride\u001b[49m\u001b[43m,\u001b[49m\n\u001b[1;32m    460\u001b[0m \u001b[43m                \u001b[49m\u001b[38;5;28;43mself\u001b[39;49m\u001b[38;5;241;43m.\u001b[39;49m\u001b[43mpadding\u001b[49m\u001b[43m,\u001b[49m\u001b[43m \u001b[49m\u001b[38;5;28;43mself\u001b[39;49m\u001b[38;5;241;43m.\u001b[39;49m\u001b[43mdilation\u001b[49m\u001b[43m,\u001b[49m\u001b[43m \u001b[49m\u001b[38;5;28;43mself\u001b[39;49m\u001b[38;5;241;43m.\u001b[39;49m\u001b[43mgroups\u001b[49m\u001b[43m)\u001b[49m\n",
      "\u001b[0;31mRuntimeError\u001b[0m: Calculated padded input size per channel: (1 x 1). Kernel size: (2 x 2). Kernel size can't be greater than actual input size"
     ]
    }
   ],
   "source": [
    "x = torch.rand(hparams['batch_size'],hparams['N'],hparams['N'])\n",
    "model(x)"
   ]
  },
  {
   "cell_type": "code",
   "execution_count": 40,
   "id": "77690ce4-9df1-4da7-9a1e-d547b089f435",
   "metadata": {},
   "outputs": [
    {
     "data": {
      "text/plain": [
       "torch.Size([100, 64, 64])"
      ]
     },
     "execution_count": 40,
     "metadata": {},
     "output_type": "execute_result"
    }
   ],
   "source": [
    "y = model(x)\n",
    "y.shape"
   ]
  },
  {
   "cell_type": "code",
   "execution_count": 842,
   "id": "c4e5a160-cb80-4ce6-9c77-99817ff7200d",
   "metadata": {},
   "outputs": [],
   "source": [
    "class NLBranch_NGO(nn.Module):\n",
    "    def __init__(self, params):\n",
    "        super().__init__()\n",
    "        self.hparams = params['hparams']\n",
    "        self.layers = nn.ModuleList()\n",
    "        self.layers.append(ReshapeLayer((hparams['batch_size'],1,hparams['h'],hparams['h'])))\n",
    "        self.layers.append(PConv(hidden_channels=64, kernel_size=4, stride=1, bias=False))\n",
    "        self.layers.append(PConv(hidden_channels=64, kernel_size=4, stride=1, bias=False))\n",
    "        self.layers.append(PConv(hidden_channels=64, kernel_size=4, stride=1, bias=False))\n",
    "        self.layers.append(PConv(hidden_channels=64, kernel_size=4, stride=1, bias=False))\n",
    "        self.layers.append(PConv(hidden_channels=64, kernel_size=4, stride=1, bias=False))\n",
    "        self.layers.append(PConv(hidden_channels=64, kernel_size=4, stride=1, bias=False))\n",
    "        self.layers.append(PConv(hidden_channels=64, kernel_size=4, stride=1, bias=False))\n",
    "        self.layers.append(PConv(hidden_channels=64, kernel_size=4, stride=1, bias=False))\n",
    "        self.layers.append(PConv(hidden_channels=64, kernel_size=4, stride=1, bias=False))\n",
    "        self.layers.append(PConv(hidden_channels=64, kernel_size=4, stride=1, bias=False))\n",
    "        self.layers.append(ReshapeLayer((hparams['batch_size'],64,64)))\n",
    "        if self.hparams['NLB_outputactivation'] is not None:\n",
    "            self.layers.append(self.hparams['NLB_outputactivation'])\n",
    "    def forward(self, x):\n",
    "        for layer in self.layers:\n",
    "            x = layer(x)\n",
    "        y = x\n",
    "        return y"
   ]
  },
  {
   "cell_type": "code",
   "execution_count": 843,
   "id": "7f0c298d-4413-4fcc-9198-c4121091dbc6",
   "metadata": {},
   "outputs": [],
   "source": [
    "model2 = NLBranch_NGO(params)"
   ]
  },
  {
   "cell_type": "code",
   "execution_count": 844,
   "id": "7e363ec1-ebf6-42f8-ac75-52e69d3640d9",
   "metadata": {},
   "outputs": [
    {
     "data": {
      "text/plain": [
       "21760"
      ]
     },
     "execution_count": 844,
     "metadata": {},
     "output_type": "execute_result"
    }
   ],
   "source": [
    "sum(p.numel() for p in model2.parameters())"
   ]
  },
  {
   "cell_type": "code",
   "execution_count": 837,
   "id": "494bb76b-e914-4630-b76a-13cddb7637e1",
   "metadata": {},
   "outputs": [],
   "source": [
    "x = torch.rand(hparams['batch_size'],hparams['h'],hparams['h'])"
   ]
  },
  {
   "cell_type": "code",
   "execution_count": 838,
   "id": "3e80f48a-8c52-4f10-a206-c3dbeceaa78d",
   "metadata": {},
   "outputs": [
    {
     "data": {
      "text/plain": [
       "tensor([[[ 1.2660e-01,  9.5539e-03,  9.8869e-03,  ...,  1.5795e-01,\n",
       "           9.2218e-02,  2.5349e-03],\n",
       "         [ 2.4445e-02,  1.5745e-04,  3.8665e-02,  ...,  1.2233e-03,\n",
       "           3.9848e-02,  1.7122e-01],\n",
       "         [ 7.0024e-02,  6.7726e-02,  2.3216e-01,  ...,  6.3851e-02,\n",
       "           3.4230e-04,  1.7863e-06],\n",
       "         ...,\n",
       "         [ 3.6762e-03,  6.2164e-02,  1.4455e-01,  ...,  1.8122e-01,\n",
       "           9.0918e-02,  2.0407e-01],\n",
       "         [ 1.1252e-01,  7.3541e-03,  5.1887e-02,  ...,  5.3736e-02,\n",
       "           1.8951e-01,  8.5818e-02],\n",
       "         [ 1.2263e-01,  1.2239e-01,  6.7225e-03,  ...,  2.2892e-04,\n",
       "           2.2715e-01,  8.5528e-03]],\n",
       "\n",
       "        [[ 8.5735e-03,  2.4894e-04,  1.6277e-01,  ...,  1.9619e-01,\n",
       "           1.4172e-02,  6.7354e-02],\n",
       "         [ 2.0241e-02,  3.6662e-02,  5.2415e-03,  ...,  1.3689e-01,\n",
       "           6.0724e-03,  1.8813e-01],\n",
       "         [ 6.1002e-07,  1.1386e-01,  3.5557e-03,  ...,  1.1700e-02,\n",
       "           1.7000e-01,  2.2695e-01],\n",
       "         ...,\n",
       "         [ 1.4429e-04,  1.0233e-01,  1.7548e-04,  ...,  1.4307e-01,\n",
       "           1.8179e-03,  3.2011e-02],\n",
       "         [ 1.9303e-01,  2.4995e-01,  6.7128e-02,  ...,  1.8118e-01,\n",
       "           8.0475e-02,  3.9239e-03],\n",
       "         [ 6.7128e-02,  8.0035e-02,  7.2525e-03,  ...,  7.2104e-04,\n",
       "           1.5331e-01,  5.4430e-02]],\n",
       "\n",
       "        [[ 1.7804e-03,  4.7323e-02,  4.0206e-02,  ...,  2.3355e-01,\n",
       "           3.9489e-02,  7.6734e-02],\n",
       "         [ 1.7562e-01,  8.4825e-06,  1.8208e-02,  ...,  1.5865e-01,\n",
       "           1.8006e-01,  1.3936e-03],\n",
       "         [ 3.7253e-09, -1.8626e-09,  2.0470e-02,  ...,  4.4277e-02,\n",
       "           1.1810e-01,  1.1676e-01],\n",
       "         ...,\n",
       "         [ 6.9567e-02,  2.1907e-01,  1.7570e-03,  ...,  2.2983e-01,\n",
       "           2.3551e-01,  1.5204e-04],\n",
       "         [ 1.3130e-01,  9.6342e-02,  1.6958e-02,  ...,  7.2680e-05,\n",
       "           6.7923e-03,  2.0986e-01],\n",
       "         [ 1.3667e-01,  4.2387e-02,  4.0585e-04,  ...,  6.0412e-02,\n",
       "           1.5379e-02,  5.1292e-02]],\n",
       "\n",
       "        ...,\n",
       "\n",
       "        [[ 1.3218e-01,  2.1465e-01,  2.1267e-01,  ...,  1.4990e-02,\n",
       "           7.1257e-02,  7.5083e-02],\n",
       "         [ 1.0228e-01, -1.9465e-07,  4.9567e-03,  ...,  6.9193e-03,\n",
       "           5.5824e-03,  1.2228e-02],\n",
       "         [ 1.1377e-01,  1.3328e-03,  2.4626e-02,  ...,  1.8404e-01,\n",
       "           5.7381e-02,  1.8316e-01],\n",
       "         ...,\n",
       "         [ 2.1402e-02,  2.1797e-01,  5.2401e-02,  ...,  6.6679e-05,\n",
       "           1.7959e-03,  4.4499e-06],\n",
       "         [ 1.5751e-02,  2.8771e-02,  3.6494e-02,  ...,  1.8650e-01,\n",
       "           3.2027e-02,  1.6476e-01],\n",
       "         [ 2.6897e-02,  1.4415e-01,  1.6786e-03,  ...,  7.4375e-02,\n",
       "           1.9248e-02,  7.0737e-02]],\n",
       "\n",
       "        [[ 2.6942e-02,  7.6848e-02,  1.1402e-01,  ...,  7.4078e-04,\n",
       "           1.0743e-01,  2.3613e-01],\n",
       "         [ 1.6967e-01,  1.5211e-01,  3.6870e-03,  ...,  5.3490e-03,\n",
       "           6.6983e-03,  3.3119e-02],\n",
       "         [ 4.0287e-02,  3.8366e-02,  6.9237e-02,  ...,  5.0478e-04,\n",
       "           7.4764e-02,  6.9451e-03],\n",
       "         ...,\n",
       "         [ 3.5631e-02,  2.8964e-07,  1.2293e-02,  ...,  2.5433e-02,\n",
       "           2.2341e-01,  3.7293e-03],\n",
       "         [ 2.2449e-01,  7.2840e-04,  1.7823e-02,  ...,  1.3610e-01,\n",
       "           5.3751e-02,  1.0858e-02],\n",
       "         [ 3.4057e-03,  3.1048e-02,  6.9507e-02,  ...,  8.4502e-02,\n",
       "           7.2943e-03,  4.8389e-03]],\n",
       "\n",
       "        [[ 1.9942e-03,  1.0163e-01,  3.4982e-02,  ...,  1.4384e-01,\n",
       "           6.8395e-02,  1.4174e-01],\n",
       "         [ 1.2506e-05,  7.3944e-03,  3.1753e-02,  ...,  7.4153e-02,\n",
       "           2.6396e-03,  1.2739e-01],\n",
       "         [ 3.1064e-02,  5.0659e-04,  1.8311e-02,  ...,  1.3304e-01,\n",
       "           4.4840e-02,  5.1995e-02],\n",
       "         ...,\n",
       "         [ 3.8055e-03,  1.3334e-01,  6.2650e-04,  ...,  4.2328e-03,\n",
       "           1.4844e-04,  2.1669e-01],\n",
       "         [ 3.2091e-03,  5.0489e-02,  4.5651e-03,  ...,  1.0307e-01,\n",
       "           3.1258e-02,  4.0897e-02],\n",
       "         [ 1.9538e-01,  2.9838e-02,  3.3633e-02,  ...,  1.9091e-01,\n",
       "           8.6990e-02,  2.2016e-01]]], grad_fn=<SubBackward0>)"
      ]
     },
     "execution_count": 838,
     "metadata": {},
     "output_type": "execute_result"
    }
   ],
   "source": [
    "model2.forward(x)"
   ]
  },
  {
   "cell_type": "code",
   "execution_count": null,
   "id": "402e2b40-a7aa-4537-a46f-c5fe1ed06dc9",
   "metadata": {},
   "outputs": [],
   "source": []
  },
  {
   "cell_type": "code",
   "execution_count": null,
   "id": "4b50b4b0-39c2-4f9d-af75-aa220d01d316",
   "metadata": {},
   "outputs": [],
   "source": []
  },
  {
   "cell_type": "code",
   "execution_count": null,
   "id": "6ee8d8bf-f625-4f6d-a002-7960dc5084ed",
   "metadata": {},
   "outputs": [],
   "source": []
  }
 ],
 "metadata": {
  "kernelspec": {
   "display_name": "Python 3 (ipykernel)",
   "language": "python",
   "name": "python3"
  },
  "language_info": {
   "codemirror_mode": {
    "name": "ipython",
    "version": 3
   },
   "file_extension": ".py",
   "mimetype": "text/x-python",
   "name": "python",
   "nbconvert_exporter": "python",
   "pygments_lexer": "ipython3",
   "version": "3.10.9"
  }
 },
 "nbformat": 4,
 "nbformat_minor": 5
}
