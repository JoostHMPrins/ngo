{
 "cells": [
  {
   "cell_type": "code",
   "execution_count": 49,
   "id": "9f0cd53d-eae3-48b6-999d-0d95d6bae203",
   "metadata": {},
   "outputs": [],
   "source": [
    "import torch\n",
    "from torch import nn\n",
    "import pytorch_lightning as pl\n",
    "import math"
   ]
  },
  {
   "cell_type": "code",
   "execution_count": 50,
   "id": "ed128e99-54e5-45df-9ee3-4158e9e9b513",
   "metadata": {},
   "outputs": [],
   "source": [
    "Q = 72\n",
    "x = torch.rand(100,Q,Q)"
   ]
  },
  {
   "cell_type": "code",
   "execution_count": 71,
   "id": "59b40343-cb58-4a1c-8b29-2038f96dfc7f",
   "metadata": {},
   "outputs": [],
   "source": [
    "class NLBranchNet(nn.Module):\n",
    "    def __init__(self):\n",
    "        super().__init__()\n",
    "        self.rel_kernel_size = 1/3\n",
    "        self.layers = nn.ModuleList()\n",
    "        self.layers.append(nn.Conv2d(in_channels=1, out_channels=4, kernel_size=int(self.rel_kernel_size*Q), stride=1, padding=int((self.rel_kernel_size*Q - 1)/2)))\n",
    "        self.layers.append(nn.ConvTranspose2d(in_channels=4, out_channels=4, kernel_size=int(self.rel_kernel_size*Q), stride=1, padding=int((self.rel_kernel_size*Q - 1)/2)))\n",
    "        self.layers.append(nn.Conv2d(in_channels=4, out_channels=4, kernel_size=int(self.rel_kernel_size*Q), stride=1, padding=int((self.rel_kernel_size*Q - 1)/2)))\n",
    "        self.layers.append(nn.ConvTranspose2d(in_channels=4, out_channels=1, kernel_size=int(self.rel_kernel_size*Q), stride=1, padding=int((self.rel_kernel_size*Q - 1)/2)))\n",
    "    def forward(self, x):\n",
    "        x = x.unsqueeze(1)\n",
    "        print(x.shape)\n",
    "        for layer in self.layers:\n",
    "            x = layer(x)\n",
    "            print(x.shape)\n",
    "        y = x.squeeze()   \n",
    "        return y"
   ]
  },
  {
   "cell_type": "code",
   "execution_count": 72,
   "id": "7896051d-0bbd-4a8f-9ec0-7433740301be",
   "metadata": {},
   "outputs": [],
   "source": [
    "model = NLBranchNet()"
   ]
  },
  {
   "cell_type": "code",
   "execution_count": 73,
   "id": "fde7ab99-7673-42ec-b558-d863064eecec",
   "metadata": {},
   "outputs": [
    {
     "data": {
      "text/plain": [
       "23053"
      ]
     },
     "execution_count": 73,
     "metadata": {},
     "output_type": "execute_result"
    }
   ],
   "source": [
    "sum(p.numel() for p in model.parameters())"
   ]
  },
  {
   "cell_type": "code",
   "execution_count": 36,
   "id": "2c48a27e-9518-4d1f-a1a6-53ef0db13906",
   "metadata": {},
   "outputs": [
    {
     "data": {
      "text/plain": [
       "NLBranchNet(\n",
       "  (layers): ModuleList(\n",
       "    (0): Conv2d(1, 4, kernel_size=(24, 24), stride=(1, 1), padding=(11, 11))\n",
       "    (1): ConvTranspose2d(4, 8, kernel_size=(24, 24), stride=(1, 1), padding=(11, 11))\n",
       "    (2): Conv2d(8, 4, kernel_size=(24, 24), stride=(1, 1), padding=(11, 11))\n",
       "    (3): ConvTranspose2d(4, 1, kernel_size=(24, 24), stride=(1, 1), padding=(11, 11))\n",
       "  )\n",
       ")"
      ]
     },
     "execution_count": 36,
     "metadata": {},
     "output_type": "execute_result"
    }
   ],
   "source": [
    "model"
   ]
  },
  {
   "cell_type": "code",
   "execution_count": 37,
   "id": "77690ce4-9df1-4da7-9a1e-d547b089f435",
   "metadata": {},
   "outputs": [
    {
     "name": "stdout",
     "output_type": "stream",
     "text": [
      "torch.Size([100, 1, 72, 72])\n",
      "torch.Size([100, 4, 71, 71])\n",
      "torch.Size([100, 8, 72, 72])\n",
      "torch.Size([100, 4, 71, 71])\n",
      "torch.Size([100, 1, 72, 72])\n"
     ]
    },
    {
     "data": {
      "text/plain": [
       "tensor([[[-0.0265, -0.0308, -0.0109,  ..., -0.0203, -0.0027, -0.0211],\n",
       "         [-0.0470, -0.0539, -0.0412,  ..., -0.0175, -0.0095, -0.0205],\n",
       "         [-0.0496, -0.0240, -0.0412,  ..., -0.0697, -0.0387, -0.0234],\n",
       "         ...,\n",
       "         [-0.0342, -0.0323, -0.0422,  ..., -0.0482, -0.0494, -0.0056],\n",
       "         [-0.0221, -0.0446, -0.0501,  ..., -0.0394, -0.0319, -0.0575],\n",
       "         [-0.0356, -0.0608, -0.0342,  ..., -0.0375, -0.0298, -0.0138]],\n",
       "\n",
       "        [[-0.0521, -0.0430, -0.0224,  ..., -0.0195, -0.0146, -0.0312],\n",
       "         [-0.0359, -0.0437,  0.0063,  ..., -0.0195, -0.0258, -0.0006],\n",
       "         [-0.0352, -0.0550, -0.0083,  ..., -0.0259, -0.0272, -0.0209],\n",
       "         ...,\n",
       "         [-0.0455, -0.0839, -0.0607,  ..., -0.0863, -0.0300, -0.0430],\n",
       "         [-0.0321, -0.0433, -0.0720,  ..., -0.0502, -0.0224, -0.0313],\n",
       "         [-0.0464, -0.0477, -0.0748,  ..., -0.0514, -0.0377, -0.0327]],\n",
       "\n",
       "        [[-0.0348, -0.0323, -0.0195,  ..., -0.0369, -0.0037, -0.0090],\n",
       "         [-0.0368, -0.0387, -0.0216,  ..., -0.0232, -0.0175, -0.0083],\n",
       "         [-0.0717, -0.0471, -0.0325,  ..., -0.0255, -0.0285, -0.0155],\n",
       "         ...,\n",
       "         [-0.0309, -0.0420, -0.0749,  ..., -0.0324, -0.0433, -0.0390],\n",
       "         [-0.0286, -0.0384, -0.0473,  ..., -0.0259,  0.0011, -0.0374],\n",
       "         [-0.0323, -0.0252, -0.0154,  ..., -0.0260, -0.0144, -0.0241]],\n",
       "\n",
       "        ...,\n",
       "\n",
       "        [[-0.0455, -0.0587, -0.0103,  ..., -0.0126, -0.0043, -0.0089],\n",
       "         [-0.0743, -0.0782, -0.0299,  ..., -0.0357, -0.0273, -0.0370],\n",
       "         [-0.0178, -0.0405, -0.0478,  ..., -0.0537, -0.0428, -0.0485],\n",
       "         ...,\n",
       "         [-0.0567, -0.0707, -0.0646,  ..., -0.0500, -0.0493, -0.0063],\n",
       "         [-0.0459, -0.0419, -0.0662,  ..., -0.0427, -0.0429, -0.0205],\n",
       "         [-0.0240, -0.0321, -0.0463,  ..., -0.0208, -0.0350, -0.0225]],\n",
       "\n",
       "        [[-0.0383, -0.0513, -0.0063,  ..., -0.0121,  0.0007, -0.0179],\n",
       "         [-0.0294, -0.0178, -0.0389,  ..., -0.0327, -0.0098, -0.0366],\n",
       "         [-0.0300, -0.0217, -0.0169,  ..., -0.0347, -0.0220, -0.0313],\n",
       "         ...,\n",
       "         [-0.0632, -0.0613, -0.0772,  ..., -0.0508, -0.0159, -0.0678],\n",
       "         [-0.0243, -0.0655, -0.0417,  ..., -0.0295, -0.0511, -0.0303],\n",
       "         [-0.0456, -0.0337, -0.0452,  ..., -0.0444, -0.0273, -0.0270]],\n",
       "\n",
       "        [[-0.0419, -0.0349, -0.0396,  ..., -0.0213, -0.0265, -0.0214],\n",
       "         [-0.0581, -0.0468, -0.0340,  ..., -0.0133, -0.0225, -0.0097],\n",
       "         [-0.0452, -0.0565, -0.0200,  ..., -0.0254, -0.0389, -0.0071],\n",
       "         ...,\n",
       "         [-0.0497, -0.0337, -0.0380,  ..., -0.0713, -0.0622, -0.0066],\n",
       "         [-0.0492, -0.0748, -0.0681,  ..., -0.0256, -0.0364, -0.0283],\n",
       "         [-0.0567, -0.0672, -0.0252,  ..., -0.0334, -0.0232, -0.0379]]],\n",
       "       grad_fn=<SqueezeBackward0>)"
      ]
     },
     "execution_count": 37,
     "metadata": {},
     "output_type": "execute_result"
    }
   ],
   "source": [
    "model(x)"
   ]
  },
  {
   "cell_type": "code",
   "execution_count": 7,
   "id": "c4e5a160-cb80-4ce6-9c77-99817ff7200d",
   "metadata": {},
   "outputs": [
    {
     "data": {
      "text/plain": [
       "2308"
      ]
     },
     "execution_count": 7,
     "metadata": {},
     "output_type": "execute_result"
    }
   ],
   "source": [
    "sum(p.numel() for p in model.parameters())"
   ]
  },
  {
   "cell_type": "code",
   "execution_count": 8,
   "id": "6378b2c6-5d13-4996-bb7b-1d645407c398",
   "metadata": {},
   "outputs": [],
   "source": [
    "class NLBranchNet(nn.Module):\n",
    "    def __init__(self):\n",
    "        super().__init__()\n",
    "        self.layers = nn.ModuleList()\n",
    "        # self.layers.append(ResizeLayer2D(params, input_dim=self.hparams['input_dim'], output_dim=12))\n",
    "        # self.layers.append(UnsqueezeLayer(params))\n",
    "        self.layers.append(nn.ConvTranspose2d(in_channels=1, out_channels=16, kernel_size=4, stride=1))\n",
    "        self.layers.append(nn.ReLU())\n",
    "        self.layers.append(nn.BatchNorm2d(num_features=16))\n",
    "        self.layers.append(nn.ConvTranspose2d(in_channels=16, out_channels=32, kernel_size=4, stride=1))\n",
    "        self.layers.append(nn.ReLU())\n",
    "        self.layers.append(nn.BatchNorm2d(num_features=32))\n",
    "        self.layers.append(nn.ConvTranspose2d(in_channels=32, out_channels=16, kernel_size=2, stride=2))\n",
    "        self.layers.append(nn.ReLU())\n",
    "        self.layers.append(nn.ConvTranspose2d(in_channels=16, out_channels=1, kernel_size=2, stride=2))\n",
    "        # self.layers.append(SqueezeLayer(params))\n",
    "        # self.layers.append(ResizeLayer2D(params, input_dim=72, output_dim=self.hparams['latent_dim']))\n",
    "\n",
    "    def forward(self, x):\n",
    "        x = x.unsqueeze(1)\n",
    "        for layer in self.layers:\n",
    "            x = layer(x)\n",
    "        y = x.squeeze()   \n",
    "        return y"
   ]
  },
  {
   "cell_type": "code",
   "execution_count": 9,
   "id": "7f0c298d-4413-4fcc-9198-c4121091dbc6",
   "metadata": {},
   "outputs": [],
   "source": [
    "model2 = NLBranchNet()"
   ]
  },
  {
   "cell_type": "code",
   "execution_count": 10,
   "id": "7e363ec1-ebf6-42f8-ac75-52e69d3640d9",
   "metadata": {},
   "outputs": [
    {
     "data": {
      "text/plain": [
       "10721"
      ]
     },
     "execution_count": 10,
     "metadata": {},
     "output_type": "execute_result"
    }
   ],
   "source": [
    "sum(p.numel() for p in model2.parameters())"
   ]
  },
  {
   "cell_type": "code",
   "execution_count": null,
   "id": "ffdbc7ae-4897-4ca4-92d3-4e6b2a6db1bd",
   "metadata": {},
   "outputs": [],
   "source": []
  }
 ],
 "metadata": {
  "kernelspec": {
   "display_name": "Python 3 (ipykernel)",
   "language": "python",
   "name": "python3"
  },
  "language_info": {
   "codemirror_mode": {
    "name": "ipython",
    "version": 3
   },
   "file_extension": ".py",
   "mimetype": "text/x-python",
   "name": "python",
   "nbconvert_exporter": "python",
   "pygments_lexer": "ipython3",
   "version": "3.10.9"
  }
 },
 "nbformat": 4,
 "nbformat_minor": 5
}
