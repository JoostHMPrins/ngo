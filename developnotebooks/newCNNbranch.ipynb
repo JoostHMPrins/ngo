{
 "cells": [
  {
   "cell_type": "code",
   "execution_count": 97,
   "id": "9f0cd53d-eae3-48b6-999d-0d95d6bae203",
   "metadata": {},
   "outputs": [],
   "source": [
    "import torch\n",
    "from torch import nn\n",
    "from torch.nn import functional as F\n",
    "import pytorch_lightning as pl\n",
    "import math"
   ]
  },
  {
   "cell_type": "code",
   "execution_count": 98,
   "id": "5b4336ee-4427-400c-aa8d-f12142b3f3cc",
   "metadata": {},
   "outputs": [],
   "source": [
    "params = {}"
   ]
  },
  {
   "cell_type": "code",
   "execution_count": 225,
   "id": "c263437e-609d-4bf6-b02b-e2cc5c5ae7c2",
   "metadata": {},
   "outputs": [],
   "source": [
    "hparams = {'accelerator': 'gpu',\n",
    "           'devices': [0],\n",
    "           'dtype': torch.float64,\n",
    "           'precision': 64,\n",
    "           'loss_terms': [F.mse_loss],\n",
    "           'loss_coeffs': [1],\n",
    "           'optimizer': torch.optim.Adam, \n",
    "           'learning_rate': 1e-4,\n",
    "           'batch_size': 100,\n",
    "           'max_epochs': 5000,\n",
    "           'early_stopping_patience': 1000000,\n",
    "           'DeepONet': False,\n",
    "           'VarMiON': True,\n",
    "           'NGO': False,\n",
    "           'Q': 12,\n",
    "           'Q_L': 268,\n",
    "           'h': 64, \n",
    "           'Petrov-Galerkin': False,\n",
    "           'bias_NLBranch': False,\n",
    "           'bias_LBranch': False,\n",
    "           'NLB_outputactivation': nn.Tanhshrink(),\n",
    "           'Cholesky': False,\n",
    "           'scale_invariance': False,\n",
    "           'norm_basis': True,\n",
    "           'bound_mus': False,\n",
    "           '1/theta': False,\n",
    "           'symgroupavg': False,\n",
    "           'NOMAD': False}\n",
    "\n",
    "params['hparams'] = {}\n",
    "params['hparams'] = hparams"
   ]
  },
  {
   "cell_type": "code",
   "execution_count": 226,
   "id": "c2d8764c-290f-49fc-be0a-64c80c4b7bb0",
   "metadata": {},
   "outputs": [],
   "source": [
    "class ReshapeLayer(nn.Module):\n",
    "    def __init__(self, output_shape):\n",
    "        super().__init__()\n",
    "        self.output_shape = output_shape\n",
    "    \n",
    "    def forward(self, x):\n",
    "        y = x.reshape(self.output_shape)\n",
    "        return y"
   ]
  },
  {
   "cell_type": "code",
   "execution_count": 227,
   "id": "ed128e99-54e5-45df-9ee3-4158e9e9b513",
   "metadata": {},
   "outputs": [],
   "source": [
    "Q = 12\n",
    "x = torch.rand(hparams['batch_size'],hparams['h'],hparams['h'])"
   ]
  },
  {
   "cell_type": "code",
   "execution_count": 829,
   "id": "59b40343-cb58-4a1c-8b29-2038f96dfc7f",
   "metadata": {},
   "outputs": [],
   "source": [
    "class PConv(nn.Module):\n",
    "    def __init__(self, hidden_channels, kernel_size, stride, bias):\n",
    "        super().__init__()\n",
    "        self.layers = nn.ModuleList()\n",
    "        self.layers.append(nn.Conv2d(in_channels=1, out_channels=hidden_channels, kernel_size=kernel_size, stride=stride, bias=bias))\n",
    "        self.layers.append(nn.BatchNorm2d(num_features=hidden_channels, eps=1e-05, momentum=0.1, affine=True, track_running_stats=True))\n",
    "        self.layers.append(nn.ConvTranspose2d(in_channels=hidden_channels, out_channels=1, kernel_size=kernel_size, stride=stride, bias=bias))\n",
    "    \n",
    "    def forward(self, x):\n",
    "        P = x\n",
    "        for layer in self.layers:\n",
    "            P = layer(P)\n",
    "        P = P/torch.norm(P)\n",
    "        y = x + torch.matmul(P,x)\n",
    "        return y"
   ]
  },
  {
   "cell_type": "code",
   "execution_count": 830,
   "id": "7896051d-0bbd-4a8f-9ec0-7433740301be",
   "metadata": {},
   "outputs": [],
   "source": [
    "model = PConv(hidden_channels=64, kernel_size=4, stride=1, bias=False)"
   ]
  },
  {
   "cell_type": "code",
   "execution_count": 831,
   "id": "fde7ab99-7673-42ec-b558-d863064eecec",
   "metadata": {},
   "outputs": [
    {
     "data": {
      "text/plain": [
       "2176"
      ]
     },
     "execution_count": 831,
     "metadata": {},
     "output_type": "execute_result"
    }
   ],
   "source": [
    "sum(p.numel() for p in model.parameters())"
   ]
  },
  {
   "cell_type": "code",
   "execution_count": 832,
   "id": "2c48a27e-9518-4d1f-a1a6-53ef0db13906",
   "metadata": {},
   "outputs": [
    {
     "data": {
      "text/plain": [
       "PConv(\n",
       "  (layers): ModuleList(\n",
       "    (0): Conv2d(1, 64, kernel_size=(4, 4), stride=(1, 1), bias=False)\n",
       "    (1): BatchNorm2d(64, eps=1e-05, momentum=0.1, affine=True, track_running_stats=True)\n",
       "    (2): ConvTranspose2d(64, 1, kernel_size=(4, 4), stride=(1, 1), bias=False)\n",
       "  )\n",
       ")"
      ]
     },
     "execution_count": 832,
     "metadata": {},
     "output_type": "execute_result"
    }
   ],
   "source": [
    "model"
   ]
  },
  {
   "cell_type": "code",
   "execution_count": 833,
   "id": "77690ce4-9df1-4da7-9a1e-d547b089f435",
   "metadata": {},
   "outputs": [
    {
     "ename": "RuntimeError",
     "evalue": "Given groups=1, weight of size [64, 1, 4, 4], expected input[1, 100, 64, 64] to have 1 channels, but got 100 channels instead",
     "output_type": "error",
     "traceback": [
      "\u001b[0;31m---------------------------------------------------------------------------\u001b[0m",
      "\u001b[0;31mRuntimeError\u001b[0m                              Traceback (most recent call last)",
      "Cell \u001b[0;32mIn[833], line 1\u001b[0m\n\u001b[0;32m----> 1\u001b[0m y \u001b[38;5;241m=\u001b[39m \u001b[43mmodel\u001b[49m\u001b[43m(\u001b[49m\u001b[43mx\u001b[49m\u001b[43m)\u001b[49m\n\u001b[1;32m      2\u001b[0m y\u001b[38;5;241m.\u001b[39mshape\n",
      "File \u001b[0;32m~/st8/anaconda3/lib/python3.10/site-packages/torch/nn/modules/module.py:1501\u001b[0m, in \u001b[0;36mModule._call_impl\u001b[0;34m(self, *args, **kwargs)\u001b[0m\n\u001b[1;32m   1496\u001b[0m \u001b[38;5;66;03m# If we don't have any hooks, we want to skip the rest of the logic in\u001b[39;00m\n\u001b[1;32m   1497\u001b[0m \u001b[38;5;66;03m# this function, and just call forward.\u001b[39;00m\n\u001b[1;32m   1498\u001b[0m \u001b[38;5;28;01mif\u001b[39;00m \u001b[38;5;129;01mnot\u001b[39;00m (\u001b[38;5;28mself\u001b[39m\u001b[38;5;241m.\u001b[39m_backward_hooks \u001b[38;5;129;01mor\u001b[39;00m \u001b[38;5;28mself\u001b[39m\u001b[38;5;241m.\u001b[39m_backward_pre_hooks \u001b[38;5;129;01mor\u001b[39;00m \u001b[38;5;28mself\u001b[39m\u001b[38;5;241m.\u001b[39m_forward_hooks \u001b[38;5;129;01mor\u001b[39;00m \u001b[38;5;28mself\u001b[39m\u001b[38;5;241m.\u001b[39m_forward_pre_hooks\n\u001b[1;32m   1499\u001b[0m         \u001b[38;5;129;01mor\u001b[39;00m _global_backward_pre_hooks \u001b[38;5;129;01mor\u001b[39;00m _global_backward_hooks\n\u001b[1;32m   1500\u001b[0m         \u001b[38;5;129;01mor\u001b[39;00m _global_forward_hooks \u001b[38;5;129;01mor\u001b[39;00m _global_forward_pre_hooks):\n\u001b[0;32m-> 1501\u001b[0m     \u001b[38;5;28;01mreturn\u001b[39;00m \u001b[43mforward_call\u001b[49m\u001b[43m(\u001b[49m\u001b[38;5;241;43m*\u001b[39;49m\u001b[43margs\u001b[49m\u001b[43m,\u001b[49m\u001b[43m \u001b[49m\u001b[38;5;241;43m*\u001b[39;49m\u001b[38;5;241;43m*\u001b[39;49m\u001b[43mkwargs\u001b[49m\u001b[43m)\u001b[49m\n\u001b[1;32m   1502\u001b[0m \u001b[38;5;66;03m# Do not call functions when jit is used\u001b[39;00m\n\u001b[1;32m   1503\u001b[0m full_backward_hooks, non_full_backward_hooks \u001b[38;5;241m=\u001b[39m [], []\n",
      "Cell \u001b[0;32mIn[829], line 12\u001b[0m, in \u001b[0;36mPConv.forward\u001b[0;34m(self, x)\u001b[0m\n\u001b[1;32m     10\u001b[0m P \u001b[38;5;241m=\u001b[39m x\n\u001b[1;32m     11\u001b[0m \u001b[38;5;28;01mfor\u001b[39;00m layer \u001b[38;5;129;01min\u001b[39;00m \u001b[38;5;28mself\u001b[39m\u001b[38;5;241m.\u001b[39mlayers:\n\u001b[0;32m---> 12\u001b[0m     P \u001b[38;5;241m=\u001b[39m \u001b[43mlayer\u001b[49m\u001b[43m(\u001b[49m\u001b[43mP\u001b[49m\u001b[43m)\u001b[49m\n\u001b[1;32m     13\u001b[0m P \u001b[38;5;241m=\u001b[39m P\u001b[38;5;241m/\u001b[39mtorch\u001b[38;5;241m.\u001b[39mnorm(P)\n\u001b[1;32m     14\u001b[0m y \u001b[38;5;241m=\u001b[39m x \u001b[38;5;241m+\u001b[39m torch\u001b[38;5;241m.\u001b[39mmatmul(P,x)\n",
      "File \u001b[0;32m~/st8/anaconda3/lib/python3.10/site-packages/torch/nn/modules/module.py:1501\u001b[0m, in \u001b[0;36mModule._call_impl\u001b[0;34m(self, *args, **kwargs)\u001b[0m\n\u001b[1;32m   1496\u001b[0m \u001b[38;5;66;03m# If we don't have any hooks, we want to skip the rest of the logic in\u001b[39;00m\n\u001b[1;32m   1497\u001b[0m \u001b[38;5;66;03m# this function, and just call forward.\u001b[39;00m\n\u001b[1;32m   1498\u001b[0m \u001b[38;5;28;01mif\u001b[39;00m \u001b[38;5;129;01mnot\u001b[39;00m (\u001b[38;5;28mself\u001b[39m\u001b[38;5;241m.\u001b[39m_backward_hooks \u001b[38;5;129;01mor\u001b[39;00m \u001b[38;5;28mself\u001b[39m\u001b[38;5;241m.\u001b[39m_backward_pre_hooks \u001b[38;5;129;01mor\u001b[39;00m \u001b[38;5;28mself\u001b[39m\u001b[38;5;241m.\u001b[39m_forward_hooks \u001b[38;5;129;01mor\u001b[39;00m \u001b[38;5;28mself\u001b[39m\u001b[38;5;241m.\u001b[39m_forward_pre_hooks\n\u001b[1;32m   1499\u001b[0m         \u001b[38;5;129;01mor\u001b[39;00m _global_backward_pre_hooks \u001b[38;5;129;01mor\u001b[39;00m _global_backward_hooks\n\u001b[1;32m   1500\u001b[0m         \u001b[38;5;129;01mor\u001b[39;00m _global_forward_hooks \u001b[38;5;129;01mor\u001b[39;00m _global_forward_pre_hooks):\n\u001b[0;32m-> 1501\u001b[0m     \u001b[38;5;28;01mreturn\u001b[39;00m \u001b[43mforward_call\u001b[49m\u001b[43m(\u001b[49m\u001b[38;5;241;43m*\u001b[39;49m\u001b[43margs\u001b[49m\u001b[43m,\u001b[49m\u001b[43m \u001b[49m\u001b[38;5;241;43m*\u001b[39;49m\u001b[38;5;241;43m*\u001b[39;49m\u001b[43mkwargs\u001b[49m\u001b[43m)\u001b[49m\n\u001b[1;32m   1502\u001b[0m \u001b[38;5;66;03m# Do not call functions when jit is used\u001b[39;00m\n\u001b[1;32m   1503\u001b[0m full_backward_hooks, non_full_backward_hooks \u001b[38;5;241m=\u001b[39m [], []\n",
      "File \u001b[0;32m~/st8/anaconda3/lib/python3.10/site-packages/torch/nn/modules/conv.py:463\u001b[0m, in \u001b[0;36mConv2d.forward\u001b[0;34m(self, input)\u001b[0m\n\u001b[1;32m    462\u001b[0m \u001b[38;5;28;01mdef\u001b[39;00m \u001b[38;5;21mforward\u001b[39m(\u001b[38;5;28mself\u001b[39m, \u001b[38;5;28minput\u001b[39m: Tensor) \u001b[38;5;241m-\u001b[39m\u001b[38;5;241m>\u001b[39m Tensor:\n\u001b[0;32m--> 463\u001b[0m     \u001b[38;5;28;01mreturn\u001b[39;00m \u001b[38;5;28;43mself\u001b[39;49m\u001b[38;5;241;43m.\u001b[39;49m\u001b[43m_conv_forward\u001b[49m\u001b[43m(\u001b[49m\u001b[38;5;28;43minput\u001b[39;49m\u001b[43m,\u001b[49m\u001b[43m \u001b[49m\u001b[38;5;28;43mself\u001b[39;49m\u001b[38;5;241;43m.\u001b[39;49m\u001b[43mweight\u001b[49m\u001b[43m,\u001b[49m\u001b[43m \u001b[49m\u001b[38;5;28;43mself\u001b[39;49m\u001b[38;5;241;43m.\u001b[39;49m\u001b[43mbias\u001b[49m\u001b[43m)\u001b[49m\n",
      "File \u001b[0;32m~/st8/anaconda3/lib/python3.10/site-packages/torch/nn/modules/conv.py:459\u001b[0m, in \u001b[0;36mConv2d._conv_forward\u001b[0;34m(self, input, weight, bias)\u001b[0m\n\u001b[1;32m    455\u001b[0m \u001b[38;5;28;01mif\u001b[39;00m \u001b[38;5;28mself\u001b[39m\u001b[38;5;241m.\u001b[39mpadding_mode \u001b[38;5;241m!=\u001b[39m \u001b[38;5;124m'\u001b[39m\u001b[38;5;124mzeros\u001b[39m\u001b[38;5;124m'\u001b[39m:\n\u001b[1;32m    456\u001b[0m     \u001b[38;5;28;01mreturn\u001b[39;00m F\u001b[38;5;241m.\u001b[39mconv2d(F\u001b[38;5;241m.\u001b[39mpad(\u001b[38;5;28minput\u001b[39m, \u001b[38;5;28mself\u001b[39m\u001b[38;5;241m.\u001b[39m_reversed_padding_repeated_twice, mode\u001b[38;5;241m=\u001b[39m\u001b[38;5;28mself\u001b[39m\u001b[38;5;241m.\u001b[39mpadding_mode),\n\u001b[1;32m    457\u001b[0m                     weight, bias, \u001b[38;5;28mself\u001b[39m\u001b[38;5;241m.\u001b[39mstride,\n\u001b[1;32m    458\u001b[0m                     _pair(\u001b[38;5;241m0\u001b[39m), \u001b[38;5;28mself\u001b[39m\u001b[38;5;241m.\u001b[39mdilation, \u001b[38;5;28mself\u001b[39m\u001b[38;5;241m.\u001b[39mgroups)\n\u001b[0;32m--> 459\u001b[0m \u001b[38;5;28;01mreturn\u001b[39;00m \u001b[43mF\u001b[49m\u001b[38;5;241;43m.\u001b[39;49m\u001b[43mconv2d\u001b[49m\u001b[43m(\u001b[49m\u001b[38;5;28;43minput\u001b[39;49m\u001b[43m,\u001b[49m\u001b[43m \u001b[49m\u001b[43mweight\u001b[49m\u001b[43m,\u001b[49m\u001b[43m \u001b[49m\u001b[43mbias\u001b[49m\u001b[43m,\u001b[49m\u001b[43m \u001b[49m\u001b[38;5;28;43mself\u001b[39;49m\u001b[38;5;241;43m.\u001b[39;49m\u001b[43mstride\u001b[49m\u001b[43m,\u001b[49m\n\u001b[1;32m    460\u001b[0m \u001b[43m                \u001b[49m\u001b[38;5;28;43mself\u001b[39;49m\u001b[38;5;241;43m.\u001b[39;49m\u001b[43mpadding\u001b[49m\u001b[43m,\u001b[49m\u001b[43m \u001b[49m\u001b[38;5;28;43mself\u001b[39;49m\u001b[38;5;241;43m.\u001b[39;49m\u001b[43mdilation\u001b[49m\u001b[43m,\u001b[49m\u001b[43m \u001b[49m\u001b[38;5;28;43mself\u001b[39;49m\u001b[38;5;241;43m.\u001b[39;49m\u001b[43mgroups\u001b[49m\u001b[43m)\u001b[49m\n",
      "\u001b[0;31mRuntimeError\u001b[0m: Given groups=1, weight of size [64, 1, 4, 4], expected input[1, 100, 64, 64] to have 1 channels, but got 100 channels instead"
     ]
    }
   ],
   "source": [
    "y = model(x)\n",
    "y.shape"
   ]
  },
  {
   "cell_type": "code",
   "execution_count": 842,
   "id": "c4e5a160-cb80-4ce6-9c77-99817ff7200d",
   "metadata": {},
   "outputs": [],
   "source": [
    "class NLBranch_NGO(nn.Module):\n",
    "    def __init__(self, params):\n",
    "        super().__init__()\n",
    "        self.hparams = params['hparams']\n",
    "        self.layers = nn.ModuleList()\n",
    "        self.layers.append(ReshapeLayer((hparams['batch_size'],1,hparams['h'],hparams['h'])))\n",
    "        self.layers.append(PConv(hidden_channels=64, kernel_size=4, stride=1, bias=False))\n",
    "        self.layers.append(PConv(hidden_channels=64, kernel_size=4, stride=1, bias=False))\n",
    "        self.layers.append(PConv(hidden_channels=64, kernel_size=4, stride=1, bias=False))\n",
    "        self.layers.append(PConv(hidden_channels=64, kernel_size=4, stride=1, bias=False))\n",
    "        self.layers.append(PConv(hidden_channels=64, kernel_size=4, stride=1, bias=False))\n",
    "        self.layers.append(PConv(hidden_channels=64, kernel_size=4, stride=1, bias=False))\n",
    "        self.layers.append(PConv(hidden_channels=64, kernel_size=4, stride=1, bias=False))\n",
    "        self.layers.append(PConv(hidden_channels=64, kernel_size=4, stride=1, bias=False))\n",
    "        self.layers.append(PConv(hidden_channels=64, kernel_size=4, stride=1, bias=False))\n",
    "        self.layers.append(PConv(hidden_channels=64, kernel_size=4, stride=1, bias=False))\n",
    "        self.layers.append(ReshapeLayer((hparams['batch_size'],64,64)))\n",
    "        if self.hparams['NLB_outputactivation'] is not None:\n",
    "            self.layers.append(self.hparams['NLB_outputactivation'])\n",
    "    def forward(self, x):\n",
    "        for layer in self.layers:\n",
    "            x = layer(x)\n",
    "        y = x\n",
    "        return y"
   ]
  },
  {
   "cell_type": "code",
   "execution_count": 843,
   "id": "7f0c298d-4413-4fcc-9198-c4121091dbc6",
   "metadata": {},
   "outputs": [],
   "source": [
    "model2 = NLBranch_NGO(params)"
   ]
  },
  {
   "cell_type": "code",
   "execution_count": 844,
   "id": "7e363ec1-ebf6-42f8-ac75-52e69d3640d9",
   "metadata": {},
   "outputs": [
    {
     "data": {
      "text/plain": [
       "21760"
      ]
     },
     "execution_count": 844,
     "metadata": {},
     "output_type": "execute_result"
    }
   ],
   "source": [
    "sum(p.numel() for p in model2.parameters())"
   ]
  },
  {
   "cell_type": "code",
   "execution_count": 837,
   "id": "494bb76b-e914-4630-b76a-13cddb7637e1",
   "metadata": {},
   "outputs": [],
   "source": [
    "x = torch.rand(hparams['batch_size'],hparams['h'],hparams['h'])"
   ]
  },
  {
   "cell_type": "code",
   "execution_count": 838,
   "id": "3e80f48a-8c52-4f10-a206-c3dbeceaa78d",
   "metadata": {},
   "outputs": [
    {
     "data": {
      "text/plain": [
       "tensor([[[ 1.2660e-01,  9.5539e-03,  9.8869e-03,  ...,  1.5795e-01,\n",
       "           9.2218e-02,  2.5349e-03],\n",
       "         [ 2.4445e-02,  1.5745e-04,  3.8665e-02,  ...,  1.2233e-03,\n",
       "           3.9848e-02,  1.7122e-01],\n",
       "         [ 7.0024e-02,  6.7726e-02,  2.3216e-01,  ...,  6.3851e-02,\n",
       "           3.4230e-04,  1.7863e-06],\n",
       "         ...,\n",
       "         [ 3.6762e-03,  6.2164e-02,  1.4455e-01,  ...,  1.8122e-01,\n",
       "           9.0918e-02,  2.0407e-01],\n",
       "         [ 1.1252e-01,  7.3541e-03,  5.1887e-02,  ...,  5.3736e-02,\n",
       "           1.8951e-01,  8.5818e-02],\n",
       "         [ 1.2263e-01,  1.2239e-01,  6.7225e-03,  ...,  2.2892e-04,\n",
       "           2.2715e-01,  8.5528e-03]],\n",
       "\n",
       "        [[ 8.5735e-03,  2.4894e-04,  1.6277e-01,  ...,  1.9619e-01,\n",
       "           1.4172e-02,  6.7354e-02],\n",
       "         [ 2.0241e-02,  3.6662e-02,  5.2415e-03,  ...,  1.3689e-01,\n",
       "           6.0724e-03,  1.8813e-01],\n",
       "         [ 6.1002e-07,  1.1386e-01,  3.5557e-03,  ...,  1.1700e-02,\n",
       "           1.7000e-01,  2.2695e-01],\n",
       "         ...,\n",
       "         [ 1.4429e-04,  1.0233e-01,  1.7548e-04,  ...,  1.4307e-01,\n",
       "           1.8179e-03,  3.2011e-02],\n",
       "         [ 1.9303e-01,  2.4995e-01,  6.7128e-02,  ...,  1.8118e-01,\n",
       "           8.0475e-02,  3.9239e-03],\n",
       "         [ 6.7128e-02,  8.0035e-02,  7.2525e-03,  ...,  7.2104e-04,\n",
       "           1.5331e-01,  5.4430e-02]],\n",
       "\n",
       "        [[ 1.7804e-03,  4.7323e-02,  4.0206e-02,  ...,  2.3355e-01,\n",
       "           3.9489e-02,  7.6734e-02],\n",
       "         [ 1.7562e-01,  8.4825e-06,  1.8208e-02,  ...,  1.5865e-01,\n",
       "           1.8006e-01,  1.3936e-03],\n",
       "         [ 3.7253e-09, -1.8626e-09,  2.0470e-02,  ...,  4.4277e-02,\n",
       "           1.1810e-01,  1.1676e-01],\n",
       "         ...,\n",
       "         [ 6.9567e-02,  2.1907e-01,  1.7570e-03,  ...,  2.2983e-01,\n",
       "           2.3551e-01,  1.5204e-04],\n",
       "         [ 1.3130e-01,  9.6342e-02,  1.6958e-02,  ...,  7.2680e-05,\n",
       "           6.7923e-03,  2.0986e-01],\n",
       "         [ 1.3667e-01,  4.2387e-02,  4.0585e-04,  ...,  6.0412e-02,\n",
       "           1.5379e-02,  5.1292e-02]],\n",
       "\n",
       "        ...,\n",
       "\n",
       "        [[ 1.3218e-01,  2.1465e-01,  2.1267e-01,  ...,  1.4990e-02,\n",
       "           7.1257e-02,  7.5083e-02],\n",
       "         [ 1.0228e-01, -1.9465e-07,  4.9567e-03,  ...,  6.9193e-03,\n",
       "           5.5824e-03,  1.2228e-02],\n",
       "         [ 1.1377e-01,  1.3328e-03,  2.4626e-02,  ...,  1.8404e-01,\n",
       "           5.7381e-02,  1.8316e-01],\n",
       "         ...,\n",
       "         [ 2.1402e-02,  2.1797e-01,  5.2401e-02,  ...,  6.6679e-05,\n",
       "           1.7959e-03,  4.4499e-06],\n",
       "         [ 1.5751e-02,  2.8771e-02,  3.6494e-02,  ...,  1.8650e-01,\n",
       "           3.2027e-02,  1.6476e-01],\n",
       "         [ 2.6897e-02,  1.4415e-01,  1.6786e-03,  ...,  7.4375e-02,\n",
       "           1.9248e-02,  7.0737e-02]],\n",
       "\n",
       "        [[ 2.6942e-02,  7.6848e-02,  1.1402e-01,  ...,  7.4078e-04,\n",
       "           1.0743e-01,  2.3613e-01],\n",
       "         [ 1.6967e-01,  1.5211e-01,  3.6870e-03,  ...,  5.3490e-03,\n",
       "           6.6983e-03,  3.3119e-02],\n",
       "         [ 4.0287e-02,  3.8366e-02,  6.9237e-02,  ...,  5.0478e-04,\n",
       "           7.4764e-02,  6.9451e-03],\n",
       "         ...,\n",
       "         [ 3.5631e-02,  2.8964e-07,  1.2293e-02,  ...,  2.5433e-02,\n",
       "           2.2341e-01,  3.7293e-03],\n",
       "         [ 2.2449e-01,  7.2840e-04,  1.7823e-02,  ...,  1.3610e-01,\n",
       "           5.3751e-02,  1.0858e-02],\n",
       "         [ 3.4057e-03,  3.1048e-02,  6.9507e-02,  ...,  8.4502e-02,\n",
       "           7.2943e-03,  4.8389e-03]],\n",
       "\n",
       "        [[ 1.9942e-03,  1.0163e-01,  3.4982e-02,  ...,  1.4384e-01,\n",
       "           6.8395e-02,  1.4174e-01],\n",
       "         [ 1.2506e-05,  7.3944e-03,  3.1753e-02,  ...,  7.4153e-02,\n",
       "           2.6396e-03,  1.2739e-01],\n",
       "         [ 3.1064e-02,  5.0659e-04,  1.8311e-02,  ...,  1.3304e-01,\n",
       "           4.4840e-02,  5.1995e-02],\n",
       "         ...,\n",
       "         [ 3.8055e-03,  1.3334e-01,  6.2650e-04,  ...,  4.2328e-03,\n",
       "           1.4844e-04,  2.1669e-01],\n",
       "         [ 3.2091e-03,  5.0489e-02,  4.5651e-03,  ...,  1.0307e-01,\n",
       "           3.1258e-02,  4.0897e-02],\n",
       "         [ 1.9538e-01,  2.9838e-02,  3.3633e-02,  ...,  1.9091e-01,\n",
       "           8.6990e-02,  2.2016e-01]]], grad_fn=<SubBackward0>)"
      ]
     },
     "execution_count": 838,
     "metadata": {},
     "output_type": "execute_result"
    }
   ],
   "source": [
    "model2.forward(x)"
   ]
  },
  {
   "cell_type": "code",
   "execution_count": null,
   "id": "402e2b40-a7aa-4537-a46f-c5fe1ed06dc9",
   "metadata": {},
   "outputs": [],
   "source": []
  },
  {
   "cell_type": "code",
   "execution_count": null,
   "id": "4b50b4b0-39c2-4f9d-af75-aa220d01d316",
   "metadata": {},
   "outputs": [],
   "source": []
  },
  {
   "cell_type": "code",
   "execution_count": null,
   "id": "6ee8d8bf-f625-4f6d-a002-7960dc5084ed",
   "metadata": {},
   "outputs": [],
   "source": []
  }
 ],
 "metadata": {
  "kernelspec": {
   "display_name": "Python 3 (ipykernel)",
   "language": "python",
   "name": "python3"
  },
  "language_info": {
   "codemirror_mode": {
    "name": "ipython",
    "version": 3
   },
   "file_extension": ".py",
   "mimetype": "text/x-python",
   "name": "python",
   "nbconvert_exporter": "python",
   "pygments_lexer": "ipython3",
   "version": "3.10.9"
  }
 },
 "nbformat": 4,
 "nbformat_minor": 5
}
