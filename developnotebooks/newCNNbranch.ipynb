{
 "cells": [
  {
   "cell_type": "code",
   "execution_count": 56,
   "id": "9f0cd53d-eae3-48b6-999d-0d95d6bae203",
   "metadata": {},
   "outputs": [],
   "source": [
    "import torch\n",
    "from torch import nn\n",
    "import pytorch_lightning as pl\n",
    "import math"
   ]
  },
  {
   "cell_type": "code",
   "execution_count": 60,
   "id": "5b4336ee-4427-400c-aa8d-f12142b3f3cc",
   "metadata": {},
   "outputs": [],
   "source": [
    "params = {}"
   ]
  },
  {
   "cell_type": "code",
   "execution_count": 62,
   "id": "c263437e-609d-4bf6-b02b-e2cc5c5ae7c2",
   "metadata": {},
   "outputs": [],
   "source": [
    "hparams = {'accelerator': 'gpu',\n",
    "           'devices': [0],\n",
    "           'dtype': torch.float64,\n",
    "           'precision': 64,\n",
    "           'loss_terms': [F.mse_loss],\n",
    "           'loss_coeffs': [1],\n",
    "           'optimizer': torch.optim.Adam, \n",
    "           'learning_rate': 1e-4,\n",
    "           'batch_size': 100,\n",
    "           'max_epochs': 5000,\n",
    "           'early_stopping_patience': 1000000,\n",
    "           'DeepONet': False,\n",
    "           'VarMiON': True,\n",
    "           'NGO': False,\n",
    "           'Q': 12,\n",
    "           'Q_L': 268,\n",
    "           'h': 64, \n",
    "           'Petrov-Galerkin': False,\n",
    "           'bias_NLBranch': False,\n",
    "           'bias_LBranch': False,\n",
    "           'NLB_outputactivation': nn.Tanhshrink(),\n",
    "           'Cholesky': False,\n",
    "           'scale_invariance': False,\n",
    "           'norm_basis': True,\n",
    "           'bound_mus': False,\n",
    "           '1/theta': False,\n",
    "           'symgroupavg': False,\n",
    "           'NOMAD': False}\n",
    "\n",
    "params['hparams'] = {}\n",
    "params['hparams'] = hparams"
   ]
  },
  {
   "cell_type": "code",
   "execution_count": 262,
   "id": "ed128e99-54e5-45df-9ee3-4158e9e9b513",
   "metadata": {},
   "outputs": [],
   "source": [
    "Q = 12\n",
    "x = torch.rand(hparams['batch_size'],hparams['h'],hparams['h'])"
   ]
  },
  {
   "cell_type": "code",
   "execution_count": 263,
   "id": "e3741af8-30fa-4436-9d28-0d29ef501f73",
   "metadata": {},
   "outputs": [],
   "source": [
    "class ReshapeLayer(nn.Module):\n",
    "    def __init__(self, output_shape):\n",
    "        super().__init__()\n",
    "        self.output_shape = output_shape\n",
    "    \n",
    "    def forward(self, x):\n",
    "        y = x.reshape(self.output_shape)\n",
    "        return y"
   ]
  },
  {
   "cell_type": "code",
   "execution_count": 264,
   "id": "59b40343-cb58-4a1c-8b29-2038f96dfc7f",
   "metadata": {},
   "outputs": [],
   "source": [
    "class NLBranchNet(nn.Module):\n",
    "    def __init__(self, params):\n",
    "        super().__init__()\n",
    "        self.hparams = params['hparams']\n",
    "        self.layers = nn.ModuleList()\n",
    "        \n",
    "        # Adjusted convolutional layers\n",
    "        self.layers.append(ReshapeLayer((hparams['batch_size'],1,hparams['h'],hparams['h'])))\n",
    "        self.layers.append(nn.Conv2d(in_channels=1, out_channels=16, kernel_size=2, stride=2, bias=self.hparams.get('bias_NLBranch', True)))\n",
    "        self.layers.append(nn.ReLU())\n",
    "        self.layers.append(nn.BatchNorm2d(num_features=16, eps=1e-05, momentum=0.1, affine=True, track_running_stats=True))\n",
    "        self.layers.append(nn.Conv2d(in_channels=16, out_channels=32, kernel_size=2, stride=2, bias=self.hparams.get('bias_NLBranch', True)))\n",
    "        self.layers.append(nn.ReLU())\n",
    "        self.layers.append(nn.BatchNorm2d(num_features=32, eps=1e-05, momentum=0.1, affine=True, track_running_stats=True))\n",
    "        self.layers.append(nn.Conv2d(in_channels=32, out_channels=16, kernel_size=4, stride=1, bias=self.hparams.get('bias_NLBranch', True)))\n",
    "        self.layers.append(nn.ReLU())\n",
    "        self.layers.append(nn.Conv2d(in_channels=16, out_channels=1, kernel_size=4, stride=1, bias=self.hparams.get('bias_NLBranch', True)))\n",
    "        self.layers.append(ReshapeLayer((hparams['batch_size'],100)))\n",
    "        self.layers.append(nn.Linear(100,100))\n",
    "        self.layers.append(nn.ReLU())\n",
    "        self.layers.append(ReshapeLayer((hparams['batch_size'],1,10,10)))\n",
    "        self.layers.append(nn.ConvTranspose2d(1, 16, kernel_size=4, stride=1, bias=self.hparams.get('bias_NLBranch', True)))\n",
    "        self.layers.append(nn.ReLU())\n",
    "        self.layers.append(nn.BatchNorm2d(num_features=16, eps=1e-05, momentum=0.1, affine=True, track_running_stats=True))\n",
    "        self.layers.append(nn.ConvTranspose2d(16, 32, kernel_size=4, stride=1, bias=self.hparams.get('bias_NLBranch', True)))\n",
    "        self.layers.append(nn.ReLU())\n",
    "        self.layers.append(nn.BatchNorm2d(num_features=32, eps=1e-05, momentum=0.1, affine=True, track_running_stats=True))\n",
    "        self.layers.append(nn.ConvTranspose2d(32, 16, kernel_size=2, stride=2, bias=self.hparams.get('bias_NLBranch', True)))\n",
    "        self.layers.append(nn.ReLU())\n",
    "        self.layers.append(nn.ConvTranspose2d(16, 1, kernel_size=2, stride=2, bias=self.hparams.get('bias_NLBranch', True)))\n",
    "        self.layers.append(ReshapeLayer((hparams['batch_size'],64,64)))\n",
    "        if self.hparams['NLB_outputactivation'] is not None:\n",
    "            self.layers.append(self.hparams['NLB_outputactivation'])\n",
    "\n",
    "    def forward(self, x):\n",
    "        for layer in self.layers:\n",
    "            print(x.shape)\n",
    "            x = layer(x)\n",
    "        y = x\n",
    "        return y"
   ]
  },
  {
   "cell_type": "code",
   "execution_count": 265,
   "id": "7896051d-0bbd-4a8f-9ec0-7433740301be",
   "metadata": {},
   "outputs": [],
   "source": [
    "model = NLBranchNet(params)"
   ]
  },
  {
   "cell_type": "code",
   "execution_count": 266,
   "id": "fde7ab99-7673-42ec-b558-d863064eecec",
   "metadata": {},
   "outputs": [
    {
     "data": {
      "text/plain": [
       "31412"
      ]
     },
     "execution_count": 266,
     "metadata": {},
     "output_type": "execute_result"
    }
   ],
   "source": [
    "sum(p.numel() for p in model.parameters())"
   ]
  },
  {
   "cell_type": "code",
   "execution_count": 267,
   "id": "2c48a27e-9518-4d1f-a1a6-53ef0db13906",
   "metadata": {},
   "outputs": [
    {
     "data": {
      "text/plain": [
       "NLBranchNet(\n",
       "  (layers): ModuleList(\n",
       "    (0): ReshapeLayer()\n",
       "    (1): Conv2d(1, 16, kernel_size=(2, 2), stride=(2, 2), bias=False)\n",
       "    (2): ReLU()\n",
       "    (3): BatchNorm2d(16, eps=1e-05, momentum=0.1, affine=True, track_running_stats=True)\n",
       "    (4): Conv2d(16, 32, kernel_size=(2, 2), stride=(2, 2), bias=False)\n",
       "    (5): ReLU()\n",
       "    (6): BatchNorm2d(32, eps=1e-05, momentum=0.1, affine=True, track_running_stats=True)\n",
       "    (7): Conv2d(32, 16, kernel_size=(4, 4), stride=(1, 1), bias=False)\n",
       "    (8): ReLU()\n",
       "    (9): Conv2d(16, 1, kernel_size=(4, 4), stride=(1, 1), bias=False)\n",
       "    (10): ReshapeLayer()\n",
       "    (11): Linear(in_features=100, out_features=100, bias=True)\n",
       "    (12): ReLU()\n",
       "    (13): ReshapeLayer()\n",
       "    (14): ConvTranspose2d(1, 16, kernel_size=(4, 4), stride=(1, 1), bias=False)\n",
       "    (15): ReLU()\n",
       "    (16): BatchNorm2d(16, eps=1e-05, momentum=0.1, affine=True, track_running_stats=True)\n",
       "    (17): ConvTranspose2d(16, 32, kernel_size=(4, 4), stride=(1, 1), bias=False)\n",
       "    (18): ReLU()\n",
       "    (19): BatchNorm2d(32, eps=1e-05, momentum=0.1, affine=True, track_running_stats=True)\n",
       "    (20): ConvTranspose2d(32, 16, kernel_size=(2, 2), stride=(2, 2), bias=False)\n",
       "    (21): ReLU()\n",
       "    (22): ConvTranspose2d(16, 1, kernel_size=(2, 2), stride=(2, 2), bias=False)\n",
       "    (23): ReshapeLayer()\n",
       "    (24): Tanhshrink()\n",
       "  )\n",
       ")"
      ]
     },
     "execution_count": 267,
     "metadata": {},
     "output_type": "execute_result"
    }
   ],
   "source": [
    "model"
   ]
  },
  {
   "cell_type": "code",
   "execution_count": 268,
   "id": "77690ce4-9df1-4da7-9a1e-d547b089f435",
   "metadata": {},
   "outputs": [
    {
     "name": "stdout",
     "output_type": "stream",
     "text": [
      "torch.Size([100, 64, 64])\n",
      "torch.Size([100, 1, 64, 64])\n",
      "torch.Size([100, 16, 32, 32])\n",
      "torch.Size([100, 16, 32, 32])\n",
      "torch.Size([100, 16, 32, 32])\n",
      "torch.Size([100, 32, 16, 16])\n",
      "torch.Size([100, 32, 16, 16])\n",
      "torch.Size([100, 32, 16, 16])\n",
      "torch.Size([100, 16, 13, 13])\n",
      "torch.Size([100, 16, 13, 13])\n",
      "torch.Size([100, 1, 10, 10])\n",
      "torch.Size([100, 100])\n",
      "torch.Size([100, 100])\n",
      "torch.Size([100, 100])\n",
      "torch.Size([100, 1, 10, 10])\n",
      "torch.Size([100, 16, 13, 13])\n",
      "torch.Size([100, 16, 13, 13])\n",
      "torch.Size([100, 16, 13, 13])\n",
      "torch.Size([100, 32, 16, 16])\n",
      "torch.Size([100, 32, 16, 16])\n",
      "torch.Size([100, 32, 16, 16])\n",
      "torch.Size([100, 16, 32, 32])\n",
      "torch.Size([100, 16, 32, 32])\n",
      "torch.Size([100, 1, 64, 64])\n",
      "torch.Size([100, 64, 64])\n"
     ]
    },
    {
     "data": {
      "text/plain": [
       "torch.Size([100, 64, 64])"
      ]
     },
     "execution_count": 268,
     "metadata": {},
     "output_type": "execute_result"
    }
   ],
   "source": [
    "model(x).shape"
   ]
  },
  {
   "cell_type": "code",
   "execution_count": 170,
   "id": "c4e5a160-cb80-4ce6-9c77-99817ff7200d",
   "metadata": {},
   "outputs": [
    {
     "data": {
      "text/plain": [
       "12"
      ]
     },
     "execution_count": 170,
     "metadata": {},
     "output_type": "execute_result"
    }
   ],
   "source": [
    "sum(p.numel() for p in model.parameters())"
   ]
  },
  {
   "cell_type": "code",
   "execution_count": 171,
   "id": "6378b2c6-5d13-4996-bb7b-1d645407c398",
   "metadata": {},
   "outputs": [],
   "source": [
    "class NLBranchNet(nn.Module):\n",
    "    def __init__(self):\n",
    "        super().__init__()\n",
    "        self.layers = nn.ModuleList()\n",
    "        # self.layers.append(ResizeLayer2D(params, input_dim=self.hparams['input_dim'], output_dim=12))\n",
    "        # self.layers.append(UnsqueezeLayer(params))\n",
    "        self.layers.append(nn.ConvTranspose2d(in_channels=1, out_channels=16, kernel_size=4, stride=4))\n",
    "        self.layers.append(nn.ReLU())\n",
    "        self.layers.append(nn.BatchNorm2d(num_features=16))\n",
    "        self.layers.append(nn.ConvTranspose2d(in_channels=16, out_channels=32, kernel_size=4, stride=4))\n",
    "        self.layers.append(nn.ReLU())\n",
    "        self.layers.append(nn.BatchNorm2d(num_features=32))\n",
    "        self.layers.append(nn.ConvTranspose2d(in_channels=32, out_channels=16, kernel_size=4, stride=4))\n",
    "        self.layers.append(nn.ReLU())\n",
    "        self.layers.append(nn.ConvTranspose2d(in_channels=16, out_channels=1, kernel_size=4, stride=4))\n",
    "        # self.layers.append(SqueezeLayer(params))\n",
    "        # self.layers.append(ResizeLayer2D(params, input_dim=72, output_dim=self.hparams['latent_dim']))\n",
    "\n",
    "    def forward(self, x):\n",
    "        x = x.unsqueeze(1)\n",
    "        for layer in self.layers:\n",
    "            x = layer(x)\n",
    "        y = x.squeeze()   \n",
    "        return y"
   ]
  },
  {
   "cell_type": "code",
   "execution_count": 172,
   "id": "7f0c298d-4413-4fcc-9198-c4121091dbc6",
   "metadata": {},
   "outputs": [],
   "source": [
    "model2 = NLBranchNet()"
   ]
  },
  {
   "cell_type": "code",
   "execution_count": 128,
   "id": "7e363ec1-ebf6-42f8-ac75-52e69d3640d9",
   "metadata": {},
   "outputs": [
    {
     "data": {
      "text/plain": [
       "17057"
      ]
     },
     "execution_count": 128,
     "metadata": {},
     "output_type": "execute_result"
    }
   ],
   "source": [
    "sum(p.numel() for p in model2.parameters())"
   ]
  },
  {
   "cell_type": "code",
   "execution_count": 53,
   "id": "3e80f48a-8c52-4f10-a206-c3dbeceaa78d",
   "metadata": {},
   "outputs": [
    {
     "data": {
      "text/plain": [
       "tensor([[[[1.2186, 1.2186, 1.2186,  ..., 0.8033, 0.8033, 0.8033],\n",
       "          [1.2186, 1.2186, 1.2186,  ..., 0.8033, 0.8033, 0.8033],\n",
       "          [1.2186, 1.2186, 1.2186,  ..., 0.8033, 0.8033, 0.8033],\n",
       "          ...,\n",
       "          [0.4716, 0.4716, 0.4716,  ..., 1.3901, 1.3901, 1.3901],\n",
       "          [0.4716, 0.4716, 0.4716,  ..., 1.3901, 1.3901, 1.3901],\n",
       "          [0.4716, 0.4716, 0.4716,  ..., 1.3901, 1.3901, 1.3901]]]])"
      ]
     },
     "execution_count": 53,
     "metadata": {},
     "output_type": "execute_result"
    }
   ],
   "source": [
    "model2.forward"
   ]
  },
  {
   "cell_type": "code",
   "execution_count": null,
   "id": "402e2b40-a7aa-4537-a46f-c5fe1ed06dc9",
   "metadata": {},
   "outputs": [],
   "source": []
  }
 ],
 "metadata": {
  "kernelspec": {
   "display_name": "Python 3 (ipykernel)",
   "language": "python",
   "name": "python3"
  },
  "language_info": {
   "codemirror_mode": {
    "name": "ipython",
    "version": 3
   },
   "file_extension": ".py",
   "mimetype": "text/x-python",
   "name": "python",
   "nbconvert_exporter": "python",
   "pygments_lexer": "ipython3",
   "version": "3.10.9"
  }
 },
 "nbformat": 4,
 "nbformat_minor": 5
}
