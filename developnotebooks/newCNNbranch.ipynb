{
 "cells": [
  {
   "cell_type": "code",
   "execution_count": 141,
   "id": "9f0cd53d-eae3-48b6-999d-0d95d6bae203",
   "metadata": {},
   "outputs": [],
   "source": [
    "import torch\n",
    "from torch import nn\n",
    "import pytorch_lightning as pl"
   ]
  },
  {
   "cell_type": "code",
   "execution_count": 166,
   "id": "f9c47c2b-e885-4874-88ca-f211b2d25334",
   "metadata": {},
   "outputs": [],
   "source": [
    "class NLBranchNet(nn.Module):\n",
    "    def __init__(self):\n",
    "        super().__init__()\n",
    "        self.layers = nn.ModuleList()\n",
    "        self.layers.append(nn.Conv2d(in_channels=1, out_channels=16, kernel_size=3, stride=1, padding=2))\n",
    "        self.layers.append(nn.ReLU())\n",
    "        self.layers.append(nn.BatchNorm2d(num_features=16))\n",
    "        self.layers.append(nn.Conv2d(in_channels=16, out_channels=32, kernel_size=3, stride=1, padding=1))\n",
    "        self.layers.append(nn.ReLU())\n",
    "        self.layers.append(nn.BatchNorm2d(num_features=32))\n",
    "        self.layers.append(nn.Conv2d(in_channels=32, out_channels=16, kernel_size=3, stride=1, padding=1))\n",
    "        self.layers.append(nn.ReLU())\n",
    "        self.layers.append(nn.Conv2d(in_channels=16, out_channels=1, kernel_size=3, stride=1, padding=1))\n",
    "        \n",
    "    def forward(self, x):\n",
    "        x = x.unsqueeze(1)\n",
    "        print(x.shape)\n",
    "        for layer in self.layers:\n",
    "            x = layer(x)\n",
    "            print(x.shape)\n",
    "        y = x.squeeze()   \n",
    "        return y"
   ]
  },
  {
   "cell_type": "code",
   "execution_count": 167,
   "id": "ed128e99-54e5-45df-9ee3-4158e9e9b513",
   "metadata": {},
   "outputs": [],
   "source": [
    "x = torch.rand(100,12,12)"
   ]
  },
  {
   "cell_type": "code",
   "execution_count": 168,
   "id": "7896051d-0bbd-4a8f-9ec0-7433740301be",
   "metadata": {},
   "outputs": [],
   "source": [
    "model = NLBranchNet()"
   ]
  },
  {
   "cell_type": "code",
   "execution_count": 169,
   "id": "2c48a27e-9518-4d1f-a1a6-53ef0db13906",
   "metadata": {},
   "outputs": [
    {
     "data": {
      "text/plain": [
       "NLBranchNet(\n",
       "  (layers): ModuleList(\n",
       "    (0): Conv2d(1, 16, kernel_size=(3, 3), stride=(1, 1), padding=(2, 2))\n",
       "    (1): ReLU()\n",
       "    (2): BatchNorm2d(16, eps=1e-05, momentum=0.1, affine=True, track_running_stats=True)\n",
       "    (3): Conv2d(16, 32, kernel_size=(3, 3), stride=(1, 1), padding=(1, 1))\n",
       "    (4): ReLU()\n",
       "    (5): BatchNorm2d(32, eps=1e-05, momentum=0.1, affine=True, track_running_stats=True)\n",
       "    (6): Conv2d(32, 16, kernel_size=(3, 3), stride=(1, 1), padding=(1, 1))\n",
       "    (7): ReLU()\n",
       "    (8): Conv2d(16, 1, kernel_size=(3, 3), stride=(1, 1), padding=(1, 1))\n",
       "  )\n",
       ")"
      ]
     },
     "execution_count": 169,
     "metadata": {},
     "output_type": "execute_result"
    }
   ],
   "source": [
    "model"
   ]
  },
  {
   "cell_type": "code",
   "execution_count": 170,
   "id": "c4e5a160-cb80-4ce6-9c77-99817ff7200d",
   "metadata": {},
   "outputs": [
    {
     "data": {
      "text/plain": [
       "9665"
      ]
     },
     "execution_count": 170,
     "metadata": {},
     "output_type": "execute_result"
    }
   ],
   "source": [
    "sum(p.numel() for p in model.parameters())"
   ]
  },
  {
   "cell_type": "code",
   "execution_count": 160,
   "id": "6378b2c6-5d13-4996-bb7b-1d645407c398",
   "metadata": {},
   "outputs": [],
   "source": [
    "class NLBranchNet(nn.Module):\n",
    "    def __init__(self):\n",
    "        super().__init__()\n",
    "        self.layers = nn.ModuleList()\n",
    "        # self.layers.append(ResizeLayer2D(params, input_dim=self.hparams['input_dim'], output_dim=12))\n",
    "        # self.layers.append(UnsqueezeLayer(params))\n",
    "        self.layers.append(nn.ConvTranspose2d(in_channels=1, out_channels=16, kernel_size=4, stride=1))\n",
    "        self.layers.append(nn.ReLU())\n",
    "        self.layers.append(nn.BatchNorm2d(num_features=16))\n",
    "        self.layers.append(nn.ConvTranspose2d(in_channels=16, out_channels=32, kernel_size=4, stride=1))\n",
    "        self.layers.append(nn.ReLU())\n",
    "        self.layers.append(nn.BatchNorm2d(num_features=32))\n",
    "        self.layers.append(nn.ConvTranspose2d(in_channels=32, out_channels=16, kernel_size=2, stride=2))\n",
    "        self.layers.append(nn.ReLU())\n",
    "        self.layers.append(nn.ConvTranspose2d(in_channels=16, out_channels=1, kernel_size=2, stride=2))\n",
    "        # self.layers.append(SqueezeLayer(params))\n",
    "        # self.layers.append(ResizeLayer2D(params, input_dim=72, output_dim=self.hparams['latent_dim']))\n",
    "\n",
    "    def forward(self, x):\n",
    "        x = x.unsqueeze(1)\n",
    "        for layer in self.layers:\n",
    "            x = layer(x)\n",
    "        y = x.squeeze()   \n",
    "        return y"
   ]
  },
  {
   "cell_type": "code",
   "execution_count": 148,
   "id": "7f0c298d-4413-4fcc-9198-c4121091dbc6",
   "metadata": {},
   "outputs": [],
   "source": [
    "model2 = NLBranchNet()"
   ]
  },
  {
   "cell_type": "code",
   "execution_count": 149,
   "id": "7e363ec1-ebf6-42f8-ac75-52e69d3640d9",
   "metadata": {},
   "outputs": [
    {
     "data": {
      "text/plain": [
       "10721"
      ]
     },
     "execution_count": 149,
     "metadata": {},
     "output_type": "execute_result"
    }
   ],
   "source": [
    "sum(p.numel() for p in model2.parameters())"
   ]
  },
  {
   "cell_type": "code",
   "execution_count": null,
   "id": "ffdbc7ae-4897-4ca4-92d3-4e6b2a6db1bd",
   "metadata": {},
   "outputs": [],
   "source": []
  }
 ],
 "metadata": {
  "kernelspec": {
   "display_name": "Python 3 (ipykernel)",
   "language": "python",
   "name": "python3"
  },
  "language_info": {
   "codemirror_mode": {
    "name": "ipython",
    "version": 3
   },
   "file_extension": ".py",
   "mimetype": "text/x-python",
   "name": "python",
   "nbconvert_exporter": "python",
   "pygments_lexer": "ipython3",
   "version": "3.10.9"
  }
 },
 "nbformat": 4,
 "nbformat_minor": 5
}
